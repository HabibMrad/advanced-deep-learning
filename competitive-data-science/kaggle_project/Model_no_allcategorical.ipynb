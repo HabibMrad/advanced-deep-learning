{
 "cells": [
  {
   "cell_type": "code",
   "execution_count": 4,
   "metadata": {},
   "outputs": [],
   "source": [
    "import pandas as pd\n",
    "import numpy as np\n",
    "import os\n",
    "import matplotlib.pyplot as plt\n",
    "import seaborn as sns\n",
    "sns.set()\n",
    "sns.set_context(\"talk\")\n",
    "%matplotlib inline\n",
    "import matplotlib as mpl\n",
    "mpl.rcParams['figure.figsize'] = (12, 6)\n",
    "pd.set_option('display.float_format', lambda x: '%.3f' % x)\n",
    "from collections import Counter\n",
    "import xgboost as xgb\n",
    "import pickle\n",
    "from sklearn.metrics import mean_squared_error,r2_score\n",
    "import lightgbm as lgb"
   ]
  },
  {
   "cell_type": "code",
   "execution_count": 5,
   "metadata": {},
   "outputs": [],
   "source": [
    "DATA_FOLDER = '../readonly/final_project_data/'\n",
    "\n",
    "transactions = pd.read_csv(os.path.join(DATA_FOLDER, 'sales_train.csv.gz'))\n",
    "items = pd.read_csv(os.path.join(DATA_FOLDER, 'items.csv'))\n",
    "item_categories = pd.read_csv(os.path.join(DATA_FOLDER, 'item_categories.csv'))\n",
    "shops = pd.read_csv(os.path.join(DATA_FOLDER, 'shops.csv'))\n",
    "test = pd.read_csv(os.path.join(DATA_FOLDER, 'test.csv.gz'))\n"
   ]
  },
  {
   "cell_type": "code",
   "execution_count": 6,
   "metadata": {
    "scrolled": true
   },
   "outputs": [],
   "source": [
    "dataset=(transactions\n",
    " .merge(items.drop(columns=\"item_name\"),how=\"left\")\n",
    " .assign(month=lambda x: x.eval(\"date_block_num%12+1\"),year=lambda x: (x.date_block_num/12+2013).astype(int))\n",
    " .drop(columns=\"date\")\n",
    "\n",
    ")"
   ]
  },
  {
   "cell_type": "markdown",
   "metadata": {},
   "source": [
    "# Backfilling "
   ]
  },
  {
   "cell_type": "code",
   "execution_count": 7,
   "metadata": {},
   "outputs": [],
   "source": [
    "#If a shop has never sold X, it won't sell it in test"
   ]
  },
  {
   "cell_type": "code",
   "execution_count": 8,
   "metadata": {
    "scrolled": true
   },
   "outputs": [],
   "source": [
    "test_combis=test.assign(shop_item=lambda x: x.shop_id.astype(str)+\"-\"+x.item_id.astype(str)).shop_item"
   ]
  },
  {
   "cell_type": "code",
   "execution_count": 9,
   "metadata": {},
   "outputs": [],
   "source": [
    "train_combis=transactions.groupby([\"shop_id\",\"item_id\"]).count().reset_index().assign(shop_item=lambda x: x.shop_id.astype(str)+\"-\"+x.item_id.astype(str)).shop_item"
   ]
  },
  {
   "cell_type": "code",
   "execution_count": 10,
   "metadata": {},
   "outputs": [],
   "source": [
    "test_combis=set(test_combis)"
   ]
  },
  {
   "cell_type": "code",
   "execution_count": 11,
   "metadata": {},
   "outputs": [],
   "source": [
    "train_combis=set(train_combis)"
   ]
  },
  {
   "cell_type": "code",
   "execution_count": 12,
   "metadata": {},
   "outputs": [
    {
     "data": {
      "text/plain": [
       "102796"
      ]
     },
     "execution_count": 12,
     "metadata": {},
     "output_type": "execute_result"
    }
   ],
   "source": [
    "#Combinations never seen before\n",
    "len(test_combis-train_combis)"
   ]
  },
  {
   "cell_type": "code",
   "execution_count": 13,
   "metadata": {},
   "outputs": [
    {
     "data": {
      "text/plain": [
       "363"
      ]
     },
     "metadata": {},
     "output_type": "display_data"
    },
    {
     "data": {
      "text/plain": [
       "21807"
      ]
     },
     "metadata": {},
     "output_type": "display_data"
    }
   ],
   "source": [
    "#Items never seen before\n",
    "test_items=set(test.item_id)\n",
    "train_items=set(transactions.item_id)\n",
    "display(len(test_items-train_items))\n",
    "display(len(train_items))"
   ]
  },
  {
   "cell_type": "code",
   "execution_count": 14,
   "metadata": {},
   "outputs": [
    {
     "data": {
      "text/plain": [
       "0"
      ]
     },
     "metadata": {},
     "output_type": "display_data"
    },
    {
     "data": {
      "text/plain": [
       "60"
      ]
     },
     "metadata": {},
     "output_type": "display_data"
    }
   ],
   "source": [
    "#Shops never seen before\n",
    "test_shops=set(test.shop_id)\n",
    "train_shops=set(transactions.shop_id)\n",
    "display(len(test_shops-train_shops))\n",
    "display(len(train_shops))"
   ]
  },
  {
   "cell_type": "markdown",
   "metadata": {},
   "source": [
    "Items can be mean-encoded by taking their mean and std, some products are highly variable. And then, within each shop, we will also include the same features"
   ]
  },
  {
   "cell_type": "markdown",
   "metadata": {},
   "source": [
    "## Encoding of prices"
   ]
  },
  {
   "cell_type": "code",
   "execution_count": 15,
   "metadata": {},
   "outputs": [
    {
     "data": {
      "text/html": [
       "<div>\n",
       "<style scoped>\n",
       "    .dataframe tbody tr th:only-of-type {\n",
       "        vertical-align: middle;\n",
       "    }\n",
       "\n",
       "    .dataframe tbody tr th {\n",
       "        vertical-align: top;\n",
       "    }\n",
       "\n",
       "    .dataframe thead th {\n",
       "        text-align: right;\n",
       "    }\n",
       "</style>\n",
       "<table border=\"1\" class=\"dataframe\">\n",
       "  <thead>\n",
       "    <tr style=\"text-align: right;\">\n",
       "      <th></th>\n",
       "      <th>item_id</th>\n",
       "      <th>mean_by_item</th>\n",
       "      <th>median_by_item</th>\n",
       "      <th>max_by_item</th>\n",
       "    </tr>\n",
       "  </thead>\n",
       "  <tbody>\n",
       "    <tr>\n",
       "      <th>0</th>\n",
       "      <td>0</td>\n",
       "      <td>58.000</td>\n",
       "      <td>58.000</td>\n",
       "      <td>58.000</td>\n",
       "    </tr>\n",
       "    <tr>\n",
       "      <th>1</th>\n",
       "      <td>1</td>\n",
       "      <td>4490.000</td>\n",
       "      <td>4490.000</td>\n",
       "      <td>4490.000</td>\n",
       "    </tr>\n",
       "  </tbody>\n",
       "</table>\n",
       "</div>"
      ],
      "text/plain": [
       "   item_id  mean_by_item  median_by_item  max_by_item\n",
       "0        0        58.000          58.000       58.000\n",
       "1        1      4490.000        4490.000     4490.000"
      ]
     },
     "execution_count": 15,
     "metadata": {},
     "output_type": "execute_result"
    }
   ],
   "source": [
    "item_price=dataset.query(\"year>2013\").groupby(\"item_id\").item_price.agg([\"mean\",\"median\",\"max\"]).fillna(0)\n",
    "item_price.columns=[\"mean_by_item\",\"median_by_item\",\"max_by_item\"]\n",
    "item_price.reset_index(inplace=True)\n",
    "item_price.head(2)"
   ]
  },
  {
   "cell_type": "code",
   "execution_count": 16,
   "metadata": {
    "scrolled": true
   },
   "outputs": [
    {
     "data": {
      "text/html": [
       "<div>\n",
       "<style scoped>\n",
       "    .dataframe tbody tr th:only-of-type {\n",
       "        vertical-align: middle;\n",
       "    }\n",
       "\n",
       "    .dataframe tbody tr th {\n",
       "        vertical-align: top;\n",
       "    }\n",
       "\n",
       "    .dataframe thead th {\n",
       "        text-align: right;\n",
       "    }\n",
       "</style>\n",
       "<table border=\"1\" class=\"dataframe\">\n",
       "  <thead>\n",
       "    <tr style=\"text-align: right;\">\n",
       "      <th></th>\n",
       "      <th>item_id</th>\n",
       "      <th>shop_id</th>\n",
       "      <th>mean_by_shop</th>\n",
       "      <th>std_by_shop</th>\n",
       "      <th>median_by_shop</th>\n",
       "      <th>max_by_shop</th>\n",
       "    </tr>\n",
       "  </thead>\n",
       "  <tbody>\n",
       "    <tr>\n",
       "      <th>0</th>\n",
       "      <td>0</td>\n",
       "      <td>54</td>\n",
       "      <td>58.000</td>\n",
       "      <td>0.000</td>\n",
       "      <td>58.000</td>\n",
       "      <td>58.000</td>\n",
       "    </tr>\n",
       "    <tr>\n",
       "      <th>1</th>\n",
       "      <td>1</td>\n",
       "      <td>55</td>\n",
       "      <td>4490.000</td>\n",
       "      <td>0.000</td>\n",
       "      <td>4490.000</td>\n",
       "      <td>4490.000</td>\n",
       "    </tr>\n",
       "  </tbody>\n",
       "</table>\n",
       "</div>"
      ],
      "text/plain": [
       "   item_id  shop_id  mean_by_shop  std_by_shop  median_by_shop  max_by_shop\n",
       "0        0       54        58.000        0.000          58.000       58.000\n",
       "1        1       55      4490.000        0.000        4490.000     4490.000"
      ]
     },
     "execution_count": 16,
     "metadata": {},
     "output_type": "execute_result"
    }
   ],
   "source": [
    "shop_price=dataset.query(\"year>2013\").groupby([\"item_id\",\"shop_id\"]).item_price.agg([\"mean\",\"std\",\"median\",\"max\"]).fillna(0).reset_index()\n",
    "shop_price.rename(columns={\"mean\":\"mean_by_shop\",\"std\":\"std_by_shop\",\n",
    "                           \"median\":\"median_by_shop\",\"max\":\"max_by_shop\"},inplace=True)\n",
    "shop_price.head(2)"
   ]
  },
  {
   "cell_type": "code",
   "execution_count": 17,
   "metadata": {},
   "outputs": [
    {
     "data": {
      "text/html": [
       "<div>\n",
       "<style scoped>\n",
       "    .dataframe tbody tr th:only-of-type {\n",
       "        vertical-align: middle;\n",
       "    }\n",
       "\n",
       "    .dataframe tbody tr th {\n",
       "        vertical-align: top;\n",
       "    }\n",
       "\n",
       "    .dataframe thead th {\n",
       "        text-align: right;\n",
       "    }\n",
       "</style>\n",
       "<table border=\"1\" class=\"dataframe\">\n",
       "  <thead>\n",
       "    <tr style=\"text-align: right;\">\n",
       "      <th></th>\n",
       "      <th>item_category_id</th>\n",
       "      <th>mean_by_item_cat</th>\n",
       "      <th>std_by_item_cat</th>\n",
       "      <th>max_by_item_cat</th>\n",
       "      <th>min_by_item_cat</th>\n",
       "    </tr>\n",
       "  </thead>\n",
       "  <tbody>\n",
       "    <tr>\n",
       "      <th>0</th>\n",
       "      <td>2</td>\n",
       "      <td>2410.482</td>\n",
       "      <td>1129.737</td>\n",
       "      <td>6090.000</td>\n",
       "      <td>148.000</td>\n",
       "    </tr>\n",
       "    <tr>\n",
       "      <th>1</th>\n",
       "      <td>3</td>\n",
       "      <td>2296.795</td>\n",
       "      <td>1452.959</td>\n",
       "      <td>7490.000</td>\n",
       "      <td>122.590</td>\n",
       "    </tr>\n",
       "  </tbody>\n",
       "</table>\n",
       "</div>"
      ],
      "text/plain": [
       "   item_category_id  mean_by_item_cat  std_by_item_cat  max_by_item_cat  \\\n",
       "0                 2          2410.482         1129.737         6090.000   \n",
       "1                 3          2296.795         1452.959         7490.000   \n",
       "\n",
       "   min_by_item_cat  \n",
       "0          148.000  \n",
       "1          122.590  "
      ]
     },
     "execution_count": 17,
     "metadata": {},
     "output_type": "execute_result"
    }
   ],
   "source": [
    "item_price_cat=dataset.query(\"year>2013\").groupby(\"item_category_id\").item_price.agg([\"mean\",\"std\",\"max\",\"min\"]).fillna(0)\n",
    "item_price_cat.columns=[\"mean_by_item_cat\",\"std_by_item_cat\",\"max_by_item_cat\",\"min_by_item_cat\"]\n",
    "item_price_cat.reset_index(inplace=True)\n",
    "item_price_cat.head(2)"
   ]
  },
  {
   "cell_type": "code",
   "execution_count": 18,
   "metadata": {},
   "outputs": [
    {
     "data": {
      "text/html": [
       "<div>\n",
       "<style scoped>\n",
       "    .dataframe tbody tr th:only-of-type {\n",
       "        vertical-align: middle;\n",
       "    }\n",
       "\n",
       "    .dataframe tbody tr th {\n",
       "        vertical-align: top;\n",
       "    }\n",
       "\n",
       "    .dataframe thead th {\n",
       "        text-align: right;\n",
       "    }\n",
       "</style>\n",
       "<table border=\"1\" class=\"dataframe\">\n",
       "  <thead>\n",
       "    <tr style=\"text-align: right;\">\n",
       "      <th></th>\n",
       "      <th>item_category_id</th>\n",
       "      <th>shop_id</th>\n",
       "      <th>mean_by_shop_cat</th>\n",
       "    </tr>\n",
       "  </thead>\n",
       "  <tbody>\n",
       "    <tr>\n",
       "      <th>0</th>\n",
       "      <td>2</td>\n",
       "      <td>2</td>\n",
       "      <td>2369.329</td>\n",
       "    </tr>\n",
       "    <tr>\n",
       "      <th>1</th>\n",
       "      <td>2</td>\n",
       "      <td>3</td>\n",
       "      <td>2331.891</td>\n",
       "    </tr>\n",
       "  </tbody>\n",
       "</table>\n",
       "</div>"
      ],
      "text/plain": [
       "   item_category_id  shop_id  mean_by_shop_cat\n",
       "0                 2        2          2369.329\n",
       "1                 2        3          2331.891"
      ]
     },
     "execution_count": 18,
     "metadata": {},
     "output_type": "execute_result"
    }
   ],
   "source": [
    "shop_price_cat=dataset.query(\"year>2013\").groupby([\"item_category_id\",\"shop_id\"]).item_price.agg([\"mean\"]).fillna(0).reset_index()\n",
    "shop_price_cat.rename(columns={\"mean\":\"mean_by_shop_cat\"},inplace=True)\n",
    "shop_price_cat.head(2)"
   ]
  },
  {
   "cell_type": "markdown",
   "metadata": {},
   "source": [
    "# Encoding of items sold"
   ]
  },
  {
   "cell_type": "code",
   "execution_count": 19,
   "metadata": {},
   "outputs": [
    {
     "data": {
      "text/html": [
       "<div>\n",
       "<style scoped>\n",
       "    .dataframe tbody tr th:only-of-type {\n",
       "        vertical-align: middle;\n",
       "    }\n",
       "\n",
       "    .dataframe tbody tr th {\n",
       "        vertical-align: top;\n",
       "    }\n",
       "\n",
       "    .dataframe thead th {\n",
       "        text-align: right;\n",
       "    }\n",
       "</style>\n",
       "<table border=\"1\" class=\"dataframe\">\n",
       "  <thead>\n",
       "    <tr style=\"text-align: right;\">\n",
       "      <th></th>\n",
       "      <th>item_id</th>\n",
       "      <th>mean_sold</th>\n",
       "      <th>std_sold</th>\n",
       "      <th>median_sold</th>\n",
       "      <th>max_sold</th>\n",
       "    </tr>\n",
       "  </thead>\n",
       "  <tbody>\n",
       "    <tr>\n",
       "      <th>0</th>\n",
       "      <td>0</td>\n",
       "      <td>1.000</td>\n",
       "      <td>0.000</td>\n",
       "      <td>1.000</td>\n",
       "      <td>1.000</td>\n",
       "    </tr>\n",
       "    <tr>\n",
       "      <th>1</th>\n",
       "      <td>1</td>\n",
       "      <td>1.200</td>\n",
       "      <td>0.447</td>\n",
       "      <td>1.000</td>\n",
       "      <td>2.000</td>\n",
       "    </tr>\n",
       "  </tbody>\n",
       "</table>\n",
       "</div>"
      ],
      "text/plain": [
       "   item_id  mean_sold  std_sold  median_sold  max_sold\n",
       "0        0      1.000     0.000        1.000     1.000\n",
       "1        1      1.200     0.447        1.000     2.000"
      ]
     },
     "execution_count": 19,
     "metadata": {},
     "output_type": "execute_result"
    }
   ],
   "source": [
    "item_sold=(dataset.query(\"year>2013\").groupby([\"item_id\",\"date_block_num\"])\n",
    " .item_cnt_day.sum().reset_index()\n",
    " .groupby(\"item_id\").item_cnt_day.agg([\"mean\",\"std\",\"median\",\"max\"]).fillna(0)\n",
    " .reset_index()\n",
    " .rename(columns={\"mean\":\"mean_sold\",\"std\":\"std_sold\",\"median\":\"median_sold\",\"max\":\"max_sold\"})\n",
    ")\n",
    "item_sold.head(2)"
   ]
  },
  {
   "cell_type": "code",
   "execution_count": 20,
   "metadata": {},
   "outputs": [
    {
     "data": {
      "text/html": [
       "<div>\n",
       "<style scoped>\n",
       "    .dataframe tbody tr th:only-of-type {\n",
       "        vertical-align: middle;\n",
       "    }\n",
       "\n",
       "    .dataframe tbody tr th {\n",
       "        vertical-align: top;\n",
       "    }\n",
       "\n",
       "    .dataframe thead th {\n",
       "        text-align: right;\n",
       "    }\n",
       "</style>\n",
       "<table border=\"1\" class=\"dataframe\">\n",
       "  <thead>\n",
       "    <tr style=\"text-align: right;\">\n",
       "      <th></th>\n",
       "      <th>shop_id</th>\n",
       "      <th>mean_sold_shop</th>\n",
       "      <th>std_sold_shop</th>\n",
       "      <th>median_sold</th>\n",
       "      <th>max_sold</th>\n",
       "    </tr>\n",
       "  </thead>\n",
       "  <tbody>\n",
       "    <tr>\n",
       "      <th>0</th>\n",
       "      <td>2</td>\n",
       "      <td>939.045</td>\n",
       "      <td>240.924</td>\n",
       "      <td>908.500</td>\n",
       "      <td>1921.000</td>\n",
       "    </tr>\n",
       "    <tr>\n",
       "      <th>1</th>\n",
       "      <td>3</td>\n",
       "      <td>825.273</td>\n",
       "      <td>175.834</td>\n",
       "      <td>767.000</td>\n",
       "      <td>1275.000</td>\n",
       "    </tr>\n",
       "  </tbody>\n",
       "</table>\n",
       "</div>"
      ],
      "text/plain": [
       "   shop_id  mean_sold_shop  std_sold_shop  median_sold  max_sold\n",
       "0        2         939.045        240.924      908.500  1921.000\n",
       "1        3         825.273        175.834      767.000  1275.000"
      ]
     },
     "execution_count": 20,
     "metadata": {},
     "output_type": "execute_result"
    }
   ],
   "source": [
    "shop_sold=(dataset.query(\"year>2013\").groupby([\"shop_id\",\"date_block_num\"])\n",
    " .item_cnt_day.sum().reset_index()\n",
    " .groupby(\"shop_id\").item_cnt_day.agg([\"mean\",\"std\",\"median\",\"max\"]).fillna(0)\n",
    " .reset_index()\n",
    " .rename(columns={\"mean\":\"mean_sold_shop\",\"std\":\"std_sold_shop\",\"median\":\"median_sold\",\"max\":\"max_sold\"})\n",
    ")\n",
    "shop_sold.head(2)"
   ]
  },
  {
   "cell_type": "code",
   "execution_count": 21,
   "metadata": {},
   "outputs": [
    {
     "data": {
      "text/html": [
       "<div>\n",
       "<style scoped>\n",
       "    .dataframe tbody tr th:only-of-type {\n",
       "        vertical-align: middle;\n",
       "    }\n",
       "\n",
       "    .dataframe tbody tr th {\n",
       "        vertical-align: top;\n",
       "    }\n",
       "\n",
       "    .dataframe thead th {\n",
       "        text-align: right;\n",
       "    }\n",
       "</style>\n",
       "<table border=\"1\" class=\"dataframe\">\n",
       "  <thead>\n",
       "    <tr style=\"text-align: right;\">\n",
       "      <th></th>\n",
       "      <th>item_category_id</th>\n",
       "      <th>mean_sold_category</th>\n",
       "      <th>std_sold_category</th>\n",
       "      <th>max_sold_category</th>\n",
       "      <th>min_sold_category</th>\n",
       "    </tr>\n",
       "  </thead>\n",
       "  <tbody>\n",
       "    <tr>\n",
       "      <th>0</th>\n",
       "      <td>2</td>\n",
       "      <td>375.364</td>\n",
       "      <td>284.702</td>\n",
       "      <td>1339.000</td>\n",
       "      <td>82.000</td>\n",
       "    </tr>\n",
       "    <tr>\n",
       "      <th>1</th>\n",
       "      <td>3</td>\n",
       "      <td>1055.409</td>\n",
       "      <td>441.204</td>\n",
       "      <td>2459.000</td>\n",
       "      <td>559.000</td>\n",
       "    </tr>\n",
       "  </tbody>\n",
       "</table>\n",
       "</div>"
      ],
      "text/plain": [
       "   item_category_id  mean_sold_category  std_sold_category  max_sold_category  \\\n",
       "0                 2             375.364            284.702           1339.000   \n",
       "1                 3            1055.409            441.204           2459.000   \n",
       "\n",
       "   min_sold_category  \n",
       "0             82.000  \n",
       "1            559.000  "
      ]
     },
     "execution_count": 21,
     "metadata": {},
     "output_type": "execute_result"
    }
   ],
   "source": [
    "cat_sold=(dataset.query(\"year>2013\").groupby([\"item_category_id\",\"date_block_num\"])\n",
    " .item_cnt_day.sum().reset_index()\n",
    " .groupby(\"item_category_id\").item_cnt_day.agg([\"mean\",\"std\",\"max\",\"min\"]).fillna(0)\n",
    " .reset_index()\n",
    " .rename(columns={\"mean\":\"mean_sold_category\",\"std\":\"std_sold_category\",\n",
    "                 \"max\":\"max_sold_category\",\"min\":\"min_sold_category\"})\n",
    ")\n",
    "cat_sold.head(2)"
   ]
  },
  {
   "cell_type": "code",
   "execution_count": 22,
   "metadata": {},
   "outputs": [
    {
     "data": {
      "text/html": [
       "<div>\n",
       "<style scoped>\n",
       "    .dataframe tbody tr th:only-of-type {\n",
       "        vertical-align: middle;\n",
       "    }\n",
       "\n",
       "    .dataframe tbody tr th {\n",
       "        vertical-align: top;\n",
       "    }\n",
       "\n",
       "    .dataframe thead th {\n",
       "        text-align: right;\n",
       "    }\n",
       "</style>\n",
       "<table border=\"1\" class=\"dataframe\">\n",
       "  <thead>\n",
       "    <tr style=\"text-align: right;\">\n",
       "      <th></th>\n",
       "      <th>item_category_id</th>\n",
       "      <th>shop_id</th>\n",
       "      <th>mean_sold_category_shop</th>\n",
       "      <th>std_sold_category_shop</th>\n",
       "      <th>median_sold_category_shop</th>\n",
       "    </tr>\n",
       "  </thead>\n",
       "  <tbody>\n",
       "    <tr>\n",
       "      <th>0</th>\n",
       "      <td>2</td>\n",
       "      <td>2</td>\n",
       "      <td>8.211</td>\n",
       "      <td>5.769</td>\n",
       "      <td>7.000</td>\n",
       "    </tr>\n",
       "    <tr>\n",
       "      <th>1</th>\n",
       "      <td>2</td>\n",
       "      <td>3</td>\n",
       "      <td>6.000</td>\n",
       "      <td>3.986</td>\n",
       "      <td>6.000</td>\n",
       "    </tr>\n",
       "  </tbody>\n",
       "</table>\n",
       "</div>"
      ],
      "text/plain": [
       "   item_category_id  shop_id  mean_sold_category_shop  std_sold_category_shop  \\\n",
       "0                 2        2                    8.211                   5.769   \n",
       "1                 2        3                    6.000                   3.986   \n",
       "\n",
       "   median_sold_category_shop  \n",
       "0                      7.000  \n",
       "1                      6.000  "
      ]
     },
     "execution_count": 22,
     "metadata": {},
     "output_type": "execute_result"
    }
   ],
   "source": [
    "shop_cat_sold=(dataset.query(\"year>2013\").groupby([\"item_category_id\",\"shop_id\",\"date_block_num\"])\n",
    " .item_cnt_day.sum().reset_index()\n",
    " .groupby([\"item_category_id\",\"shop_id\"]).item_cnt_day.agg([\"mean\",\"std\",\"median\"]).fillna(0)\n",
    " .reset_index()\n",
    " .rename(columns={\"mean\":\"mean_sold_category_shop\",\"std\":\"std_sold_category_shop\",\n",
    "                  \"median\":\"median_sold_category_shop\"})\n",
    ")\n",
    "shop_cat_sold.head(2)"
   ]
  },
  {
   "cell_type": "code",
   "execution_count": 43,
   "metadata": {},
   "outputs": [],
   "source": [
    "aggregated_data=(dataset\n",
    "                 \n",
    ".drop(columns=[\"year\",\"item_price\",\"month\",\"item_category_id\"])\n",
    " \n",
    ".groupby([\"date_block_num\",\"shop_id\",\"item_id\"]).sum()\n",
    " .reset_index()\n",
    ".assign(item_cnt_day=lambda x: np.clip(x.item_cnt_day,a_min=0,a_max=20))\n",
    ")"
   ]
  },
  {
   "cell_type": "code",
   "execution_count": 45,
   "metadata": {
    "scrolled": false
   },
   "outputs": [
    {
     "data": {
      "text/plain": [
       "<matplotlib.axes._subplots.AxesSubplot at 0x7fdec2513160>"
      ]
     },
     "execution_count": 45,
     "metadata": {},
     "output_type": "execute_result"
    },
    {
     "data": {
      "image/png": "[encoded data removed]",
      "text/plain": [
       "<matplotlib.figure.Figure at 0x7fdec2b13e80>"
      ]
     },
     "metadata": {},
     "output_type": "display_data"
    }
   ],
   "source": [
    "aggregated_data.item_cnt_day.pipe(np.clip,a_min=0,a_max=20).hist(alpha=0.3,density=1,bins=40)\n",
    "(aggregated_data\n",
    " .assign(shop_item=lambda x: x.shop_id.astype(str)+\"-\"+x.item_id.astype(str))\n",
    " .query(\"shop_item in @test_combis\")\n",
    " .item_cnt_day.pipe(np.clip,a_min=0,a_max=20).hist(alpha=0.4,density=1,bins=40)\n",
    ")"
   ]
  },
  {
   "cell_type": "code",
   "execution_count": 25,
   "metadata": {},
   "outputs": [
    {
     "data": {
      "text/plain": [
       "count   600159.000\n",
       "mean         2.278\n",
       "std          2.911\n",
       "min          0.000\n",
       "25%          1.000\n",
       "50%          1.000\n",
       "75%          2.000\n",
       "max         20.000\n",
       "Name: item_cnt_day, dtype: float64"
      ]
     },
     "execution_count": 25,
     "metadata": {},
     "output_type": "execute_result"
    }
   ],
   "source": [
    "(aggregated_data\n",
    " .assign(shop_item=lambda x: x.shop_id.astype(str)+\"-\"+x.item_id.astype(str))\n",
    " .query(\"shop_item in @test_combis\")\n",
    " .item_cnt_day.pipe(np.clip,a_min=0,a_max=20).describe()\n",
    ")"
   ]
  },
  {
   "cell_type": "code",
   "execution_count": 26,
   "metadata": {},
   "outputs": [
    {
     "data": {
      "text/plain": [
       "count   1609124.000\n",
       "mean          2.023\n",
       "std           2.578\n",
       "min           0.000\n",
       "25%           1.000\n",
       "50%           1.000\n",
       "75%           2.000\n",
       "max          20.000\n",
       "Name: item_cnt_day, dtype: float64"
      ]
     },
     "execution_count": 26,
     "metadata": {},
     "output_type": "execute_result"
    }
   ],
   "source": [
    "aggregated_data.item_cnt_day.pipe(np.clip,a_min=0,a_max=20).describe()"
   ]
  },
  {
   "cell_type": "code",
   "execution_count": 63,
   "metadata": {
    "scrolled": true
   },
   "outputs": [],
   "source": [
    "preX=(aggregated_data\n",
    ".assign(month=lambda x: x.eval(\"date_block_num%12+1\"),year=lambda x: (x.date_block_num/12+1).astype(int))\n",
    " .merge(items.drop(columns=\"item_name\"),how=\"left\")\n",
    " \n",
    " .merge(item_price,how=\"left\")\n",
    " .merge(shop_price,how=\"left\")\n",
    " \n",
    " .merge(item_price_cat,how=\"left\")\n",
    " .merge(shop_price_cat,how=\"left\")\n",
    " \n",
    " .merge(item_sold,how=\"left\")\n",
    " .merge(shop_sold,how=\"left\")\n",
    " .merge(cat_sold,how=\"left\")\n",
    " .merge(shop_cat_sold,how=\"left\")\n",
    "\n",
    "\n",
    ")\n",
    "past_month=(preX.groupby([\"item_id\",\"shop_id\",\"date_block_num\"])\n",
    " .item_cnt_day.sum().reset_index()\n",
    " .assign(date_block_num=lambda x: x.date_block_num+1)\n",
    " .query(\"date_block_num>=0\")\n",
    " .rename(columns={\"item_cnt_day\":\"prev_month_value1\"})\n",
    ")\n",
    "\n",
    "past_month2=(preX.groupby([\"item_id\",\"shop_id\",\"date_block_num\"])\n",
    " .item_cnt_day.sum().reset_index()\n",
    " .assign(date_block_num=lambda x: x.date_block_num+2)\n",
    " .rename(columns={\"item_cnt_day\":\"prev_month_value2\"})\n",
    ")\n",
    "\n",
    "past_month3=(preX.groupby([\"item_id\",\"shop_id\",\"date_block_num\"])\n",
    " .item_cnt_day.sum().reset_index()\n",
    " .assign(date_block_num=lambda x: x.date_block_num+3)\n",
    " .rename(columns={\"item_cnt_day\":\"prev_month_value3\"})\n",
    ")\n",
    "\n",
    "past_month4=(preX.groupby([\"item_id\",\"shop_id\",\"date_block_num\"])\n",
    " .item_cnt_day.sum().reset_index()\n",
    " .assign(date_block_num=lambda x: x.date_block_num+4)\n",
    " .rename(columns={\"item_cnt_day\":\"prev_month_value4\"})\n",
    ")\n",
    "\n",
    "past_month5=(preX.groupby([\"item_id\",\"shop_id\",\"date_block_num\"])\n",
    " .item_cnt_day.sum().reset_index()\n",
    " .assign(date_block_num=lambda x: x.date_block_num+5)\n",
    " .rename(columns={\"item_cnt_day\":\"prev_month_value5\"})\n",
    ")\n",
    "\n",
    "past_month6=(preX.groupby([\"item_id\",\"shop_id\",\"date_block_num\"])\n",
    " .item_cnt_day.sum().reset_index()\n",
    " .assign(date_block_num=lambda x: x.date_block_num+6)\n",
    " .rename(columns={\"item_cnt_day\":\"prev_month_value6\"})\n",
    ")\n",
    "\n",
    "\n",
    "past=[\"prev_month_value\"+str(i) for i in range(1,7)]\n",
    "preX2=(preX\n",
    "       .merge(past_month,how=\"left\")\n",
    "       .merge(past_month2,how=\"left\")\n",
    "       .merge(past_month3,how=\"left\")\n",
    "       .merge(past_month4,how=\"left\")\n",
    "       .merge(past_month5,how=\"left\")\n",
    "       .merge(past_month6,how=\"left\")\n",
    "\n",
    "       \n",
    "      # .drop(columns=[\"shop_id\",\"item_id\",\"item_category_id\"])\n",
    "      )\n",
    "preX2[past]=preX2[past].fillna(0)\n",
    "\n",
    "preX2=preX2.sample(frac=1,replace=False)"
   ]
  },
  {
   "cell_type": "code",
   "execution_count": 64,
   "metadata": {
    "scrolled": true
   },
   "outputs": [],
   "source": [
    "preX2[[\"shop_id\",\"item_id\",\"item_category_id\"]]= \\\n",
    "preX2[[\"shop_id\",\"item_id\",\"item_category_id\"]].apply(pd.Categorical,axis=0)\n"
   ]
  },
  {
   "cell_type": "code",
   "execution_count": 65,
   "metadata": {
    "scrolled": true
   },
   "outputs": [],
   "source": [
    "#Drop combinations that are not in the set of the combinations of the last 6 months\n",
    "recent=\"date_block_num>=(33-6)\"\n",
    "recent_not=\"date_block_num<(33-6)\"\n",
    "shops_drop=preX2.query(recent).shop_id.astype(int).unique()\n",
    "items_drop=preX2.query(recent).item_id.astype(int).unique()\n",
    "\n",
    "shops_drop_old=preX2.query(recent_not).shop_id.astype(int).unique()\n",
    "items_drop_old=preX2.query(recent_not).item_id.astype(int).unique()"
   ]
  },
  {
   "cell_type": "code",
   "execution_count": 66,
   "metadata": {},
   "outputs": [],
   "source": [
    "preX2=preX2.query(\"shop_id in @shops_drop\").copy()"
   ]
  },
  {
   "cell_type": "code",
   "execution_count": 67,
   "metadata": {},
   "outputs": [],
   "source": [
    "preX2.drop(columns=[\"item_id\",\"shop_id\",\"item_category_id\"],inplace=True)"
   ]
  },
  {
   "cell_type": "code",
   "execution_count": 68,
   "metadata": {},
   "outputs": [],
   "source": [
    "validation=\"(year==3 and month in [10])\"\n",
    "\n",
    "X_val = preX2.query(validation).drop(\n",
    "    columns=[\"item_cnt_day\",\"date_block_num\",\"year\",\"month\"])\n",
    "y_val = preX2.query(validation).item_cnt_day.pipe(\n",
    "    np.clip, a_max=20, a_min=0)\n",
    "\n",
    "training=\"not \"+validation\n",
    "X_train = preX2.query(training).drop(\n",
    "    columns=[\"item_cnt_day\",\"date_block_num\",\"year\",\"month\"])\n",
    "y_train = preX2.query(training).item_cnt_day.pipe(\n",
    "    np.clip, a_max=20, a_min=0)\n",
    "X_train.loc[:,X_train.dtypes==\"float64\"]=X_train.loc[:,X_train.dtypes==\"float64\"].astype(np.float32)\n",
    "X_val.loc[:,X_val.dtypes==\"float64\"]=X_val.loc[:,X_val.dtypes==\"float64\"].astype(np.float32)"
   ]
  },
  {
   "cell_type": "code",
   "execution_count": 69,
   "metadata": {
    "scrolled": true
   },
   "outputs": [
    {
     "name": "stdout",
     "output_type": "stream",
     "text": [
      "(1474537, 31)\n",
      "(31531, 31)\n"
     ]
    }
   ],
   "source": [
    "print(X_train.shape)\n",
    "print(X_val.shape)"
   ]
  },
  {
   "cell_type": "code",
   "execution_count": 70,
   "metadata": {},
   "outputs": [
    {
     "data": {
      "text/html": [
       "<div>\n",
       "<style scoped>\n",
       "    .dataframe tbody tr th:only-of-type {\n",
       "        vertical-align: middle;\n",
       "    }\n",
       "\n",
       "    .dataframe tbody tr th {\n",
       "        vertical-align: top;\n",
       "    }\n",
       "\n",
       "    .dataframe thead th {\n",
       "        text-align: right;\n",
       "    }\n",
       "</style>\n",
       "<table border=\"1\" class=\"dataframe\">\n",
       "  <thead>\n",
       "    <tr style=\"text-align: right;\">\n",
       "      <th></th>\n",
       "      <th>prev_month_value1</th>\n",
       "      <th>item_cnt_day</th>\n",
       "      <th>prev_month_value2</th>\n",
       "      <th>prev_month_value3</th>\n",
       "      <th>prev_month_value4</th>\n",
       "      <th>prev_month_value5</th>\n",
       "    </tr>\n",
       "  </thead>\n",
       "  <tbody>\n",
       "    <tr>\n",
       "      <th>prev_month_value1</th>\n",
       "      <td>1.000</td>\n",
       "      <td>0.526</td>\n",
       "      <td>0.570</td>\n",
       "      <td>0.417</td>\n",
       "      <td>0.345</td>\n",
       "      <td>0.300</td>\n",
       "    </tr>\n",
       "    <tr>\n",
       "      <th>item_cnt_day</th>\n",
       "      <td>0.526</td>\n",
       "      <td>1.000</td>\n",
       "      <td>0.368</td>\n",
       "      <td>0.301</td>\n",
       "      <td>0.261</td>\n",
       "      <td>0.239</td>\n",
       "    </tr>\n",
       "    <tr>\n",
       "      <th>prev_month_value2</th>\n",
       "      <td>0.570</td>\n",
       "      <td>0.368</td>\n",
       "      <td>1.000</td>\n",
       "      <td>0.595</td>\n",
       "      <td>0.444</td>\n",
       "      <td>0.371</td>\n",
       "    </tr>\n",
       "    <tr>\n",
       "      <th>prev_month_value3</th>\n",
       "      <td>0.417</td>\n",
       "      <td>0.301</td>\n",
       "      <td>0.595</td>\n",
       "      <td>1.000</td>\n",
       "      <td>0.613</td>\n",
       "      <td>0.466</td>\n",
       "    </tr>\n",
       "    <tr>\n",
       "      <th>prev_month_value4</th>\n",
       "      <td>0.345</td>\n",
       "      <td>0.261</td>\n",
       "      <td>0.444</td>\n",
       "      <td>0.613</td>\n",
       "      <td>1.000</td>\n",
       "      <td>0.626</td>\n",
       "    </tr>\n",
       "    <tr>\n",
       "      <th>prev_month_value5</th>\n",
       "      <td>0.300</td>\n",
       "      <td>0.239</td>\n",
       "      <td>0.371</td>\n",
       "      <td>0.466</td>\n",
       "      <td>0.626</td>\n",
       "      <td>1.000</td>\n",
       "    </tr>\n",
       "  </tbody>\n",
       "</table>\n",
       "</div>"
      ],
      "text/plain": [
       "                   prev_month_value1  item_cnt_day  prev_month_value2  \\\n",
       "prev_month_value1              1.000         0.526              0.570   \n",
       "item_cnt_day                   0.526         1.000              0.368   \n",
       "prev_month_value2              0.570         0.368              1.000   \n",
       "prev_month_value3              0.417         0.301              0.595   \n",
       "prev_month_value4              0.345         0.261              0.444   \n",
       "prev_month_value5              0.300         0.239              0.371   \n",
       "\n",
       "                   prev_month_value3  prev_month_value4  prev_month_value5  \n",
       "prev_month_value1              0.417              0.345              0.300  \n",
       "item_cnt_day                   0.301              0.261              0.239  \n",
       "prev_month_value2              0.595              0.444              0.371  \n",
       "prev_month_value3              1.000              0.613              0.466  \n",
       "prev_month_value4              0.613              1.000              0.626  \n",
       "prev_month_value5              0.466              0.626              1.000  "
      ]
     },
     "execution_count": 70,
     "metadata": {},
     "output_type": "execute_result"
    }
   ],
   "source": [
    "preX2[[\"prev_month_value1\",\"item_cnt_day\",\"prev_month_value2\",\"prev_month_value3\",\n",
    "      \"prev_month_value4\",\"prev_month_value5\"]].corr()"
   ]
  },
  {
   "cell_type": "markdown",
   "metadata": {
    "heading_collapsed": true
   },
   "source": [
    "## LightGBM"
   ]
  },
  {
   "cell_type": "code",
   "execution_count": null,
   "metadata": {
    "hidden": true
   },
   "outputs": [],
   "source": [
    "# train_data=lgb.Dataset(X_train,y_train)\n",
    "# val_data=lgb.Dataset(X_val,y_val)\n"
   ]
  },
  {
   "cell_type": "code",
   "execution_count": null,
   "metadata": {
    "hidden": true,
    "scrolled": true
   },
   "outputs": [],
   "source": [
    "# param = {'num_leaves': 64,\n",
    "#              'objective': 'regression',\n",
    "#             \"metric\":[\"l2_root\"],\n",
    "#             \"learning_rate\":0.001,\n",
    "#             \"max_depth\":-1,\n",
    "#             \"seed\":12,\n",
    "#          \"max_bin\":1024\n",
    "# }\n",
    "\n",
    "# gbm = lgb.train(param, train_data,num_boost_round=10000, valid_sets=[val_data],\n",
    "#                     early_stopping_rounds=100,verbose_eval=100)\n"
   ]
  },
  {
   "cell_type": "code",
   "execution_count": null,
   "metadata": {
    "hidden": true,
    "scrolled": true
   },
   "outputs": [],
   "source": [
    "# pd.DataFrame({\"cols\":gbm.feature_name(),\"im\":gbm.feature_importance()})"
   ]
  },
  {
   "cell_type": "code",
   "execution_count": null,
   "metadata": {
    "hidden": true
   },
   "outputs": [],
   "source": [
    "# y_pred=np.clip(gbm.predict(X_train, num_iteration=gbm.best_iteration),a_max=20,a_min=0)\n",
    "# print('The rmse of prediction is:', mean_squared_error(y_train,y_pred) ** 0.5)\n",
    "# print('The r2 is:',r2_score(y_train, y_pred))\n",
    "\n",
    "# y_pred=np.clip(gbm.predict(X_val, num_iteration=gbm.best_iteration),a_max=20,a_min=0)\n",
    "\n",
    "# print('The rmse of prediction is:', mean_squared_error(y_val,y_pred) ** 0.5)\n",
    "# print('The r2 is:',r2_score(y_val, y_pred))"
   ]
  },
  {
   "cell_type": "markdown",
   "metadata": {},
   "source": [
    "## XGBoost"
   ]
  },
  {
   "cell_type": "code",
   "execution_count": 55,
   "metadata": {},
   "outputs": [],
   "source": [
    "from xgboost import XGBRegressor\n",
    "import xgboost\n",
    "xgb =  XGBRegressor(nthread=4,n_estimators=20,\n",
    "                    learning_rate=0.05,\n",
    "                    base_score=2,max_depth=7,\n",
    "                    gamma=0,\n",
    "                    subsample=0.75,\n",
    "                    colsample_bytree=1\n",
    "                  )"
   ]
  },
  {
   "cell_type": "code",
   "execution_count": 56,
   "metadata": {
    "scrolled": true
   },
   "outputs": [
    {
     "name": "stdout",
     "output_type": "stream",
     "text": [
      "[0]\tvalidation_0-rmse:2.49839\n",
      "Will train until validation_0-rmse hasn't improved in 50 rounds.\n",
      "[1]\tvalidation_0-rmse:2.44829\n",
      "[2]\tvalidation_0-rmse:2.40061\n",
      "[3]\tvalidation_0-rmse:2.36818\n"
     ]
    },
    {
     "ename": "KeyboardInterrupt",
     "evalue": "",
     "output_type": "error",
     "traceback": [
      "\u001b[0;31m---------------------------------------------------------------------------\u001b[0m",
      "\u001b[0;31mKeyboardInterrupt\u001b[0m                         Traceback (most recent call last)",
      "\u001b[0;32m<ipython-input-56-40f99c5a2d9f>\u001b[0m in \u001b[0;36m<module>\u001b[0;34m()\u001b[0m\n\u001b[1;32m      1\u001b[0m xgb.fit(X_train,y_train,eval_set=[(X_val,y_val)],verbose=True,\n\u001b[0;32m----> 2\u001b[0;31m        eval_metric=\"rmse\",early_stopping_rounds=50)\n\u001b[0m",
      "\u001b[0;32m~/scratch/venv/lib/python3.6/site-packages/xgboost-0.6-py3.6.egg/xgboost/sklearn.py\u001b[0m in \u001b[0;36mfit\u001b[0;34m(self, X, y, sample_weight, eval_set, eval_metric, early_stopping_rounds, verbose, xgb_model)\u001b[0m\n\u001b[1;32m    292\u001b[0m                               \u001b[0mearly_stopping_rounds\u001b[0m\u001b[0;34m=\u001b[0m\u001b[0mearly_stopping_rounds\u001b[0m\u001b[0;34m,\u001b[0m\u001b[0;34m\u001b[0m\u001b[0m\n\u001b[1;32m    293\u001b[0m                               \u001b[0mevals_result\u001b[0m\u001b[0;34m=\u001b[0m\u001b[0mevals_result\u001b[0m\u001b[0;34m,\u001b[0m \u001b[0mobj\u001b[0m\u001b[0;34m=\u001b[0m\u001b[0mobj\u001b[0m\u001b[0;34m,\u001b[0m \u001b[0mfeval\u001b[0m\u001b[0;34m=\u001b[0m\u001b[0mfeval\u001b[0m\u001b[0;34m,\u001b[0m\u001b[0;34m\u001b[0m\u001b[0m\n\u001b[0;32m--> 294\u001b[0;31m                               verbose_eval=verbose, xgb_model=xgb_model)\n\u001b[0m\u001b[1;32m    295\u001b[0m \u001b[0;34m\u001b[0m\u001b[0m\n\u001b[1;32m    296\u001b[0m         \u001b[0;32mif\u001b[0m \u001b[0mevals_result\u001b[0m\u001b[0;34m:\u001b[0m\u001b[0;34m\u001b[0m\u001b[0m\n",
      "\u001b[0;32m~/scratch/venv/lib/python3.6/site-packages/xgboost-0.6-py3.6.egg/xgboost/training.py\u001b[0m in \u001b[0;36mtrain\u001b[0;34m(params, dtrain, num_boost_round, evals, obj, feval, maximize, early_stopping_rounds, evals_result, verbose_eval, xgb_model, callbacks, learning_rates)\u001b[0m\n\u001b[1;32m    202\u001b[0m                            \u001b[0mevals\u001b[0m\u001b[0;34m=\u001b[0m\u001b[0mevals\u001b[0m\u001b[0;34m,\u001b[0m\u001b[0;34m\u001b[0m\u001b[0m\n\u001b[1;32m    203\u001b[0m                            \u001b[0mobj\u001b[0m\u001b[0;34m=\u001b[0m\u001b[0mobj\u001b[0m\u001b[0;34m,\u001b[0m \u001b[0mfeval\u001b[0m\u001b[0;34m=\u001b[0m\u001b[0mfeval\u001b[0m\u001b[0;34m,\u001b[0m\u001b[0;34m\u001b[0m\u001b[0m\n\u001b[0;32m--> 204\u001b[0;31m                            xgb_model=xgb_model, callbacks=callbacks)\n\u001b[0m\u001b[1;32m    205\u001b[0m \u001b[0;34m\u001b[0m\u001b[0m\n\u001b[1;32m    206\u001b[0m \u001b[0;34m\u001b[0m\u001b[0m\n",
      "\u001b[0;32m~/scratch/venv/lib/python3.6/site-packages/xgboost-0.6-py3.6.egg/xgboost/training.py\u001b[0m in \u001b[0;36m_train_internal\u001b[0;34m(params, dtrain, num_boost_round, evals, obj, feval, xgb_model, callbacks)\u001b[0m\n\u001b[1;32m     72\u001b[0m         \u001b[0;31m# Skip the first update if it is a recovery step.\u001b[0m\u001b[0;34m\u001b[0m\u001b[0;34m\u001b[0m\u001b[0m\n\u001b[1;32m     73\u001b[0m         \u001b[0;32mif\u001b[0m \u001b[0mversion\u001b[0m \u001b[0;34m%\u001b[0m \u001b[0;36m2\u001b[0m \u001b[0;34m==\u001b[0m \u001b[0;36m0\u001b[0m\u001b[0;34m:\u001b[0m\u001b[0;34m\u001b[0m\u001b[0m\n\u001b[0;32m---> 74\u001b[0;31m             \u001b[0mbst\u001b[0m\u001b[0;34m.\u001b[0m\u001b[0mupdate\u001b[0m\u001b[0;34m(\u001b[0m\u001b[0mdtrain\u001b[0m\u001b[0;34m,\u001b[0m \u001b[0mi\u001b[0m\u001b[0;34m,\u001b[0m \u001b[0mobj\u001b[0m\u001b[0;34m)\u001b[0m\u001b[0;34m\u001b[0m\u001b[0m\n\u001b[0m\u001b[1;32m     75\u001b[0m             \u001b[0mbst\u001b[0m\u001b[0;34m.\u001b[0m\u001b[0msave_rabit_checkpoint\u001b[0m\u001b[0;34m(\u001b[0m\u001b[0;34m)\u001b[0m\u001b[0;34m\u001b[0m\u001b[0m\n\u001b[1;32m     76\u001b[0m             \u001b[0mversion\u001b[0m \u001b[0;34m+=\u001b[0m \u001b[0;36m1\u001b[0m\u001b[0;34m\u001b[0m\u001b[0m\n",
      "\u001b[0;32m~/scratch/venv/lib/python3.6/site-packages/xgboost-0.6-py3.6.egg/xgboost/core.py\u001b[0m in \u001b[0;36mupdate\u001b[0;34m(self, dtrain, iteration, fobj)\u001b[0m\n\u001b[1;32m    896\u001b[0m         \u001b[0;32mif\u001b[0m \u001b[0mfobj\u001b[0m \u001b[0;32mis\u001b[0m \u001b[0;32mNone\u001b[0m\u001b[0;34m:\u001b[0m\u001b[0;34m\u001b[0m\u001b[0m\n\u001b[1;32m    897\u001b[0m             _check_call(_LIB.XGBoosterUpdateOneIter(self.handle, ctypes.c_int(iteration),\n\u001b[0;32m--> 898\u001b[0;31m                                                     dtrain.handle))\n\u001b[0m\u001b[1;32m    899\u001b[0m         \u001b[0;32melse\u001b[0m\u001b[0;34m:\u001b[0m\u001b[0;34m\u001b[0m\u001b[0m\n\u001b[1;32m    900\u001b[0m             \u001b[0mpred\u001b[0m \u001b[0;34m=\u001b[0m \u001b[0mself\u001b[0m\u001b[0;34m.\u001b[0m\u001b[0mpredict\u001b[0m\u001b[0;34m(\u001b[0m\u001b[0mdtrain\u001b[0m\u001b[0;34m)\u001b[0m\u001b[0;34m\u001b[0m\u001b[0m\n",
      "\u001b[0;31mKeyboardInterrupt\u001b[0m: "
     ]
    }
   ],
   "source": [
    "xgb.fit(X_train,y_train,eval_set=[(X_val,y_val)],verbose=True,\n",
    "       eval_metric=\"rmse\",early_stopping_rounds=50)"
   ]
  },
  {
   "cell_type": "code",
   "execution_count": null,
   "metadata": {},
   "outputs": [],
   "source": [
    "plt.plot(xgb.evals_result_[\"validation_0\"][\"rmse\"])"
   ]
  },
  {
   "cell_type": "code",
   "execution_count": 123,
   "metadata": {},
   "outputs": [
    {
     "data": {
      "text/plain": [
       "<matplotlib.axes._subplots.AxesSubplot at 0x7f0e0237ac88>"
      ]
     },
     "execution_count": 123,
     "metadata": {},
     "output_type": "execute_result"
    },
    {
     "data": {
      "image/png": "[encoded data removed]",
      "text/plain": [
       "<matplotlib.figure.Figure at 0x7f0e0237ad30>"
      ]
     },
     "metadata": {},
     "output_type": "display_data"
    }
   ],
   "source": [
    "plt.figure(figsize=(12,6))\n",
    "xgboost.plot_importance(xgb,ax=plt.gca())"
   ]
  },
  {
   "cell_type": "code",
   "execution_count": 124,
   "metadata": {},
   "outputs": [
    {
     "name": "stdout",
     "output_type": "stream",
     "text": [
      "The rmse of prediction is: 2.10544184014\n",
      "The r2 is: 0.344946361224\n",
      "The rmse of prediction is: 2.19339898366\n",
      "The r2 is: 0.253060750172\n"
     ]
    }
   ],
   "source": [
    "y_pred=np.clip(xgb.predict(X_train, ntree_limit=xgb.best_ntree_limit),a_max=20,a_min=0)\n",
    "print('The rmse of prediction is:', mean_squared_error(y_train,y_pred) ** 0.5)\n",
    "print('The r2 is:',r2_score(y_train, y_pred))\n",
    "\n",
    "y_pred=np.clip(xgb.predict(X_val, ntree_limit=xgb.best_ntree_limit),a_max=20,a_min=0)\n",
    "\n",
    "print('The rmse of prediction is:', mean_squared_error(y_val,y_pred) ** 0.5)\n",
    "print('The r2 is:',r2_score(y_val, y_pred))"
   ]
  },
  {
   "cell_type": "code",
   "execution_count": 88,
   "metadata": {},
   "outputs": [],
   "source": [
    "X_train_clean=X_train.apply(lambda x: x.fillna(x.mean()),axis=0).drop(columns=[\"mean_sold_shop\",\"std_sold_shop\"])\n",
    "y_train_clean=y_train[X_train_clean.index]"
   ]
  },
  {
   "cell_type": "code",
   "execution_count": null,
   "metadata": {},
   "outputs": [],
   "source": [
    "from sklearn.neighbors  import KNeighborsRegressor as learner\n",
    "regr = learner(n_jobs=4)\n",
    "regr.fit(X_train_clean,y_train_clean)"
   ]
  },
  {
   "cell_type": "code",
   "execution_count": null,
   "metadata": {},
   "outputs": [],
   "source": [
    "regr.score(X_train_clean,y_train_clean)"
   ]
  },
  {
   "cell_type": "code",
   "execution_count": 96,
   "metadata": {
    "scrolled": true
   },
   "outputs": [],
   "source": [
    "#Retrain on full set\n",
    "\n",
    "X = pd.concat([X_train,X_val])\n",
    "y = pd.concat([y_train,y_val])\n",
    "#xgb =  XGBRegressor(nthread=4,n_estimators=20,learning_rate=0.1,base_score=0,max_depth=10\n",
    "                  \n",
    "#xgb.fit(X,y,verbose=True,  eval_metric=\"rmse\")"
   ]
  },
  {
   "cell_type": "code",
   "execution_count": 105,
   "metadata": {},
   "outputs": [],
   "source": [
    "X_clean=X.apply(lambda x: x.fillna(x.mean()),axis=0).drop(columns=[\"mean_sold_shop\",\"std_sold_shop\"])\n"
   ]
  },
  {
   "cell_type": "code",
   "execution_count": 112,
   "metadata": {},
   "outputs": [
    {
     "ename": "TypeError",
     "evalue": "fit() got an unexpected keyword argument 'warm_start'",
     "output_type": "error",
     "traceback": [
      "\u001b[0;31m---------------------------------------------------------------------------\u001b[0m",
      "\u001b[0;31mTypeError\u001b[0m                                 Traceback (most recent call last)",
      "\u001b[0;32m<ipython-input-112-824f207f098c>\u001b[0m in \u001b[0;36m<module>\u001b[0;34m()\u001b[0m\n\u001b[0;32m----> 1\u001b[0;31m \u001b[0mregr\u001b[0m\u001b[0;34m.\u001b[0m\u001b[0mfit\u001b[0m\u001b[0;34m(\u001b[0m\u001b[0mX_clean\u001b[0m\u001b[0;34m,\u001b[0m\u001b[0my\u001b[0m\u001b[0;34m,\u001b[0m\u001b[0mwarm_start\u001b[0m\u001b[0;34m=\u001b[0m\u001b[0;32mTrue\u001b[0m\u001b[0;34m,\u001b[0m\u001b[0mn_iter\u001b[0m\u001b[0;34m=\u001b[0m\u001b[0;36m10\u001b[0m\u001b[0;34m)\u001b[0m\u001b[0;34m\u001b[0m\u001b[0m\n\u001b[0m",
      "\u001b[0;31mTypeError\u001b[0m: fit() got an unexpected keyword argument 'warm_start'"
     ]
    }
   ],
   "source": [
    "regr.fit(X_clean,y,warm_start=True,n_iter=10)"
   ]
  },
  {
   "cell_type": "code",
   "execution_count": 111,
   "metadata": {},
   "outputs": [
    {
     "data": {
      "text/plain": [
       "0.44458616742404727"
      ]
     },
     "execution_count": 111,
     "metadata": {},
     "output_type": "execute_result"
    }
   ],
   "source": [
    "regr.score(X_clean,y)"
   ]
  },
  {
   "cell_type": "code",
   "execution_count": null,
   "metadata": {},
   "outputs": [],
   "source": [
    "y_pred=np.clip(gbm.predict(X_train, num_iteration=gbm.best_iteration),a_max=20,a_min=0)\n",
    "print('The rmse of prediction is:', mean_squared_error(y_train,y_pred) ** 0.5)\n",
    "print('The r2 is:',r2_score(y_train, y_pred))\n",
    "\n",
    "y_pred=np.clip(gbm.predict(X_val, num_iteration=gbm.best_iteration),a_max=20,a_min=0)\n",
    "\n",
    "print('The rmse of prediction is:', mean_squared_error(y_val,y_pred) ** 0.5)\n",
    "print('The r2 is:',r2_score(y_val, y_pred))\n",
    "\n",
    "y_pred=np.clip(gbm.predict(X, num_iteration=gbm.best_iteration),a_max=20,a_min=0)\n",
    "\n",
    "print('The rmse of prediction is:', mean_squared_error(y,y_pred) ** 0.5)\n",
    "print('The r2 is:',r2_score(y, y_pred))"
   ]
  },
  {
   "cell_type": "markdown",
   "metadata": {},
   "source": [
    "## Predict for training set"
   ]
  },
  {
   "cell_type": "code",
   "execution_count": 27,
   "metadata": {},
   "outputs": [
    {
     "ename": "NameError",
     "evalue": "name 'item_price' is not defined",
     "output_type": "error",
     "traceback": [
      "\u001b[0;31m---------------------------------------------------------------------------\u001b[0m",
      "\u001b[0;31mNameError\u001b[0m                                 Traceback (most recent call last)",
      "\u001b[0;32m<ipython-input-27-1a3b54db5ae0>\u001b[0m in \u001b[0;36m<module>\u001b[0;34m()\u001b[0m\n\u001b[1;32m      2\u001b[0m \u001b[0;34m.\u001b[0m\u001b[0massign\u001b[0m\u001b[0;34m(\u001b[0m\u001b[0mdate_block_num\u001b[0m\u001b[0;34m=\u001b[0m\u001b[0;36m34\u001b[0m\u001b[0;34m,\u001b[0m\u001b[0mmonth\u001b[0m\u001b[0;34m=\u001b[0m\u001b[0;36m11\u001b[0m\u001b[0;34m,\u001b[0m\u001b[0myear\u001b[0m\u001b[0;34m=\u001b[0m\u001b[0;36m3\u001b[0m\u001b[0;34m)\u001b[0m\u001b[0;34m\u001b[0m\u001b[0m\n\u001b[1;32m      3\u001b[0m \u001b[0;34m.\u001b[0m\u001b[0mmerge\u001b[0m\u001b[0;34m(\u001b[0m\u001b[0mitems\u001b[0m\u001b[0;34m.\u001b[0m\u001b[0mdrop\u001b[0m\u001b[0;34m(\u001b[0m\u001b[0mcolumns\u001b[0m\u001b[0;34m=\u001b[0m\u001b[0;34m\"item_name\"\u001b[0m\u001b[0;34m)\u001b[0m\u001b[0;34m,\u001b[0m\u001b[0mhow\u001b[0m\u001b[0;34m=\u001b[0m\u001b[0;34m\"left\"\u001b[0m\u001b[0;34m)\u001b[0m\u001b[0;34m\u001b[0m\u001b[0m\n\u001b[0;32m----> 4\u001b[0;31m   \u001b[0;34m.\u001b[0m\u001b[0mmerge\u001b[0m\u001b[0;34m(\u001b[0m\u001b[0mitem_price\u001b[0m\u001b[0;34m,\u001b[0m\u001b[0mhow\u001b[0m\u001b[0;34m=\u001b[0m\u001b[0;34m\"left\"\u001b[0m\u001b[0;34m)\u001b[0m\u001b[0;34m\u001b[0m\u001b[0m\n\u001b[0m\u001b[1;32m      5\u001b[0m  \u001b[0;34m.\u001b[0m\u001b[0mmerge\u001b[0m\u001b[0;34m(\u001b[0m\u001b[0mshop_price\u001b[0m\u001b[0;34m,\u001b[0m\u001b[0mhow\u001b[0m\u001b[0;34m=\u001b[0m\u001b[0;34m\"left\"\u001b[0m\u001b[0;34m)\u001b[0m\u001b[0;34m\u001b[0m\u001b[0m\n\u001b[1;32m      6\u001b[0m \u001b[0;34m\u001b[0m\u001b[0m\n",
      "\u001b[0;31mNameError\u001b[0m: name 'item_price' is not defined"
     ]
    }
   ],
   "source": [
    "X_test=(test\n",
    ".assign(date_block_num=34,month=11,year=3)\n",
    ".merge(items.drop(columns=\"item_name\"),how=\"left\")\n",
    "  .merge(item_price,how=\"left\")\n",
    " .merge(shop_price,how=\"left\")\n",
    " \n",
    " .merge(item_price_cat,how=\"left\")\n",
    " .merge(shop_price_cat,how=\"left\")\n",
    " \n",
    " .merge(item_sold,how=\"left\")\n",
    " .merge(shop_sold,how=\"left\")\n",
    " .merge(cat_sold,how=\"left\")\n",
    " .merge(shop_cat_sold,how=\"left\")\n",
    " #.drop(columns=[\"shop_id\",\"item_id\",\"item_category_id\"]) \n",
    ").drop(columns=\"ID\")\n",
    "\n",
    "past_month=(preX.groupby([\"item_id\",\"shop_id\",\"date_block_num\"])\n",
    " .item_cnt_day.sum().reset_index()\n",
    " .assign(date_block_num=lambda x: x.date_block_num+1)\n",
    " .rename(columns={\"item_cnt_day\":\"prev_month_value1\"})\n",
    ")\n",
    "\n",
    "past_month2=(preX.groupby([\"item_id\",\"shop_id\",\"date_block_num\"])\n",
    " .item_cnt_day.sum().reset_index()\n",
    " .assign(date_block_num=lambda x: x.date_block_num+2)\n",
    " .rename(columns={\"item_cnt_day\":\"prev_month_value2\"})\n",
    ")\n",
    "\n",
    "past_month3=(preX.groupby([\"item_id\",\"shop_id\",\"date_block_num\"])\n",
    " .item_cnt_day.sum().reset_index()\n",
    " .assign(date_block_num=lambda x: x.date_block_num+3)\n",
    " .rename(columns={\"item_cnt_day\":\"prev_month_value3\"})\n",
    ")\n",
    "\n",
    "past_month4=(preX.groupby([\"item_id\",\"shop_id\",\"date_block_num\"])\n",
    " .item_cnt_day.sum().reset_index()\n",
    " .assign(date_block_num=lambda x: x.date_block_num+4)\n",
    " .rename(columns={\"item_cnt_day\":\"prev_month_value4\"})\n",
    ")\n",
    "\n",
    "past_month5=(preX.groupby([\"item_id\",\"shop_id\",\"date_block_num\"])\n",
    " .item_cnt_day.sum().reset_index()\n",
    " .assign(date_block_num=lambda x: x.date_block_num+5)\n",
    " .rename(columns={\"item_cnt_day\":\"prev_month_value5\"})\n",
    ")\n",
    "\n",
    "past_month6=(preX.groupby([\"item_id\",\"shop_id\",\"date_block_num\"])\n",
    " .item_cnt_day.sum().reset_index()\n",
    " .assign(date_block_num=lambda x: x.date_block_num+6)\n",
    " .rename(columns={\"item_cnt_day\":\"prev_month_value6\"})\n",
    ")\n",
    "\n",
    "\n",
    "\n",
    "past=[\"prev_month_value\"+str(i) for i in range(1,7)]\n",
    "preX2=(X_test\n",
    "       .merge(past_month,how=\"left\")\n",
    "       .merge(past_month2,how=\"left\")\n",
    "       .merge(past_month3,how=\"left\")\n",
    "       .merge(past_month4,how=\"left\")\n",
    "       .merge(past_month5,how=\"left\")\n",
    "       .merge(past_month6,how=\"left\")\n",
    "\n",
    "       \n",
    "     #  .drop(columns=[\"shop_id\",\"item_id\",\"item_category_id\"])\n",
    "      )\n",
    "preX2[past]=preX2[past].fillna(0)\n",
    "preX2[[\"shop_id\",\"item_id\",\"item_category_id\"]]= \\\n",
    "preX2[[\"shop_id\",\"item_id\",\"item_category_id\"]].apply(pd.Categorical,axis=0)\n",
    "\n",
    "preX2.drop(columns=[\"year\",\"date_block_num\"],inplace=True)\n",
    "preX2.loc[:,preX2.dtypes==\"float64\"]=preX2.loc[:,preX2.dtypes==\"float64\"].astype(np.float32)"
   ]
  },
  {
   "cell_type": "code",
   "execution_count": null,
   "metadata": {},
   "outputs": [],
   "source": [
    "y_test=np.clip(xgb.predict(preX2.drop(columns=[\"item_id\",\"shop_id\",\"item_category_id\"])),a_min=0,a_max=20)"
   ]
  },
  {
   "cell_type": "code",
   "execution_count": null,
   "metadata": {},
   "outputs": [],
   "source": [
    "\n",
    "y_test[preX2.query(\"((item_id in @items_drop_old) and (shop_id in @shops_drop_old))\").index]=0"
   ]
  },
  {
   "cell_type": "code",
   "execution_count": null,
   "metadata": {},
   "outputs": [],
   "source": [
    "plt.figure(figsize=(24,12))\n",
    "plt.hist(y_val,density=1,alpha=0.5,label=\"validation\",bins=40)\n",
    "plt.hist(y_train,density=1,alpha=0.5,label=\"train\",bins=40)\n",
    "#plt.hist(y_test,alpha=0.5,density=1,label=\"predicted\",bins=20)\n",
    "plt.hist(y_test,alpha=0.5,density=1,label=\"predicted\",bins=40,color=\"red\")\n",
    "plt.legend()\n"
   ]
  },
  {
   "cell_type": "code",
   "execution_count": null,
   "metadata": {},
   "outputs": [],
   "source": [
    "results=pd.DataFrame({\"ID\":test.ID,\"item_cnt_month\":y_test})\n",
    "results.to_csv(\"lightgbm_categorical_filtered2.csv\",index=False)"
   ]
  }
 ],
 "metadata": {
  "kernelspec": {
   "display_name": "Python 3",
   "language": "python",
   "name": "python3"
  },
  "language_info": {
   "codemirror_mode": {
    "name": "ipython",
    "version": 3
   },
   "file_extension": ".py",
   "mimetype": "text/x-python",
   "name": "python",
   "nbconvert_exporter": "python",
   "pygments_lexer": "ipython3",
   "version": "3.6.3"
  }
 },
 "nbformat": 4,
 "nbformat_minor": 2
}
