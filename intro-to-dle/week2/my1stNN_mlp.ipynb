{
 "cells": [
  {
   "cell_type": "markdown",
   "metadata": {},
   "source": [
    "# My first TF Neural network"
   ]
  },
  {
   "cell_type": "markdown",
   "metadata": {},
   "source": [
    "## Data loading"
   ]
  },
  {
   "cell_type": "code",
   "execution_count": 1,
   "metadata": {
    "scrolled": true
   },
   "outputs": [
    {
     "name": "stderr",
     "output_type": "stream",
     "text": [
      "Using TensorFlow backend.\n"
     ]
    },
    {
     "name": "stdout",
     "output_type": "stream",
     "text": [
      "(50000, 28, 28) (50000,)\n"
     ]
    },
    {
     "data": {
      "image/png": "[encoded data removed]",
      "text/plain": [
       "<matplotlib.figure.Figure at 0x7f243c053550>"
      ]
     },
     "metadata": {},
     "output_type": "display_data"
    }
   ],
   "source": [
    "from preprocessed_mnist import load_dataset\n",
    "X_train, y_train, X_val, y_val, X_test, y_test = load_dataset()\n",
    "print(X_train.shape, y_train.shape)\n",
    "import matplotlib.pyplot as plt\n",
    "import numpy as np\n",
    "\n",
    "%matplotlib inline\n",
    "plt.imshow(X_train[2], cmap=\"Greys\");\n",
    "X_train, y_train, X_val, y_val, X_test, y_test = load_dataset(flatten=True)"
   ]
  },
  {
   "cell_type": "code",
   "execution_count": 2,
   "metadata": {},
   "outputs": [
    {
     "name": "stdout",
     "output_type": "stream",
     "text": [
      "(50000, 784)\n",
      "(10000, 784)\n",
      "(10000, 784)\n"
     ]
    }
   ],
   "source": [
    "print(X_train.shape)\n",
    "print(X_val.shape)\n",
    "print(X_test.shape)"
   ]
  },
  {
   "cell_type": "code",
   "execution_count": 3,
   "metadata": {},
   "outputs": [
    {
     "name": "stdout",
     "output_type": "stream",
     "text": [
      "(60000, 784)\n",
      "(60000,)\n"
     ]
    }
   ],
   "source": [
    "X_train=np.vstack([X_train,X_val])\n",
    "y_train=np.hstack([y_train,y_val])\n",
    "print(X_train.shape)\n",
    "print(y_train.shape)"
   ]
  },
  {
   "cell_type": "markdown",
   "metadata": {},
   "source": [
    "## Training"
   ]
  },
  {
   "cell_type": "code",
   "execution_count": 34,
   "metadata": {},
   "outputs": [],
   "source": [
    "import tensorflow as tf\n",
    "import numpy as np\n",
    "#from tqdm import trange\n",
    "from itertools import cycle\n",
    "\n",
    "N_NUMBERS = int(np.unique(y_train).shape[0])\n",
    "N_VARS    = X_train.shape[1]\n",
    "BATCH_SIZE = 128\n",
    "N_NEURONS = 200\n",
    "N_NEURONS_F2=120\n",
    "N_NEURONS_F=50\n",
    "NRUNS = 5000\n",
    "DSTEP = 100\n",
    "\n",
    "s = tf.InteractiveSession()\n",
    "\n",
    "# Placeholders for the input data\n",
    "input_X = tf.placeholder(\"float32\",shape=[None,784])\n",
    "input_y = tf.placeholder(\"int32\")\n",
    "y_ = tf.one_hot(input_y,depth=N_NUMBERS)# The model code\n",
    "\n",
    "#### INPUT LAYER ####\n",
    "ACTIVATION=tf.nn.relu\n",
    "\n",
    "# Model parameters - weights and bias\n",
    "W = tf.Variable(initial_value=tf.truncated_normal((N_VARS,N_NEURONS),stddev=0.1),dtype=\"float32\")\n",
    "b = tf.Variable(initial_value=tf.truncated_normal((1,N_NEURONS),stddev=0.1),dtype=\"float32\")\n",
    "\n",
    "# Compute a vector of predictions, resulting shape should be [input_X.shape[0],]\n",
    "# This is 1D, if you have extra dimensions, you can  get rid of them with tf.squeeze .\n",
    "y1 = ACTIVATION(tf.matmul(input_X,W)+b)\n",
    "\n",
    "#### HIDDEN LAYER(s) ####\n",
    "\n",
    "\n",
    "\n",
    "\n",
    "W2b = tf.Variable(initial_value=tf.truncated_normal((N_NEURONS,N_NEURONS),stddev=0.1),dtype=\"float32\")\n",
    "b2b = tf.Variable(initial_value=tf.truncated_normal((1,N_NEURONS),stddev=0.1),dtype=\"float32\")\n",
    "y2b = ACTIVATION(tf.matmul(y1,W2b)+b2b)\n",
    "\n",
    "\n",
    "W2a = tf.Variable(initial_value=tf.truncated_normal((N_NEURONS,N_NEURONS_F2),stddev=0.1),dtype=\"float32\")\n",
    "b2a = tf.Variable(initial_value=tf.truncated_normal((1,N_NEURONS_F2),stddev=0.1),dtype=\"float32\")\n",
    "y2a = ACTIVATION(tf.matmul(y2b,W2a)+b2a)\n",
    "\n",
    "W2 = tf.Variable(initial_value=tf.truncated_normal((N_NEURONS_F2,N_NEURONS_F),stddev=0.1),dtype=\"float32\")\n",
    "b2 = tf.Variable(initial_value=tf.truncated_normal((1,N_NEURONS_F),stddev=0.1),dtype=\"float32\")\n",
    "y2 = ACTIVATION(tf.matmul(y2a,W2)+b2)\n",
    "\n",
    "#### OUTPUT LAYER ####\n",
    "\n",
    "W3 = tf.Variable(initial_value=tf.truncated_normal((N_NEURONS_F,N_NUMBERS),stddev=0.1),dtype=\"float32\")\n",
    "b3 = tf.Variable(initial_value=tf.truncated_normal((1,N_NUMBERS),stddev=0.1),dtype=\"float32\")\n",
    "y3_=tf.matmul(y2,W3)+b3\n",
    "y3 = tf.nn.softmax(y3_)\n",
    "\n",
    "## Training set decay ##\n",
    "global_step = tf.Variable(0, trainable=False)\n",
    "boundaries = [100,200,2000,4000]\n",
    "values = [0.01, 0.003, 0.005,0.002]\n",
    "learning_rate = tf.train.piecewise_constant(global_step, boundaries, values)\n",
    "#learning_rate=1e-2\n",
    "\n",
    "# Loss. Should be a scalar number - average loss over all the objects\n",
    "loss = tf.reduce_mean(\n",
    "    tf.nn.softmax_cross_entropy_with_logits(labels=y_, logits=y3_))\n",
    "#loss =  tf.reduce_mean(-tf.reduce_sum(y_ * tf.log(y3), axis=1))\n",
    "optimizer = tf.train.AdamOptimizer(learning_rate=learning_rate).minimize(\n",
    "        loss,global_step=global_step)\n",
    "predicted = tf.cast(tf.argmax(y3,axis=1),\"int32\")\n",
    "accuracy = tf.reduce_mean(tf.cast(tf.equal(input_y,predicted),\"float32\"))\n",
    "\n",
    "s.run(tf.global_variables_initializer())\n",
    "s.run(tf.local_variables_initializer())\n",
    "\n",
    "\n",
    "\n",
    "train_loss=[]\n",
    "test_accuracy=[]\n",
    "train_accuracy=[]\n",
    "test_loss=[]\n",
    "\n",
    "batch_train_cycle=cycle(np.random.permutation(np.arange(0,X_train.shape[0])))\n",
    "batch_test_cycle=cycle(np.random.permutation(np.arange(0,X_test.shape[0])))"
   ]
  },
  {
   "cell_type": "code",
   "execution_count": 35,
   "metadata": {},
   "outputs": [
    {
     "name": "stdout",
     "output_type": "stream",
     "text": [
      "Iteration N: 0\n",
      "Iteration N: 1000\n",
      "Iteration N: 2000\n",
      "Iteration N: 3000\n",
      "Iteration N: 4000\n"
     ]
    }
   ],
   "source": [
    "for i in range(NRUNS):\n",
    "#for i in trange(NRUNS): \n",
    "\n",
    "    batch_train=[next(batch_train_cycle) for i in range(BATCH_SIZE)]\n",
    "    batch_test=[next(batch_test_cycle) for i in range(BATCH_SIZE)]\n",
    "    \n",
    "    X_test_mini = X_test[batch_test,:]\n",
    "    y_test_mini = y_test[batch_test]  \n",
    "    \n",
    "    X_train_mini = X_train[batch_train,:]\n",
    "    y_train_mini = y_train[batch_train] \n",
    "    \n",
    "    s.run(optimizer, {input_X: X_train_mini, input_y: y_train_mini})\n",
    "    if i % DSTEP ==0:\n",
    "        train_loss_i = s.run(loss, {input_X: X_train_mini, input_y: y_train_mini})\n",
    "        test_loss_i = s.run(loss,{input_X: X_test_mini, input_y: y_test_mini})\n",
    "        train_accuracy_i = s.run(accuracy, {input_X: X_train_mini, input_y: y_train_mini})\n",
    "        test_accuracy_i  = s.run(accuracy,{input_X: X_test_mini, input_y: y_test_mini})\n",
    "        train_accuracy.append(train_accuracy_i)\n",
    "        test_accuracy.append(test_accuracy_i)\n",
    "        train_loss.append(train_loss_i)\n",
    "        test_loss.append(test_loss_i)\n",
    "    if i % (DSTEP*10)==0:\n",
    "        print(\"Iteration N: \"+str(i))\n",
    "    \n",
    "\n"
   ]
  },
  {
   "cell_type": "markdown",
   "metadata": {},
   "source": [
    "## Evaluation"
   ]
  },
  {
   "cell_type": "code",
   "execution_count": 36,
   "metadata": {},
   "outputs": [
    {
     "name": "stdout",
     "output_type": "stream",
     "text": [
      "Final accuracy:0.9819999933242798\n"
     ]
    },
    {
     "data": {
      "text/plain": [
       "<matplotlib.legend.Legend at 0x7f22f4117940>"
      ]
     },
     "execution_count": 36,
     "metadata": {},
     "output_type": "execute_result"
    },
    {
     "data": {
      "image/png": "[encoded data removed]",
      "text/plain": [
       "<matplotlib.figure.Figure at 0x7f22f4535898>"
      ]
     },
     "metadata": {},
     "output_type": "display_data"
    }
   ],
   "source": [
    "plt.figure(figsize=(12,6))\n",
    "plt.subplot(1,2,1)\n",
    "plt.plot(train_loss,label=\"Train loss\")\n",
    "plt.plot(test_loss,label=\"Test loss\")\n",
    "plt.subplot(1,2,2)\n",
    "plt.plot(train_accuracy,label=\"Train accuracy\")\n",
    "plt.plot(test_accuracy,label=\"Test accuracy\")\n",
    "print(\"Final accuracy:{}\".format(s.run(accuracy, {input_X: X_test, input_y: y_test})))\n",
    "plt.legend()"
   ]
  }
 ],
 "metadata": {
  "kernelspec": {
   "display_name": "Python 3",
   "language": "python",
   "name": "python3"
  },
  "language_info": {
   "codemirror_mode": {
    "name": "ipython",
    "version": 3
   },
   "file_extension": ".py",
   "mimetype": "text/x-python",
   "name": "python",
   "nbconvert_exporter": "python",
   "pygments_lexer": "ipython3",
   "version": "3.6.3"
  }
 },
 "nbformat": 4,
 "nbformat_minor": 2
}
