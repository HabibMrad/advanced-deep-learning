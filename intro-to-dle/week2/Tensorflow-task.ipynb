{
 "cells": [
  {
   "cell_type": "markdown",
   "metadata": {
    "slideshow": {
     "slide_type": "slide"
    }
   },
   "source": [
    "# Going deeper with Tensorflow\n",
    "\n",
    "In this video, we're going to study the tools you'll use to build deep learning models. Namely, [Tensorflow](https://www.tensorflow.org/).\n",
    "\n",
    "If you're running this notebook outside the course environment, you'll need to install tensorflow:\n",
    "* `pip install tensorflow` should install cpu-only TF on Linux & Mac OS\n",
    "* If you want GPU support from offset, see [TF install page](https://www.tensorflow.org/install/)"
   ]
  },
  {
   "cell_type": "code",
   "execution_count": 1,
   "metadata": {},
   "outputs": [],
   "source": [
    "import sys\n",
    "sys.path.append(\"..\")\n",
    "import grading"
   ]
  },
  {
   "cell_type": "markdown",
   "metadata": {},
   "source": [
    "# Visualization"
   ]
  },
  {
   "cell_type": "markdown",
   "metadata": {},
   "source": [
    "Plase note that if you are running on the Coursera platform, you won't be able to access the tensorboard instance due to the network setup there. If you run the notebook locally, you should be able to access TensorBoard on http://127.0.0.1:7007/"
   ]
  },
  {
   "cell_type": "code",
   "execution_count": 2,
   "metadata": {},
   "outputs": [
    {
     "name": "stdout",
     "output_type": "stream",
     "text": [
      "tensorboard: proceso no encontrado\r\n"
     ]
    }
   ],
   "source": [
    "! killall tensorboard\n",
    "import os\n",
    "os.system(\"tensorboard --logdir=/tmp/tboard --port=7007 &\");"
   ]
  },
  {
   "cell_type": "code",
   "execution_count": 3,
   "metadata": {},
   "outputs": [],
   "source": [
    "import tensorflow as tf\n",
    "s = tf.InteractiveSession()"
   ]
  },
  {
   "cell_type": "markdown",
   "metadata": {},
   "source": [
    "# Warming up\n",
    "For starters, let's implement a python function that computes the sum of squares of numbers from 0 to N-1."
   ]
  },
  {
   "cell_type": "code",
   "execution_count": 4,
   "metadata": {},
   "outputs": [],
   "source": [
    "import numpy as np\n",
    "def sum_sin(N):\n",
    "    return np.sum(np.arange(N)**2)"
   ]
  },
  {
   "cell_type": "code",
   "execution_count": 10,
   "metadata": {},
   "outputs": [
    {
     "name": "stdout",
     "output_type": "stream",
     "text": [
      "CPU times: user 244 ms, sys: 310 ms, total: 553 ms\n",
      "Wall time: 547 ms\n"
     ]
    },
    {
     "data": {
      "text/plain": [
       "662921401752298880"
      ]
     },
     "execution_count": 10,
     "metadata": {},
     "output_type": "execute_result"
    }
   ],
   "source": [
    "%%time\n",
    "sum_sin(10**8)"
   ]
  },
  {
   "cell_type": "markdown",
   "metadata": {},
   "source": [
    "# Tensoflow teaser\n",
    "\n",
    "Doing the very same thing"
   ]
  },
  {
   "cell_type": "code",
   "execution_count": 6,
   "metadata": {},
   "outputs": [],
   "source": [
    "# An integer parameter\n",
    "N = tf.placeholder('int64', name=\"input_to_your_function\")\n",
    "\n",
    "# A recipe on how to produce the same result\n",
    "result = tf.reduce_sum(tf.range(N)**2)"
   ]
  },
  {
   "cell_type": "code",
   "execution_count": 9,
   "metadata": {},
   "outputs": [
    {
     "data": {
      "text/plain": [
       "<tf.Tensor 'Sum:0' shape=() dtype=int64>"
      ]
     },
     "execution_count": 9,
     "metadata": {},
     "output_type": "execute_result"
    }
   ],
   "source": [
    "result"
   ]
  },
  {
   "cell_type": "code",
   "execution_count": 9,
   "metadata": {},
   "outputs": [
    {
     "name": "stdout",
     "output_type": "stream",
     "text": [
      "CPU times: user 447 ms, sys: 2.97 ms, total: 450 ms\n",
      "Wall time: 277 ms\n"
     ]
    },
    {
     "data": {
      "text/plain": [
       "662921401752298880"
      ]
     },
     "execution_count": 9,
     "metadata": {},
     "output_type": "execute_result"
    }
   ],
   "source": [
    "%%time\n",
    "result.eval({N: 10**8})"
   ]
  },
  {
   "cell_type": "code",
   "execution_count": 11,
   "metadata": {},
   "outputs": [],
   "source": [
    "writer = tf.summary.FileWriter(\"/tmp/tboard\", graph=s.graph)"
   ]
  },
  {
   "cell_type": "markdown",
   "metadata": {},
   "source": [
    "# How does it work?\n",
    "1. Define placeholders where you'll send inputs\n",
    "2. Make symbolic graph: a recipe for mathematical transformation of those placeholders\n",
    "3. Compute outputs of your graph with particular values for each placeholder\n",
    "  * `output.eval({placeholder:value})`\n",
    "  * `s.run(output, {placeholder:value})`\n",
    "\n",
    "So far there are two main entities: \"placeholder\" and \"transformation\"\n",
    "* Both can be numbers, vectors, matrices, tensors, etc.\n",
    "* Both can be int32/64, floats, booleans (uint8) of various size.\n",
    "\n",
    "* You can define new transformations as an arbitrary operation on placeholders and other transformations\n",
    " * `tf.reduce_sum(tf.arange(N)**2)` are 3 sequential transformations of placeholder `N`\n",
    " * There's a tensorflow symbolic version for every numpy function\n",
    "   * `a+b, a/b, a**b, ...` behave just like in numpy\n",
    "   * `np.mean` -> `tf.reduce_mean`\n",
    "   * `np.arange` -> `tf.range`\n",
    "   * `np.cumsum` -> `tf.cumsum`\n",
    "   * If if you can't find the op you need, see the [docs](https://www.tensorflow.org/api_docs/python).\n",
    "   \n",
    "`tf.contrib` has many high-level features, may be worth a look."
   ]
  },
  {
   "cell_type": "code",
   "execution_count": 12,
   "metadata": {},
   "outputs": [],
   "source": [
    "with tf.name_scope(\"Placeholders_examples\"):\n",
    "    # Default placeholder that can be arbitrary float32\n",
    "    # scalar, vertor, matrix, etc.\n",
    "    arbitrary_input = tf.placeholder('float32')\n",
    "\n",
    "    # Input vector of arbitrary length\n",
    "    input_vector = tf.placeholder('float32', shape=(None,))\n",
    "\n",
    "    # Input vector that _must_ have 10 elements and integer type\n",
    "    fixed_vector = tf.placeholder('int32', shape=(10,))\n",
    "\n",
    "    # Matrix of arbitrary n_rows and 15 columns\n",
    "    # (e.g. a minibatch your data table)\n",
    "    input_matrix = tf.placeholder('float32', shape=(None, 15))\n",
    "    \n",
    "    # You can generally use None whenever you don't need a specific shape\n",
    "    input1 = tf.placeholder('float64', shape=(None, 100, None))\n",
    "    input2 = tf.placeholder('int32', shape=(None, None, 3, 224, 224))\n",
    "\n",
    "    # elementwise multiplication\n",
    "    double_the_vector = input_vector*2\n",
    "\n",
    "    # elementwise cosine\n",
    "    elementwise_cosine = tf.cos(input_vector)\n",
    "\n",
    "    # difference between squared vector and vector itself plus one\n",
    "    vector_squares = input_vector**2 - input_vector + 1"
   ]
  },
  {
   "cell_type": "code",
   "execution_count": 13,
   "metadata": {},
   "outputs": [],
   "source": [
    "my_vector =  tf.placeholder('float32', shape=(None,), name=\"VECTOR_1\")\n",
    "my_vector2 = tf.placeholder('float32', shape=(None,))\n",
    "my_transformation = my_vector * my_vector2 / (tf.sin(my_vector) + 1)"
   ]
  },
  {
   "cell_type": "code",
   "execution_count": 14,
   "metadata": {},
   "outputs": [
    {
     "name": "stdout",
     "output_type": "stream",
     "text": [
      "Tensor(\"truediv:0\", shape=(?,), dtype=float32)\n"
     ]
    }
   ],
   "source": [
    "print(my_transformation)"
   ]
  },
  {
   "cell_type": "code",
   "execution_count": 15,
   "metadata": {},
   "outputs": [
    {
     "name": "stdout",
     "output_type": "stream",
     "text": [
      "[ 0.  1.  2.  3.  4.]\n"
     ]
    },
    {
     "data": {
      "text/plain": [
       "array([ 0.        ,  1.62913239,  2.09501147,  2.62899613,  0.        ], dtype=float32)"
      ]
     },
     "execution_count": 15,
     "metadata": {},
     "output_type": "execute_result"
    }
   ],
   "source": [
    "dummy = np.arange(5).astype('float32')\n",
    "print(dummy)\n",
    "my_transformation.eval({my_vector:dummy, my_vector2:dummy[::-1]})"
   ]
  },
  {
   "cell_type": "code",
   "execution_count": 16,
   "metadata": {},
   "outputs": [],
   "source": [
    "writer.add_graph(my_transformation.graph)\n",
    "writer.flush()"
   ]
  },
  {
   "cell_type": "markdown",
   "metadata": {},
   "source": [
    "TensorBoard allows writing scalars, images, audio, histogram. You can read more on tensorboard usage [here](https://www.tensorflow.org/get_started/graph_viz)."
   ]
  },
  {
   "cell_type": "markdown",
   "metadata": {},
   "source": [
    "# Summary\n",
    "* Tensorflow is based on computation graphs\n",
    "* The graphs consist of placehlders and transformations"
   ]
  },
  {
   "cell_type": "markdown",
   "metadata": {},
   "source": [
    "# Mean squared error\n",
    "\n",
    "Your assignment is to implement mean squared error in tensorflow."
   ]
  },
  {
   "cell_type": "code",
   "execution_count": 17,
   "metadata": {},
   "outputs": [],
   "source": [
    "with tf.name_scope(\"MSE\"):\n",
    "    y_true = tf.placeholder(\"float32\", shape=(None,), name=\"y_true\")\n",
    "    y_predicted = tf.placeholder(\"float32\", shape=(None,), name=\"y_predicted\")\n",
    "    mse = tf.reduce_mean((y_true-y_predicted)**2)\n",
    "    # Your code goes here\n",
    "    # You want to use tf.reduce_mean\n",
    "    # mse = tf.<...>\n",
    "def compute_mse(vector1, vector2):\n",
    "    return mse.eval({y_true: vector1, y_predicted: vector2})"
   ]
  },
  {
   "cell_type": "code",
   "execution_count": 18,
   "metadata": {},
   "outputs": [],
   "source": [
    "writer.add_graph(mse.graph)\n",
    "writer.flush()"
   ]
  },
  {
   "cell_type": "markdown",
   "metadata": {},
   "source": [
    "Tests and result submission. Please use the credentials obtained from the Coursera assignment page."
   ]
  },
  {
   "cell_type": "code",
   "execution_count": 20,
   "metadata": {},
   "outputs": [],
   "source": [
    "import submit"
   ]
  },
  {
   "cell_type": "code",
   "execution_count": 22,
   "metadata": {},
   "outputs": [
    {
     "name": "stdout",
     "output_type": "stream",
     "text": [
      "Submitted to Coursera platform. See results on assignment page!\n"
     ]
    }
   ],
   "source": [
    "submit.submit_mse(compute_mse, \"artirj@gmail.com\", \"c2Ze2UlllDqlBvNb\")"
   ]
  },
  {
   "cell_type": "markdown",
   "metadata": {},
   "source": [
    "# Variables\n",
    "\n",
    "The inputs and transformations have no value outside function call. This isn't too comfortable if you want your model to have parameters (e.g. network weights) that are always present, but can change their value over time.\n",
    "\n",
    "Tensorflow solves this with `tf.Variable` objects.\n",
    "* You can assign variable a value at any time in your graph\n",
    "* Unlike placeholders, there's no need to explicitly pass values to variables when `s.run(...)`-ing\n",
    "* You can use variables the same way you use transformations \n",
    " "
   ]
  },
  {
   "cell_type": "code",
   "execution_count": 17,
   "metadata": {},
   "outputs": [],
   "source": [
    "# Creating a shared variable\n",
    "shared_vector_1 = tf.Variable(initial_value=np.ones(5),\n",
    "                              name=\"example_variable\")"
   ]
  },
  {
   "cell_type": "code",
   "execution_count": 18,
   "metadata": {},
   "outputs": [
    {
     "name": "stdout",
     "output_type": "stream",
     "text": [
      "Initial value [ 1.  1.  1.  1.  1.]\n"
     ]
    }
   ],
   "source": [
    "# Initialize variable(s) with initial values\n",
    "s.run(tf.global_variables_initializer())\n",
    "\n",
    "# Evaluating shared variable (outside symbolicd graph)\n",
    "print(\"Initial value\", s.run(shared_vector_1))\n",
    "\n",
    "# Within symbolic graph you use them just\n",
    "# as any other inout or transformation, not \"get value\" needed"
   ]
  },
  {
   "cell_type": "code",
   "execution_count": 19,
   "metadata": {},
   "outputs": [
    {
     "name": "stdout",
     "output_type": "stream",
     "text": [
      "New value [ 0.  1.  2.  3.  4.]\n"
     ]
    }
   ],
   "source": [
    "# Setting a new value\n",
    "s.run(shared_vector_1.assign(np.arange(5)))\n",
    "\n",
    "# Getting that new value\n",
    "print(\"New value\", s.run(shared_vector_1))"
   ]
  },
  {
   "cell_type": "markdown",
   "metadata": {},
   "source": [
    "# tf.gradients - why graphs matter\n",
    "* Tensorflow can compute derivatives and gradients automatically using the computation graph\n",
    "* True to its name it can manage matrix derivatives\n",
    "* Gradients are computed as a product of elementary derivatives via the chain rule:\n",
    "\n",
    "$$ {\\partial f(g(x)) \\over \\partial x} = {\\partial f(g(x)) \\over \\partial g(x)}\\cdot {\\partial g(x) \\over \\partial x} $$\n",
    "\n",
    "It can get you the derivative of any graph as long as it knows how to differentiate elementary operations"
   ]
  },
  {
   "cell_type": "code",
   "execution_count": 23,
   "metadata": {},
   "outputs": [],
   "source": [
    "my_scalar = tf.placeholder('float32')\n",
    "\n",
    "scalar_squared = my_scalar**2\n",
    "\n",
    "# A derivative of scalar_squared by my_scalar\n",
    "derivative = tf.gradients(scalar_squared, [my_scalar, ])"
   ]
  },
  {
   "cell_type": "code",
   "execution_count": 21,
   "metadata": {},
   "outputs": [
    {
     "data": {
      "text/plain": [
       "[<tf.Tensor 'gradients/pow_1_grad/Reshape:0' shape=<unknown> dtype=float32>]"
      ]
     },
     "execution_count": 21,
     "metadata": {},
     "output_type": "execute_result"
    }
   ],
   "source": [
    "derivative"
   ]
  },
  {
   "cell_type": "code",
   "execution_count": 24,
   "metadata": {},
   "outputs": [
    {
     "data": {
      "image/png": "[encoded data removed]",
      "text/plain": [
       "<matplotlib.figure.Figure at 0x7f7854144240>"
      ]
     },
     "metadata": {},
     "output_type": "display_data"
    }
   ],
   "source": [
    "import matplotlib.pyplot as plt\n",
    "%matplotlib inline\n",
    "\n",
    "x = np.linspace(-3, 3)\n",
    "x_squared, x_squared_der = s.run([scalar_squared, derivative[0]],\n",
    "                                 {my_scalar:x})\n",
    "\n",
    "plt.plot(x, x_squared,label=\"$x^2$\")\n",
    "plt.plot(x, x_squared_der, label=r\"$\\frac{dx^2}{dx}$\")\n",
    "plt.legend();"
   ]
  },
  {
   "cell_type": "markdown",
   "metadata": {},
   "source": [
    "# Why that rocks"
   ]
  },
  {
   "cell_type": "code",
   "execution_count": 25,
   "metadata": {},
   "outputs": [],
   "source": [
    "my_vector = tf.placeholder('float32', [None])\n",
    "# Compute the gradient of the next weird function over my_scalar and my_vector\n",
    "# Warning! Trying to understand the meaning of that function may result in permanent brain damage\n",
    "weird_psychotic_function = tf.reduce_mean(\n",
    "    (my_vector+my_scalar)**(1+tf.nn.moments(my_vector,[0])[1]) + \n",
    "    1./ tf.atan(my_scalar))/(my_scalar**2 + 1) + 0.01*tf.sin(\n",
    "    2*my_scalar**1.5)*(tf.reduce_sum(my_vector)* my_scalar**2\n",
    "                      )*tf.exp((my_scalar-4)**2)/(\n",
    "    1+tf.exp((my_scalar-4)**2))*(1.-(tf.exp(-(my_scalar-4)**2)\n",
    "                                    )/(1+tf.exp(-(my_scalar-4)**2)))**2\n",
    "\n",
    "der_by_scalar = tf.gradients(weird_psychotic_function, my_scalar)\n",
    "der_by_vector = tf.gradients(weird_psychotic_function, my_vector)"
   ]
  },
  {
   "cell_type": "code",
   "execution_count": 26,
   "metadata": {},
   "outputs": [
    {
     "data": {
      "image/png": "[encoded data removed]",
      "text/plain": [
       "<matplotlib.figure.Figure at 0x7f7847223e80>"
      ]
     },
     "metadata": {},
     "output_type": "display_data"
    }
   ],
   "source": [
    "# Plotting the derivative\n",
    "scalar_space = np.linspace(1, 7, 100)\n",
    "\n",
    "y = [s.run(weird_psychotic_function, {my_scalar:x, my_vector:[1, 2, 3]})\n",
    "     for x in scalar_space]\n",
    "\n",
    "plt.plot(scalar_space, y, label='function')\n",
    "\n",
    "y_der_by_scalar = [s.run(der_by_scalar,\n",
    "                         {my_scalar:x, my_vector:[1, 2, 3]})\n",
    "                   for x in scalar_space]\n",
    "\n",
    "plt.plot(scalar_space, y_der_by_scalar, label='derivative')\n",
    "plt.grid()\n",
    "plt.legend();"
   ]
  },
  {
   "cell_type": "markdown",
   "metadata": {},
   "source": [
    "# Almost done - optimizers\n",
    "\n",
    "While you can perform gradient descent by hand with automatic grads from above, tensorflow also has some optimization methods implemented for you. Recall momentum & rmsprop?"
   ]
  },
  {
   "cell_type": "code",
   "execution_count": 27,
   "metadata": {},
   "outputs": [],
   "source": [
    "y_guess = tf.Variable(np.zeros(2, dtype='float32'))\n",
    "y_true = tf.range(1, 3, dtype='float32')\n",
    "loss = tf.reduce_mean((y_guess - y_true + tf.random_normal([2]))**2) \n",
    "#loss = tf.reduce_mean((y_guess - y_true)**2) \n",
    "optimizer = tf.train.MomentumOptimizer(0.01, 0.5).minimize(\n",
    "    loss, var_list=y_guess)"
   ]
  },
  {
   "cell_type": "code",
   "execution_count": 28,
   "metadata": {},
   "outputs": [
    {
     "data": {
      "image/png": "[encoded data removed]",
      "text/plain": [
       "<matplotlib.figure.Figure at 0x7f78413c70f0>"
      ]
     },
     "metadata": {},
     "output_type": "display_data"
    }
   ],
   "source": [
    "from matplotlib import animation, rc\n",
    "import matplotlib_utils\n",
    "from IPython.display import HTML\n",
    "\n",
    "fig, ax = plt.subplots()\n",
    "y_true_value = s.run(y_true)\n",
    "level_x = np.arange(0, 2, 0.02)\n",
    "level_y = np.arange(0, 3, 0.02)\n",
    "X, Y = np.meshgrid(level_x, level_y)\n",
    "Z = (X - y_true_value[0])**2 + (Y - y_true_value[1])**2\n",
    "ax.set_xlim(-0.02, 2)\n",
    "ax.set_ylim(-0.02, 3)\n",
    "s.run(tf.global_variables_initializer())\n",
    "ax.scatter(*s.run(y_true), c='red')\n",
    "contour = ax.contour(X, Y, Z, 10)\n",
    "ax.clabel(contour, inline=1, fontsize=10)\n",
    "line, = ax.plot([], [], lw=2)\n",
    "\n",
    "def init():\n",
    "    line.set_data([], [])\n",
    "    return (line,)\n",
    "\n",
    "guesses = [s.run(y_guess)]\n",
    "\n",
    "def animate(i):\n",
    "    s.run(optimizer)\n",
    "    guesses.append(s.run(y_guess))\n",
    "    line.set_data(*zip(*guesses))\n",
    "    return (line,)\n",
    "\n",
    "anim = animation.FuncAnimation(fig, animate, init_func=init,\n",
    "                               frames=400, interval=20, blit=True)"
   ]
  },
  {
   "cell_type": "code",
   "execution_count": 30,
   "metadata": {},
   "outputs": [
    {
     "data": {
      "text/html": [
       "<video width=\"432\" height=\"288\" controls autoplay loop>\n",
       "  <source type=\"video/mp4\" src=\"data:video/mp4;base64,AAAAHGZ0eXBNNFYgAAACAGlzb21pc28yYXZjMQAAAAhmcmVlAACyMG1kYXQAAAKuBgX//6rcRem9\n",
       "5tlIt5Ys2CDZI+7veDI2NCAtIGNvcmUgMTQ4IHIyNzk1IGFhYTlhYTggLSBILjI2NC9NUEVHLTQg\n",
       "QVZDIGNvZGVjIC0gQ29weWxlZnQgMjAwMy0yMDE3IC0gaHR0cDovL3d3dy52aWRlb2xhbi5vcmcv\n",
       "eDI2NC5odG1sIC0gb3B0aW9uczogY2FiYWM9MSByZWY9MyBkZWJsb2NrPTE6MDowIGFuYWx5c2U9\n",
       "MHgzOjB4MTEzIG1lPWhleCBzdWJtZT03IHBzeT0xIHBzeV9yZD0xLjAwOjAuMDAgbWl4ZWRfcmVm\n",
       "PTEgbWVfcmFuZ2U9MTYgY2hyb21hX21lPTEgdHJlbGxpcz0xIDh4OGRjdD0xIGNxbT0wIGRlYWR6\n",
       "b25lPTIxLDExIGZhc3RfcHNraXA9MSBjaHJvbWFfcXBfb2Zmc2V0PS0yIHRocmVhZHM9OSBsb29r\n",
       "YWhlYWRfdGhyZWFkcz0xIHNsaWNlZF90aHJlYWRzPTAgbnI9MCBkZWNpbWF0ZT0xIGludGVybGFj\n",
       "ZWQ9MCBibHVyYXlfY29tcGF0PTAgY29uc3RyYWluZWRfaW50cmE9MCBiZnJhbWVzPTMgYl9weXJh\n",
       "bWlkPTIgYl9hZGFwdD0xIGJfYmlhcz0wIGRpcmVjdD0xIHdlaWdodGI9MSBvcGVuX2dvcD0wIHdl\n",
       "aWdodHA9MiBrZXlpbnQ9MjUwIGtleWludF9taW49MjUgc2NlbmVjdXQ9NDAgaW50cmFfcmVmcmVz\n",
       "aD0wIHJjX2xvb2thaGVhZD00MCByYz1jcmYgbWJ0cmVlPTEgY3JmPTIzLjAgcWNvbXA9MC42MCBx\n",
       "cG1pbj0wIHFwbWF4PTY5IHFwc3RlcD00IGlwX3JhdGlvPTEuNDAgYXE9MToxLjAwAIAAADJEZYiE\n",
       "AC///vau/MsrRwuVLh1Ze7NR8uhJcv2IMH1oAAADAADVayF8oYJVUBjg5Cl8UC950wnQObmxLpMS\n",
       "eTd2N1o7ZvU7nZLqidQWs9IRqH4qZFuUNOvgrgAArGB7WlESNB735J/CfrjEy3i5zjzWx5r7oD4b\n",
       "7vRGf5YZpSE2SfCltWRnqtLPBS3FxRjhpp/BEdar5txSfEu67R/ppgZwAi2i8ff512MwmU2ndVwZ\n",
       "0/IypwbXeLiexIGKwjGLSLtuFQ6Y/OKysfXRdbpNhUrKtfRj7DGM8WCX1Bh4c330WAw+R6EXVRFY\n",
       "lu5UH1qoQzyL4+ViaXbsk9e17GMhYcjYQ2ErNh8GLHqFB5yll7cH5+/ATt414OGqKJBfavN2H7Eo\n",
       "MYMyQUJm9f6njg6oT6RI9deVwCrdBzM/Sz/x8vLmA7OACvEgs7ec3QswOORd/etOu0E7t7VpiB00\n",
       "hKHHIDZREnqwvaNj69QpwDqX0pss1cRClh94zlgStU4c5yUCVO+HQbSt4HAXLJj2f9Btb1Gp56ii\n",
       "Oi96XZV1x4KhUxTYawQAUfjzsl0QevSEuVTVlSNIsvo+7QD/x5dqmV34q8Y/e22ByjofSHxpk/7U\n",
       "JlOIzg46ZfH1hLZgWW3R/niY7hJcJ7T94UsjfEkSh3TDgfcD17lLYnCY2sdzwQUX/M7yx8DlUAxf\n",
       "Bf5jCXE+1+wNMg1QAvfybm1SjIO2TPl8BU8XJsElm8w528BUCYhGy7qcnRnuSy6QxEV7zgbX58W4\n",
       "OX++3kHg9QTGgyx+9vVBAdT1fCClHX4ANSaqmTCW59ftwD0BujqkCCWkUJ2w9uAMrIdCjsnjVQgY\n",
       "usw2C1nI5upe6qRnHhMYO+//zOhJwy3GFabODqjJ8LP6JD9HicRvbp/KU0u7QNM3PDeCZGEppIp+\n",
       "d+A0U9LkqJcqlVU9QxjMxe4V5wWiAXVz7X2hUEkcgvbIBu6DDirLSkB6X62ytFi1xHsjrXMwRBoi\n",
       "23k/4WJeSt9ercxBpim+OztNcFsiesOQP5sSGoW5wkc38yjAPbcq7Tdzbk/IrDDaOdxl5A3HGLvo\n",
       "zZ1BGOReneHzeHg/afksZWL4VFYt54t3/Hf9K1pP0qpg033ec0POTLSV2EuXudGEW3w0++tbXV/W\n",
       "TzfL1OHthmmQR6IPVUHFMoqzp1QcXRtQTOdfyzhgBiRX5WVO85tv8+La/kmO0HsSZYHMklOP3co5\n",
       "QDWHzfJAv2xFzpb4zaWMSFkI64HEJiEbYjDtCz5R+5934JrTITw/HoIDDZMsJDKJDy7tEPbaSA9e\n",
       "Rs6mLK1h7v5ilXo8fU4zXpoO8DIuXkGCPnMytYPsejoVgG8/4hV+pdupgbZzrYj2YP/KOAfFDlCb\n",
       "c+Afko28P+APuNw+AREopUusHlOjBttYqMfZpF0lXHnSyZGaC4E/9t+DTsSLLdxT7j02EJ/DJYcg\n",
       "zlbYlWxHyR67M59DOduDXxQ1yVc6Uv0xHmi8cZyM2klmNgFAuAnAXoBpK89d0ninH4c+/x3zxCND\n",
       "gVwld+ZkhAQLOdusrHeV3kkduEsmNVMMG/Z4jzBVquh65pjovblc+tWCuZM25L8WnssoH8vTmfqk\n",
       "8z4vSza/UA18+dAwWnRG9TaD1J9lDGVsI+2H5s+SHVWANZOLLVmeWQLhlKcLusWsnTy4W6Qc1hK3\n",
       "lWy4lqZwoLwKwRWbX98yP5cBLAAAJoy3FrpsDsUYtE3TL3kuxuFVvIqfYjjoZ3q1MFTJsXRq06LK\n",
       "CGXjzDp6hB7mkW+cUnSDxxWGDOoq2FRt3I6jf4pVWCtbujN+OSzPO8fJfMPqmvW7za2IZNH4Ivtm\n",
       "sJzTRzypJjeyJ0gkQxOt04Wtpk9pR8wFijYSlPAPe/xLLPTGlzVe4z/sJ/ZxT0sXez2TFb2HS+PN\n",
       "5fGrWLRo7iTiPCfUPMNtVVeW8QLshluhtUxaeuzxL4KRaXWDzZPD3oCZy7l7PrHjbnsCu+QniSLg\n",
       "8rdR9xoYbwUQ5YwHF3/Nci+zL1HxGZ4L2fog8TyKfh5YrePpnYaER/liN4NOXHG3TyRUAHQPEB+O\n",
       "0fmDCiGW42CFp/SOdacVMu4hEherC3AgxrebXZ6lt57G1D6yYyf/mXSrjlMM6aD8AzMo7YaVi/1Q\n",
       "riXfAbGXkxyMj9BfJMwbTj+GynyOugQf/Ri8ucxRM1dfn2kFerYby85cHDMQ9lc0dfLgioxLGqWq\n",
       "oC8rjPsjgmTYbWjjaA5viU+h3WQwUXncbJMFRQhDbme5/pstilZLsiuxC7ZL9VVppiO237u2tvTB\n",
       "5O/8XFIx0/TJ81Lid1cz77odgSOfPeXtxPbE5SBBn+cjPtwUOxtNkNL/OuX1ZKCfXJ5aiJfNNxEK\n",
       "D4e+kd6iysnSzitkRlLacXr7s9KBBllv2aI7NxGNNB+3pp85KO0OCRRDsw7GYBJFOmiviotN98fv\n",
       "2v7QdcgTYb85gFHBdRQSt7HxjJDk/w5CdMPF7EWgfeHzpqvABLah889ax9+imBMblgPrYaNqv1J1\n",
       "XnKchWA3APyUoBO4qNFdLXG6CZBn1McudnDPTfhmtQIMDDg7aUsx4YK15aB+nq/rZIHoQfXJOdfC\n",
       "zMFGuZut1ezWPRkPdrfmFbb69AbsqSG8ce5lixqUAxoRYZlB7as0utiunTvSauqfa0rMpUAVXLxh\n",
       "AvM7ve5ct6bpU3I6pDH2Liipvmm6CJ36P4Q2bErgqNdVz2PS9ebtw9Y5teX/nqV85RZdGzRifMIC\n",
       "0zU8GUebYKDN9+EEwQxkfCV2fhSi+XMCQCt8OqcFOKfm3Ze0eSfcFeBM2eF9u1QBZnSjM8ujHu1u\n",
       "ofWurCo3bI4uE7KiiCGiDfZOAahRluwQIip2KprEJVRNXyv+5qrTvRN+1OyIMbbeDZiEm05erue1\n",
       "k7Dl9uFkfPKCqrzftDROAKlgoLlA6r2CsAr16w7wapAs1sr3E25kvHP5yrhsvf+717jJIxZIg20m\n",
       "g1UjFgHkAfhl9T3pL1prSlWEHCQ5ocN78Fs8mZHyFt1mw5u2wAqyl56nKeu54bJIuU+SuKN3Ljx1\n",
       "M4npOALIKZiyZdPWJ/CA3h1la6apYFeCQ3ZPEum/+4TIuhV/q0CavAnGVShMlm+nMDpaRLime2ae\n",
       "nOMdlF/NgoHSd+5Fs87L4bpb5qo0xBlYF28kH4rgeEzrxMfQFcUwFdScj4JdrB/JhnY7vW8EPbm1\n",
       "s2QwfRT1o44OXeO3FByaOGcg1P+wPt9P0rEFYOFBzEliVS6TgzgB9N265P+S840oDOQgfCTqU9v/\n",
       "ed6ifJ6zETWcvF7c1zMA0jF3LVoQmfrOXLnD23NjPL+rBNW7SbqI9G7y99OyrZnzf6QqtLO1w9N6\n",
       "58VkS8Y51bU3fTOcTWOELDP6t6r1JjZswjnkF9QQegjGT8/4Iiz5gUcpfpU04+VyC7qZAv8Pcg0P\n",
       "bh5ENIJF3sRsYnO0T6o/YbsQk+C+Ce7Qe1kXS/x8dK2fwPsxtUU0qfWRLKmGK9j2kuNGpqOrwyvO\n",
       "lJO4t0GCRWe6NxrWkVl6+NNeT3Sz/xF6AAM/QDAALkZmYua07V2WqW0rnap3t3O66zhOkWBjwVfZ\n",
       "lVjHX3QGVBQtZnMeaICsqZpvi28GZZvAhVxNR/BEEEqbO7tWq9yk+vSzp/LW7d1X1tLGPORAqvLn\n",
       "47oFNSLRj9sS3Zi6AABm8HrTkcQxZW1jPvCWMr4AxpWpdJ5u8h1XplIShsuqKm8qCeg+yEcx7fjF\n",
       "h5x9aJto/0ufSFy9KcXyxQTt0PhpgN6eHv/Wl8Az6kcUG3xaVQUVqLYn70ixpJhUpPl6xv5xLYGP\n",
       "MKUsNEq46xfbuB2daoaUgPKlHqrjCwKhs9oHazpS0ksd6NzKsohPlQVDyqbjyYmwgwXDAsXdJLTV\n",
       "U292pY5NbwVrZxuDP5kUWtX8IN+b6Kc7TP3AT28QWwZJ8vJR9e/zkixxstxXkUYEwrNx7gy63nrN\n",
       "BiiGn57ZPSUh9WdeYzh39CVWi6tH1+XWmQmZCMYPZo2Bn2Oyf+ypihq8YEJxXWysOvJBldQIMrqX\n",
       "s0Rf07rPRxJkFJ9LJlDMLlq7biV/1PfrnxTY6Y4FJvkXkCRP+CLmczCUUvleQ9fY18lHtvlm2eET\n",
       "p2CRi9X7983b3cukYdgP18DMhtesJYRWvPTp9ZDffeb6zdAbVoxKaqeWAxmnKvdvfAs70QuLp8RR\n",
       "QVZEzfgBoOjHOhnmYic/7Oh+gipBkL2hQxbpnn+oFakTMsdNajBOvAX6az9mTqTDnZPZtFW6aroM\n",
       "BaOJFF1bZ79bISB//mPfegJMGlEY8IGYKjnwcVd6eOEyZKPkKerbuyjQIhFdjScZhhDkA8t+qli2\n",
       "sofPozVuUnRruSgZlUoZuAg/HpD+lLRrsfaAyvq0PkAWII34I6TNe3Xj4/Vgi7Tk+ce9MX8/3clw\n",
       "VVxSwBoR7Lq8YzEMSHdAkvBVp1ioScrmwG50vgwB4V7oAn8QmSnjwKR03DS6gJvplYiPNk5P3VDn\n",
       "IT/yFIDM0gJ+DDhrY6VErfPoXMNNgmjEJ6es7I9+CxfTZSWVJv/SuaeS+yMvqYoVS/Pt7rJTaN7L\n",
       "J14KmA8RAjqVqm0mKL6KaumR2zkXaA3hX/2NpD1DWyX8SHuAHyF9dxDf8yy8AstqWPQuoFCMmR6H\n",
       "SVkuLNCrnm0KPvu+D597CSHe8XmDd6vCzCrrjZOp8pLJVl8vEk30nxBuU3ZYQZO4XkJP6Um2jGH+\n",
       "nMdTgLlXNWZnv9vIGzL2iDANbSgLgFJ0Gcc7g731TPcXfuBf4Z1OuR6s6GovPXeSEZ5jxDfwzfRH\n",
       "n0lf+tjdZSDYXHa+Zx5QK0lHsbqlk+clD+4FSd7VmcsGUfbNQhLf0Yj0H051FLSqgND/dIVYQOFe\n",
       "397CA+lUZl97dhMfhdwbyycQZBCW3kKMAyov2OA7NNcVh+gka1iLh/3N8bTQ+O+1n/63mge7d8z2\n",
       "5oLOBQWWVGfIyORjU6+bLkHhceZZr1r4tZgdEKsZ7g35wCKijfIRnVJ0zYrS/ETtWOOkFrDMS9aQ\n",
       "5eGW20I33pimCxTO51h7WeT/qYVgfWKoBG0Wsl85Db49KZaZ9c/ACXkIxEkJZf7v15NWxCKW9XsT\n",
       "OFMrJlCAOhSdSsT6tmiZ9emjaekBUqdx8D4fDCBGw2od2yWnmCi0eG+mGZJAkGuCTvCtve26Cist\n",
       "lnDcAAETcwPzbuL8y7RXXmF4PmO5j47WKumE6UNIWfaZpsBKdXI3C0w7u2Xa53Q+S/Yo+OzXRKwU\n",
       "qV4xdQNDDWw54CTxpEJ3Cj0y/HqIGmV8o47WtTBRoU9/1N1cdxfnsL0TTxqU3mLwsMkvU6OsmuGL\n",
       "clyZoSbISvgk5I0hBE4ET/zbGMBm/lkj1v5KoO+RAJMocWVv5cF42Ed4JucgDq8sKCayRLNiFR5x\n",
       "BR5XjP8/XRPas2lji77OM41w3KW40Psf88JKfKQGSdyoI5IinsN+ZdzEpbApOBJg4twgWKMqT9xY\n",
       "BCI+cBPcSesCCv9h+TF5IK9yemiKGRkHSYNZlYpeR/99zH60ykqF6iQxT7Dza6rcZe+dHHtFkhsw\n",
       "KNEtI7zwNk08/u7/db7fumtzR275Tmm5mHQ3QExqCsf9ZcuPs0IW1dRyQiIkwxh+tn1Ug5ATI35y\n",
       "pA8AS8wNDGz+wrDrPptdfJY1li2GuQW2ZsBPmLSwndrQoOZsvI/56MQUV6PYWWBBP5qbl4u3lIhF\n",
       "bPsRfCI1Tv8smUF5pHlNPhA3wXn+YwnUpDYjNjrcRvrgTs6KKNMKpGCv6LkxC7L97BGSLdHzJlQz\n",
       "5oDzekQ6batpKqwKEjc4MexpLPmw0V0yM3nHg1HarhLQzC/JROrMZkv0DE49HtrUdd9vwTCgDUj3\n",
       "xTHUxgKKn8LinFBKEhXDT4/LjsUGVk0rEQ3ELjKf6zqXAkTEYh2Z6u//+bAzOYBdukrcGz5MVyKZ\n",
       "JYN0qpucW3RFVBo/IqEaJigPZwJtCkYANeRquylK9MZKv9QOWEKCuNuDamjQyXWFongT1BBWzyIV\n",
       "+RBZ6uNExb1nwDgJCCieQMLgjrS1j48Is6rKVICjUVDyqjcz8WFDuTmsggvhDRU2VNz8Dx+2OPdz\n",
       "1bknSHqfiuUgDi6S7JvbyAOrs+ytL6ddzZ4ku9kDasOzWt8uiLVSCrCihJmkUFQI6adkfpWtwjSN\n",
       "oMX6rvedXcI427ytD4N2f3eCiXUlQVc8KAljnXFAYgmFbm04Q7yUoFddQ4FZmaTf7J/bKjdjH1B1\n",
       "bM0JZ7touHataPOYRbZuV/MwYa+uzua8muv9ZSMY0Ek41VXHBJZ2b3tOf7Fj5UnCvdmHByNXly6p\n",
       "EeA6PmHVJLjH/KbCk1Zor//nyX5uac4TJPu9Gf4lZ+bm6m5yK+DV5D3DeVLlPNoHwaqFE9KHbCbC\n",
       "OLn7wGntMqTJMoFHKUANwCQgjBs4z0xukbUG9CghNHJMIuBMaucLeS+KEBg44dgswtr9ioYiH8Lp\n",
       "jmBDmEz4oHh/1JTZ4um12S+uo3vQmycsfUfLELih9TBra7ICkr4OjUnQGOEHJds5W/jO7Ib3Xz45\n",
       "MJREk+EEXYHfjHX9pdl6ydw2K+dEHckEX2yFQizi798SznymGI08oWven4SrXWFpnLV13+m7hVPH\n",
       "vxgzRqwhN1kqHlCu0GtqDoVaMATSm2NRBlL/8nEGh4eFIDFvSm6hEoo5mzMdXUwh7UC+Ihp2F3rB\n",
       "MPpBYdK7USt5IGShV1hPxeFHznoMd0VI1oZ54FrkapX69kqxXumqYvQfuFLop1/Gvhd97aFjDP2A\n",
       "s1fZbW/8VqW9f65/7kGzJE7IoSinxHCUELFuiQ4ZTsN07Z9db9NSuMi0McUN5hfFgeBT7m13AXo9\n",
       "25NjIet7ETvmYUzxybCjmOM3KQq7RXWlG5J7hayDGZtnVPvjTak1FB8vLWgRsmeGF1Ra4zdJy/TT\n",
       "zBXZO/s4ALud+lal6AKDS8YmiJoE3JH3VMhnZ5HVC97jChvEed/MjdtnRgMTK6dZM+0J6yovfSzS\n",
       "469BtoanYaDqoL8/UkhjUZPubGvSmIKycUkm9uVaJkyPoefYW32RhfW7iHrGhbz+ZiXIZv53uI/i\n",
       "f3Pxy8+s8Yp39WBYJU+SjfsN+Ae2k+T7exMlldJfVbMA9JPL+RnvFamy57LRybbRtVihVTSX+dcC\n",
       "zmQdK/OZJp+TgroMxowOosWIqruGEnY0Fs4Mwpd2B1Vfl0WXT/ml5vaZo+SoT97MvgYsMoahh/Qw\n",
       "qZlwWqqtqglIYIwZd2bwT1yHNTuu1uYEZkdZwDO2S0Hqll1ysNwKhIEzkLshCW+DTFJWWr/Yu+TD\n",
       "6F5RiD+imdVYyIWICj7a47j+wzS42NH1woezOsPbNpCPxfRgXjNDoxtZMF8Q7l1J0c35G2XL19gx\n",
       "W0Vf2AlfL4c2hyJ896nk2CmNXUG9ZWamTbrU+vCJfWDIikFZ/QBMeP9RIoL91u4J/IFq5/TxsaBH\n",
       "BdQtJtICoRlbM+BRZpdgz3esafQSRUZPSdKlJv+sdBQUAfWTTezaL0dEKwEDCzZmmKrrn1X5ZAxm\n",
       "buyI8mwGUfkzGkkdrkUKXrGOQaKXRYxMdXo6csznBSV18cWf4H21KL6MCzypt4HQxotBg0ivM2aL\n",
       "PYbZ7ft4bJgu6OIYSIQoEk+dMlFuv481iQd6SdQluy5igObie7bmbaVHF73XaedrA18Z6ev/1cKf\n",
       "3DYBzdeBeRSUuy5mv41kcCevsWveSwZBnsR3ntBPUMTAjd9zsZsbr3sum6C8zqv0vIoL+/UN1wLW\n",
       "sYP9mUaFkc28ciDLr/a8Ld6Sv7UUAXzA2hQrM+x5WE12Q+ISTiY8SR7yBvDk54IG+lojM1BmeQWj\n",
       "fzMiqlF4le1J2h5kU1ZeXuUQnpX7ASzVJzhnmBeKzdwvjQNrlHOBPqJgyKy+fDJgLu1xfILzZ1zD\n",
       "Ufqj1biM48KAv69BbtGg7BGfMn2D8yUPyRrxWCWjK8BX6OJDxtdWIsrwwuqEpQHcyjdzjos6Jmhj\n",
       "+jkwmREVcIFRMGq/G93N0z7SsIUOhMGBGqAX8ot7kLGEA3Lb4l7we6HwkLu2JHo7XZFWQZoF2gsY\n",
       "IuuNSUgxUkGNXRqfTaprOfxCMOsw5OoEfG4H/s2frhdLSQeikeMZ7n7D1raTDFL1PHFlMYzz7BXt\n",
       "7Wj28aNJOWMsa7EiSmQBsCjLCEnUUAn72cXG1mbsDSaZZg7jioE/u2yJ0QjYMT7GLnXVTF4kun2/\n",
       "v0O4fwFNEpTCiw2t7ARxozML3XO2GYr4vmIyNmQNQDJhDqj4XkBEX32M1I2H4MhZmaI3Lk3AMCQe\n",
       "mPdCY+LGnCzhfuomyn7s+oQ6p/Hhoeu1BkRXBwkEI3FJxw2X2jFygm46/KT5wL9HR+VjWGqcs4d6\n",
       "QePEta47Z3kTBKWd0hGqIGCRNYaITWXQqhZxAqb8nfrUyNx5jRdQ5gc6v+0FsF+/y8PGoOhk3Bg5\n",
       "hHe9B+4yc6eZm0jp0CQfO4HunzLMPXzKthJm68z0HlkPbtPnIr8cnq+wl1xQtDl3zzxdaFbnnwFW\n",
       "lnXolfqWLmAwjQAPg5yloObNP6UMUepF/aranvhmeWbWEn8uQ4PN1VsX6KSlxla4oh/fuqyViaAU\n",
       "zwJ1ie8DLxFaQ5+txxvIMXF45tlhF7lAVlPU/qAKYYERolh8gieyMkb/jbMOjm+BPjLfzqNmElu+\n",
       "RQ1kvohbmiVMtKsWdeU9Mrp/RMYl52TITbJ+m+iFCb9xRFJN1o+STRrI4PR6GJ5Rbz03sY/qNy9J\n",
       "ccFG7g3pPUMdsZDPXDDrYUvEyUA0q/OZoPZ0wXCa2am2G/7P8R4wGdEwMeKVz6bOM5jwXoE3Xs/f\n",
       "WJkoiAYYc35hLCtyabjQWhxSfo7PufijYzJaAvaP/xa/F3gSoFQrjlpMdFOBad69bov4uIU3bb/l\n",
       "LeFPL6cZgdI7Idd+o3AoXkouBE2svJbaMlqWGa4gFWSHtcgCtnNtRR+MDc7A5Shmm+DcoflwNBMB\n",
       "tGs6a5EwOw6hdARyWDmVJcrDH0bP2k+tXmmnaI8yMKkx7PLOp295YeiOPNmS5uA1q/sjLqE9FzaM\n",
       "OuHzgK81X8DNQrdOY6g5Ai7+YaF7TD6VNcFAf90YzC5d+E6vWkA5MSeQHqnmmqDenuLe6aLbz8nH\n",
       "DELDaVkgmeCsNWwUOkzb2Yhk4OPSoPQOJrGkPfhxCUx8nazKqIv5J2wVSGEFESQKGSo/39h9ZaR/\n",
       "IA2PGa/OLGX/sc22HNM2+/aTm2jxphMK9w1/7+t6NLFUGuKFz+5F6cdPicRuldpB9YvnxqACYAaV\n",
       "YHaiPpaz/ckPIkZ8n6k5bCa+L7OFrmfeDONA0sxat/XjldorkWiwiw+FpT6b/D4huQpLhidrltV9\n",
       "qAdsLYw3VmCVOp7nwfmO7x7gkQkK8YzF1dmVUMVT12f2GXuMjgyk/XndhTZQZAkdD06XBXHjrOwt\n",
       "/YjEb9OwM3u95OY6yZPjJVyahey9IVkgAV2XffVJVdb9q1oCMIlvSEUaIla6TyHadHwxxSCcXZNJ\n",
       "GLpXz85fRAXsJC6TAPPckJjnH9eSZwqX78HQTo/1uZQD9btcGGPCyQ87SVqB7IkVlaMhYRlEtkjt\n",
       "RH+SRZspYTUzsSzTjVGEV+oS8lIzGUlA0WJI0kmjIU5LZt4FvUZPykgPXkyjZC4UZ1N08USO+3rC\n",
       "gw6LggrY84yiZJV+SeqcaQxgJfSg+CyrLJaJK4pZ+rDPmC4TYjY3h7C1IToA7nq4n4FcvmK+RhEU\n",
       "KucCqtIH6UfQ8bVsJoQgIwWGzhkqQQiBOzFGMUa83L9hyo26FUQWqKjiayXU4q3/ML42oDZk4vHO\n",
       "eQogjcky6oZuVF2cOp/PTxsVbzWYP3FMPBUAwVHhQjHX6CBbgCFe9xRYrjO1eLg+dRlKY+boEnd3\n",
       "j2Q6ltEniq+0pksqPZx+Jb8qE4PawsClRjLFYAWDu6WW5XG78SUWKpRQzpvj4NtT/ox4RoqJxsSR\n",
       "de5icN/qP2F/y6gwhmFPHumTqVxhYhEaAnWHKqCIOdXixZuyEXYDxByW9rKCRKirjuo1Rvbiuqja\n",
       "xcjj+O5qufxSX0EqWnUx9wZGhm+Nbt0zq4owApBx+JnVnwZzfhzGQ1pm9FpF9+N/8LfdbE9wzgYb\n",
       "MiglBx7VyyuB49hmulAI0g3Hd9gbRsMfaa5K420x5iMCboQxzYaLqcFUJTm1gj328rMgTCXYEdzt\n",
       "OFBlL2aNomkhq2y2pJBC0I0jSTs5BUTkZx1JdQFbzAueZIznSutbaNdTTpg47uiQ9N0kn8Qsl7Gr\n",
       "VKT3i3JLeGtYlIxnx30ReeJX8eLJj+EGwlLSy1EQ/vVl/f8mqeIk43CrXHm1NoGW9H7TV//Smn7n\n",
       "fj91vZKN4t/GiQW8ZF/b/ZDZu+V/9DWNJWGRyU88rTENr6mDm+eOlDBzotOB8snhGVNS7kgtF3fI\n",
       "AjovZcaAiWadcSEYzfWTJwZC0q98WJpLJZPT64VTta6McoVhthThdiIv70HcpFMO3B1/biNx8Vjf\n",
       "fhi28WsK3VviPCPMfxSeJlCtYk2jGNGkakD0SY1ymlm0yJzDzcZVk5+3mPE+VTmG7wVCOJfofVNq\n",
       "VpcawvOWdVhBKWsScGtxikZigWaBHqSiP9Ql7ajmZsOESV9/7OnUdkn3WOc3FZUlKYI+qEl1EV+v\n",
       "ORNO+yIchr23E07Vn4Xt/ki+GcX3QZhuiFmkk4ggXJ7ZXtEy5xJmceimv+hBCCJom+RLUcPUBI8W\n",
       "xXD1wp0yZqMHucL03GhaYcU49bQtdh8W0uArgvW08wdJphngA84fEQn0IqqM28pPrlRh9VWoRcy8\n",
       "wqurJ6llKEzVliwN1qTX52VIfWCQ3xC/+HX1H+3zJQ8dBugrYYYxskk5izJglZUPWS8BZXlzspQT\n",
       "UzaZL8+71AyIARVZxh2s3G105WwPKxQkzfP188elhg42utKGPmZD9m4s1xkdi2B7WM1Kgbug8XbZ\n",
       "/h2tN90si0FTAz9tB8FIXJHZwaAUkrv72OY88s6zmXqX/OGuz4mpgOqABD/7XSk6vHiXQlWRJ/1A\n",
       "QTmG+qPz0YEi/bols0X0L6WNHb7TeQ6leG/GBkzgdeEhRNLz9e7keEP5Ru19ZjfDDQuEmoBRvI4b\n",
       "2xx8/vaS5uASw2HQGHfDSi8mLU6XeNxYxbYJEZ4aot13+yhwefbxA0xL8imB5XxcmRC9YwdhPJNK\n",
       "5ypeU8znB5ZGmKmc4s1wJ5BxWxwbBUCIWF0g+vSBaXXUqio4L7ieNbg7JH3myrso5o/cRriCEIg/\n",
       "WPszDobath060aHMMnTUGa5Y8+KEvVqoKJs7szOz1tkobFFRdmHlnZOw9U0AF7J/AQuqyn2yTZ+q\n",
       "yGDWh1iphCEu69HIMPKqljTKb1Ev7X1bPrJM7PdEc2HVWQl29KX5aEx1BAu+P51Er6NJ3yKfKtjc\n",
       "9gKMd/iMTrl03aluauy7ZEqbwjorFImsjUQyuhCVJtbCEslk/jbI0T8hxH2q5Y8NZeajmI2GvYYr\n",
       "uS/jIdoBHUnCjBuPWNcd8jagg8SP9MGcJeO5a3JZYtN4e56k9G4OdiqlUmhCcHMMGI1/Ty5Q+k81\n",
       "v+mnt/U53/MWacWMdGH0UMDHmDuQiMbTVmp9Dn0Th4fHrpiCLqXWCZvRE7xQ07EZjP8nqVxOyCYw\n",
       "VFqE687bPqw5oNVfQhXBNKuNPgGip8J1rFVlsYBuPLQ1+GoG8vDvTicMb7Uns9WkKQEEcF8FjeAO\n",
       "ANhs9GMo0z60ErxyyWFTGZ5IZsDvYzoiW0VEkInTyBzgPhA+NOQj/Zwvq7K5FGolGNBkGq/w8WTo\n",
       "UkTHbjCZ988cfenQUpvP0D7MqSCDSoX1T4g3zPHI9HxtQNT0+EqDzmzKl3MfKvQ0GesMkxDmNxYG\n",
       "Rasts0Mb0RnqJ90SXSYYxbkQNe7CRpESzatVCPEY1zkIP3oRzcEsl/DrGu417C6S8dEFSUBW5TRK\n",
       "7veJGCwqcde07OGg7CbGGpfTxvn1tZ68uMqFU1/kPkWRCkkeeB5Eynv2Edh4ZvVuyhK0u97BMmTE\n",
       "zXmEWkWamT37jLXC+ZtYMiwcqojZIfoioLcObg1uabotrAzw0HUKvhR7CrZd0wS5ZJ3KJcynKm85\n",
       "aZXc7LfOhAZ0l/hkOIFG0Cz81xEV8ShdBvdBu2mZx7CGlcCD7WHgOFlH4vA7UWd4ZqrqFnQCA5rv\n",
       "5Xx9s8iMhw0uC0+JL9FIFLEtgqGn3JAXOSpiR/2k2qSHf/ElMVOAsFygOU7HW4nfvyCxB87CuT69\n",
       "A0Nw3uOhgkbiuc+I3F5mDCn0mYUifXCSO7upaVBCp8rve8oBE9Xm8uRpRfdR4mEHgKjgQB2RtoJy\n",
       "k9StYlQfPYwX4hCXetrc1SGa2oG0rX2RPI4+pxpLjl8lfwkdbqYyMWpvb9gQhUuu5PBEZPFB3Xss\n",
       "sUu/DGsvMDZFeRukjVABhXNQbJvbMeumofGAZS7yu0MtMBnzUmYmlUZxviohoUxsWd7l88Dr1CiD\n",
       "wl7PowolMMWUXLYwH6JJQ7b0Sw+I/Tuw32xqPH8CE3sAlXzyYwg0AomxXKeoT/oRhwZ+dD1UxRxP\n",
       "9endXRdfGiAosgYY1ivKJLtxe1eUg/bVk2Ylrs+u3XUKDVpVp0klprmAppTevnlGTAP/NwBEMsWP\n",
       "+UtSz2P2Og5yCVL2kgrBckuplQIFrqBBNj3pAG5+4RqlRYvF0MUBi81ivxlmgwLrKmdwVYzmcmut\n",
       "E6K74gqmhq9g24tVF4axKn4S2tcD72XVyo0wU6HrISaGjxZJ7QPiSgmZr1YXJPJAuEK6YWUzujiP\n",
       "kuqZJnae7dFmhkY3t6troDr7Pd4FNdcoa1pSAlJfQc8kwkp/SaAtH52YKZwbmzGx+HT4F7zmvP/d\n",
       "lIxOuCCA+9/++1dTi0ADulMG97HeIlTqz4C9KVWTjLtobS7MBYCEYp0iOlY9PQKWge6LAHSpIqAb\n",
       "oNs/0oFPHfhG9fl8/7NdE43bC3pdTeilVvxErByfxTK/WBWXAbgRBk+dvDguxLESHWl3w6BUKNbU\n",
       "z4C3DWwVrCfhdNdGSYtlcYVDBcK8zFTWK4GO8rDzggjwSRH16uxtmYGkuoiXu5qJ4RJKCQEqQAgj\n",
       "MklM/gqigJmH0SP/ppKd53l9N6W5XYYZDVDzFuh7ux8cAtQY3S3iuGYpzj1XjT2Ku1ymOgJ71j1a\n",
       "U/EMvFTwAmgtTDi1JEElE55hu/s0WthiMGg2mBznoFcehTCdhm8bpmNS6Wwc8qfylaX8AojCjxlc\n",
       "DCSL6EkQ4m0RzTx84eJc+UegMffDCZnAGmXAUlq6oTGjYPZ41Odx2cctzvRdYmQxQpjL9s7Kt3Lm\n",
       "zz9oP6G8d6SRi5OsfU6GRp5ZOpAAsRzgKPySnFLf8+9oT43FIQHJ5Wpgc5tQe8ti2Hn8hgPqvadU\n",
       "b6xB9U8Nz1ZA83PpKOgYiaqeQU4JM52CZdM+A04nxIKFbKx6H8WOJ/IJVZDAfmVuoa1JOnAoRfz7\n",
       "chJJLY27oEsoqTVGWJJyBfpqo7R1/VhcOW3XJhf+pcva7RSBwnTakZSURP2tizb1pDmjAaYjzpx8\n",
       "A3Hutu+EaTeDyQXW6XoizG0H93fetwHUtBnVm2dChIyBnRqavyZs2GC/f0bAWkRh1cCrH/RTg5Ci\n",
       "+ez1xyKZW8HtgjbNo+n9GsXbuf8OIMyuwh1YzSUP0k2k/fDim7KZGQEGv5udfaS/58wrnxwt3/Av\n",
       "cSovKRkx6hQaorme34fqpwZEcg06nobOYbcL0G7CZqe3/5Yt2HxLswocsZvuWExugwTJgDuKjrMm\n",
       "2pm5XYRajx/pDqUGCGtP2al+/01y8bUkYKKztN2LpNAgvBycxDeRIVa6e7PU6n1ARvyo+ETnVPie\n",
       "Q9ktP3TWTyCVMF19MgFD7/fohLRgiCXeQkWljJaj8h14ggl9HPQTmxXStZP0rSc660Rr2jbhsWHT\n",
       "Te1jMJlNpcqk6YvxqEDfd0l6kxydZLoElOcY8wgHw6gTEbDWV2w81yxKYp8Vo05Fq8/ObnDAR5E7\n",
       "L4zr36nwFB/ZKBCqfCJlWDg8LmiRsLlQ4IFE//jcc2DueY6eS8oe0y6Ew5S2BjxX9bxqucXuvTcX\n",
       "puz7vCg/n02Xq8jDpB79pHKJuLKDThpdoVuN/9HA7rS/xnv5kT2lAPL6OiS1+/FzjB0IiBqfJxkY\n",
       "Xh/yAjDcaqYN9TWfsb/j5I72IhxtqCihRp9XBp9ipfr9F3AHAkvNUnBJveHugI9AEys0p+JdMryE\n",
       "UV5ExKwi3A8e/vbvYObquaCG5l5KprxMvnjTmK0jsvRVj/+rCsKVDIQ4fUH+NC5hxw/HigW5Lr/8\n",
       "PoHqe/ExhfcZQ9DtWlBoFyI5JtoOFxdrEtyWpxi4AAyPWeQMv310NbNeTQyXdf3SzAHFP08Z58oy\n",
       "A2syLPwPSaC6FUXCi56ghd64W21N378NlYMXYG2ts0ouRIu++4NdJSQ4QpFNCIKDTQaFXSkczm5E\n",
       "M00tck8WPC2O0HrZ5+3v/x4sdRnXuh+pNJJxw6BW4LgAuIJtcvQhv216aH/xmK95g9xXwlwYzhRz\n",
       "GSw057Ei6X50/wpbzByOcY6I9q9fTNXjP+clen6dRRR8Q2MC4l/MUAIeOH+6tJrYhoFbQK+I5A9x\n",
       "GjH5+PQKhQHKF2sxMDN5KrZI2dA6L1BsdZ+VEQqrcr69/cXR552/lCArUqei4yIKPVVHe83vnkm3\n",
       "RDlvm3gCIyq0L+IvtNuV7TEFhsBaIh+Bfe2SnYe4OJmpOibUVM9DbMWHYSWs/UCYzpWRNe7uu/+1\n",
       "Yu+7dnlJgKGGyd33qeFFWKqyxh6US+AKzrVIFjkA7BASUZ4XG/geSIk9gQ8FIdmatlOGIWqPSZ5E\n",
       "5zfgrifc3hOb//3Srvs89yj9UdhRkEOTFoEv8ZDxecNS2DEg/RCqMfpLhJXG1QomV0q5FiWtIUtT\n",
       "wnC3yndizP39TU1GErP8Bu8tamK3sDumsLWTWsUJ2L6JA2zzZs2OXiZwMLBbhXOQ1AfUlx2eIo7E\n",
       "N6oY20Fk6uMvVNwdkoKwag58H79CcAGzUlEtsHvSF0GC69nvOrtZW4LHv2HKDFZG0nEclzpj1cM5\n",
       "mJ6UaOYNzs9+vRnuYI17/1Bop6/3H4KjJoN+Xq4ZxyOGe0nxbH7Nm710BqGeUSY8Jw5+bSnKv/pQ\n",
       "yJ/YUjMd0TIecNaPyEDj+WpQT9iwyWHVT899m5aSRnTgOw4FIPWf08pXvWt0yvP32QKAG9ztMJ5l\n",
       "Ut6NcDudInYfP1Fs1XU9qHurUaTK+70ZTDCpK36lLI/B+d0P6dEBx6zrFqHSCV7BGB3n3yX393uU\n",
       "Hm3tEyhSBFcXyA/n2JKfyL/PD1QnbL1TLcuY9b5E90/E7pzaExM0eYtX+ijor54Z5e43ONHylldi\n",
       "6fURb/XrJZ3MwSuWYUH0MvnhTM2Tm6RGFcAMpUujOssGpHGF/4aik8zLh8bUTNttkJPZbdk7Tf1g\n",
       "nlhAoeqGclFRK663yor3M4pkTF6ApdjJUic7xr7sQ8ScI+wyPpliyGoJkc1HY4/JpcRU8b7wQL92\n",
       "8V8iaAwPZaZqKuVhjm4jukYFMDDT7+KbH77jzlQ/pIFh7XMz9LEsCdR/WRjG/uKPbeMbxM9R/X79\n",
       "TBR+e099JQUCVz1/M0VhXHANbEwc9EGXYqJUAlbWStNxy/Qthnsbv7n4JJhwvFv5O2gXlBTBQ6o6\n",
       "cH7oN83vxuoX7PmeO+nBI/l70b/Tt/C+DB4mtgeB1zcUMRgd+5QGXkZRNuCwzSB5HKc4wj8L5KSu\n",
       "FKIL+BmjDzlKnhwV7mFZwv6kGNup7tJVrNpky4A7ckdtZloAkMoYmezsFniI6ycCLxw6rmaTIIfj\n",
       "xySNMiW6dSZcc49rFflFZHRk6j1tGlAc/VrQvlWR31zMs0CrSzT1stS+0nj41YfsB7/cqKAQxET7\n",
       "87TcTrJcZCtiRRaFQGDuyVl5DmCiik0jLDawPjRHcbhLUX1to1Bjo/FoR/8ew7IiobZgzEoRuHbh\n",
       "RMHVm0JgjLUa3U95/49b2m2rAuSwRxi9vBQ3bxC1bQSBWtM4b09pvbL2fIcaDcIVqDwWzEHR3WpT\n",
       "IDeFE9uBYNL8sBLp/a6HIErtgCZxExFYXsnvOcnpJPJYgYyxvzlxl7GPtlrno2/OSHGLWebj9kQ8\n",
       "nEAZzliQ4XJZwTc3MksIb9BeJNttYACayeEfOa3FKxk1sbyAQiGU7DfAodZABxAiHqDz1doDnsfX\n",
       "VjidquCrvEFBaEeowH97lbzxDIVIBkrIbZL6ZreBsxesa+rioePH//efAqmxEkNexpS3v3Vnzqeg\n",
       "6fyFF1UB6c4sImmSyYSlfL9b4Y3ca3uN+Cvu1fxvm3gulicOmK5dHqATR2/CfufEXpPU4CNxC0Ek\n",
       "IZibW2CvFtjKhNTSJBFu7I14m7ReaV5uNVbt+pT3odo3ZXQlZkbdGnbHdO677tW0pzZj6UA79bR1\n",
       "XB6EnvUC0kX0Qwr85HTXRRHrxWiqDYCO5We5OrWOPDn8fnVfN8uTgVeykjqUa6oGVayF/UwH0zcB\n",
       "8lbZ305JS9ATPlpvA2d1Mr5MLXmg0tZ5+QJsHb/R0tG1HfiwLB3/l5EcB3pIedqZPrYMBHFcBh6E\n",
       "gBF07FtH8OeyXGqevDy7I43draW7slltxx+t4CpNg30rbBktfbe+xOeob7zNotqcCXY7jUQmWiKt\n",
       "DfrS58Vlic/C14Fsi/ZmKfHFJdWahm6rWfWXMZhq5zDH9p1y5hAB9vOD7k7Gs/Tia+i/Znbzgdez\n",
       "DhSl3EPO4q8CA0/2b05Arp6Q8wgoAg6IOHV4rDxdA27rQjhti1NozEeG0SvHYi/+RsWLXAMdJXko\n",
       "m4E3jScrXM/ys+w/zFS0GELEER/G5tee7ofoMDEn4WZnBzxOqJkLh89xGH50/hN5T1X9nLVCXci4\n",
       "kWPfCmk/jPHGNORifOGUHeB8LBdRblD5Oho2myImgI8GhG9Dbvec/6nMOPkFLtVFsSfu6w+jiL7c\n",
       "6Be1wfom56JGprCzNg4u0tNMQ9mDtlb2iie0R8evq2ii00NiPWviPX6uZuwjnYFyhVQtjsPfjlrr\n",
       "Nj8TuyKnql0jr25Y4doTnB/06kcZnX6qlaYqljyL718SxTFAEkQYFyza7VjqIwBbzkhHnkOKKo6c\n",
       "IaFUDTNEsEnpnAF3l0Xc7iKstjv8JKIAOooIoGHRxKVE7Qaz3h1y4QAAAuNBmiNsQv/+jLAMrxOT\n",
       "nPgh0KDa4BoVRfwuRqlMI2fA0rUXqHHtLDQr+/MeV4MwqWhk5DwNVQaLdaTRb6mVzwxAXZAMsLda\n",
       "dokG+VIr6hyfpjH7LAy/2XndPpkmzCsue4xry3cJJ1gY307uLgas8YsyCaPKoQeDAlfiMp9WBMCa\n",
       "N5SJa1ioe6ShAlMFkoLOSmIbHm3g0B/kF8f71kZb6QKFzLpeFY+pQ0qPuqdTT5+QkpiF28Yb+jvL\n",
       "+rIdPAdh93nYax5fAwtmuVEqNQaH6PZgza3bsyoi9jslf5hrmLkl2Wr8i+ZI7KBN6GwhLokyCd8Y\n",
       "Jbd5c6nfFmin7w8+oeHgnTHHPl0gAntz3LOQ/eCJXfm8IXeytcPvyBWIFbwtS1jJThq8c/OOiZlM\n",
       "UlzC26d6PCVrJ9CWYvQeWie8UNbOKF3KLKpD+8HxmrF+vv2gw50yA/XmCpsHBLzExo32v9q+sT8P\n",
       "Lwpp+0zzFVIea5TgJf2AMDWtAvXpL6SKt8++M3admxF30cIfUmIgX0T27NJl/A/42nv8xuKBXd3P\n",
       "TL7r+7gXGZBl+aFBi0V3WrbNmu3Dgv838EY1ZbxbPoEgK0A59tbt6kRmJnR+W5LhrkwQHEC1kPY9\n",
       "P7EBj9HT3uTzXfds02wizI6jIe1TFqXriwlDlry+0UzT3H6csoVP9dNVqmAxWfQrfVf56OOrIHDM\n",
       "/Adj/EZKhvOwwS4b3mtiAphyMmhF052o7cct0We0mltRDjndFTVO5ckaj5+WhkwXzUwWpxTs/faS\n",
       "mFkVC/JvCiGCLbmWkBjaWGg0s8MIfUMvBV2j/kaCj7G+FnFcOPMfLwZHQR0uNmhVKFco+t+joyeR\n",
       "hOXv/8lysw0qUkRJ0hJeQ2QjrxTq4riogQ4xZpQ1Xrr8sxUtwT4O2vfBVMHTYv/lUtkvv2XedzLf\n",
       "zBywZ8hEx5tA0+2vVRvLFGQKm9b0eYZmVKnM32T4oOPFIV4JhUO+qAkoAAAAY0GeQXiEfwKo8ls1\n",
       "MDuK8Wg+3maqW7CS67jAzEQnpLuRuWx9acHDFUKQ3E0soUNTe3odblaMZUykXRDmpABDb3wHLayz\n",
       "MWT0lGC0SOYEBckgW+r8swbSnNF9VztPti+KnIDjgQAAADIBnmJqR/8H6jSmlFzOs8sPeAq7TOdk\n",
       "xCzAnhAXXdGVHDf8GACTgoiOFoZgAfxegHcWDgAAALNBmmZJqEFomUwIX//+jLCE4nJznwA9kmHa\n",
       "yq9Ay4wdqIk07s+OHhIB4ha1QEHGaDfOYWxTyU/0BHr/WhWqsUQXNFCz4WMvEM2WrcrTvKS6Bn3Z\n",
       "HCxchUR+joIdWszxTjeOZ7nhxqgzW/eq3wpZAJ4ErTd/hAhD16TsYKum8BtuqcXVJVvqQ/M9/F+T\n",
       "Q6L9egadjorx6RdWWz3yJSWzE+Vp3tKmUdVo/FNm/lsXU8nqQ/jTNQAAAD9BnoRFESwj/wVVNWKK\n",
       "NWX/n/a400T8JvPqbZ8GbjWnKCGdp00KwQnABcXy+ntgRJ3LXriFZ77Zay41WGQ/04EAAAAlAZ6l\n",
       "akf/BDPkQhmns8VCb6mI+JViAC4nzbkmt5JZnXZMsDDEgQAAADxBmqdJqEFsmUwIX//+jLAAAGe+\n",
       "WCbAJr6lHFhTo5IboyjOiR7fmizo09xTXRj2hv1vOgaA8IRX98Zl5BMAAACJQZrLSeEKUmUwIX/+\n",
       "jLAAAM87tsBPBUY9YKz13s6PYmWtwefxC1I5WXbwq78p0BxOguqZJbt2d5aTyYqy2wOHova81KeP\n",
       "hWlbotDIU9aSuBek61tiELLNbO+cBtSs07Um/Tu4J+1QVn8sxfUQuqiaZ03MCguhLbViCF06rl74\n",
       "+wd6yAZMhJF/0bAAAAAjQZ7pRTRMI/8CsdTvZeCATCEYU/MArWmFkvfMAxW26XdVERgAAAAiAZ8I\n",
       "dEf/BDGI4k8GTKYZhiZHPl4fQEAC1CLAct3Qnq48WQAAACIBnwpqR/8EM+RCGaezxUJvqYnl2sgA\n",
       "LejsXRDXjeE+QSbQAAAAREGbDUmoQWiZTBTwv/6MsAAAykPbcAL/bAhUVt1zhfMeynYaNBaZuTwR\n",
       "q6a1SVlx2ZfGlP0kZW7RPU17xn2alT7T0WmAAAAAJQGfLGpH/wQ0+Ti/2GhcEpavgU8WnYvbc1sA\n",
       "FoJdExwVZ6OI6PUAAABfQZswSeEKUmUwIX/+jLAAAMoNO3wRgCEei+mOjwwQG7b2qQfzix2XTgvv\n",
       "axN1l87zebh+tYBZI2dNk7kYoS1jbfMPuMEqTc0XWTqRQ8vK5ZL1rzbbzyTHDKftPZ9PsuEAAAAp\n",
       "QZ9ORTRMI/8CsdTvZeCATCEYU/MArWmFkmZb0AAXQEJz24DEvmUrwgsAAAAkAZ9vakf/BDPkQhmn\n",
       "s8VCb6mP1tVfamACWXZvX5a0bZJtcdPdAAAAakGbc0moQWiZTAhf//6MsAABlHdtgGja3wAvoJHn\n",
       "K1Bw/5yMZPWlDR0Vts5qX8ud+AyEuVc9pfowW+fKvOPnsIe6HqaQR3Jpmz+Z0wLY4qtjS3OeTv5R\n",
       "OaR3JD7fRWdHENbITZxMY2MhukAAAAAqQZ+RRREsI/8CshQcHqn7pq7TPCOk0Uu1pwAmrFnYULBZ\n",
       "Rv6Rlb9HhFBNAAAAIQGfsmpH/wQz5EIZp7PFQm+pkkQdABwASOlwb5jjEdlxIAAAAE1Bm7VJqEFs\n",
       "mUwUTC///oywAAGKhTPgBeaC6Fkz/s2bv7x1dhWCQZTG+KU87F1xgBptn1MVi8v53rmVshhjaGZ6\n",
       "4K5YLjvFc2+z6w9aYAAAACkBn9RqR/8ENPk4v9hoXBKWr4FPFrH/lgAJxfHv7wWJLCNIAnK2Yyl9\n",
       "wQAAAHFBm9lJ4QpSZTAhf/6MsAADFO7bANG1wmVluy+kOZ6jAsflUitkzcejq49VSnIZTPKpW9XY\n",
       "eQ23qdkVVUTi/Np2aJ4/Sf5DdFVBTcP46hOzpg6n+v+JwWYHLOYw9W1H/HPvXGUfrtaFxK9YbFq3\n",
       "lQOjNAAAACxBn/dFNEwj/wKx1O9l4IBMIRhT8wJTrEQAssu6mMpA+LjH9+TaE8VRjK6g2QAAAB0B\n",
       "nhZ0R/8EMYjiTwZMphmKfi1pGABLIF7WJ2FduwAAABwBnhhqR/8EM+RCGaezxUJwurRwALqC+VTd\n",
       "m/SiAAAAXUGaHUmoQWiZTAhf//6MsAADFO7bANGvE5BRbuQOuh/CcKV2a5LAC3WwqJ83XLCDFdUh\n",
       "kRq3w+UqpPpoLqxAEevfm7KQXXFVAei1ZUZlAqH43VqcxjlFPCgBuTxL8wAAAClBnjtFESwj/wKy\n",
       "FBweqfumrtM8I7AgNq4bAAsZufWJjVCq+AIt1NE/UAAAABcBnlp0R/8EMYjiTwZMphmKeaadvR5a\n",
       "+QAAACABnlxqR/8EM+RCGaezxUJwo7IwAC6i55d0o+uiiQPxcQAAADhBml9JqEFsmUwUTC///oyw\n",
       "AAMBDSQADpHlcYqhCkYYd8j5DXxLcjB1L+dOIvee8tzBq6zsKpDsoAAAAB8Bnn5qR/8ENPk4v9ho\n",
       "XBKWr4Ft7Tzu4De6g+DRkv6AAAAANUGaYUnhClJlMFLDP/6eEAAC+wqpwA5Y2kVZXn+2LbjlK2MU\n",
       "8h8sxbKT7qJ+1NqEULmEiKphAAAAEgGegGpH/wBxQnBufPufdfUiaAAAAGBBmoVJ4Q6JlMCF//6M\n",
       "sAADAP6UIA5rX4PCprjoaXXGEEgfY2RNEk2p2VKFeIs/Mr7TO1UDiOIMNBBLK9m4Oea8tdHew7U6\n",
       "SST+lfbMflrWhXc+3TT0qSLltYKzR4zF1IEAAAAjQZ6jRRU8I/8AR2fMEBCKoAJxqqjxH3fyh80V\n",
       "t/bADVqdQlcAAAAWAZ7CdEf/AAGI18wAHvtUq6f8qF93jwAAABgBnsRqR/8AAYf4W34ACyEaXfH+\n",
       "jXm6hYEAAACKQZrJSahBaJlMCF///oywAAXbHbYBqVeZSADm+9rR/q7ZYKlfDn64SJqXrervv0Q4\n",
       "50eBqUlIgeE4WL/hoT1UCuahfnSQpFKAolzF1IddoLX3BqH4I2VSKDw7OI/zVlO9OFTkr60GS/I6\n",
       "jJqGk5jDGCcXLsb/ABDjSkmFjys9ZLVVFA32DRMZccyBAAAAG0Ge50URLCP/AEeKgD+AnyY3zJ+J\n",
       "1lCaBu2bgQAAACABnwZ0R/8AAv2VRABc7R7G1MrHRAqoo04LBgF4w1G/YAAAAA4BnwhqR/8AAuig\n",
       "Cn5xuwAAACpBmw1JqEFsmUwIX//+jLAABbkaDowAhlg/FWbHFWs62W3uZnElWS2flN0AAAAeQZ8r\n",
       "RRUsI/8AR4qAPmQ5IALP6g2rkXdAXG0c04KWAAAADQGfSnRH/wAACNLCCjgAAAANAZ9Makf/AAAI\n",
       "0sIKOQAAAENBm09JqEFsmUwUTC///oywAAW3KdAA3m3vv/qD8H+A471hv8HXri9MyT9R3btM6WFW\n",
       "x20GcjDHB1+0NV3vu1JlZvmBAAAAIAGfbmpH/wBxe9yLfSNIAJlnZs8sLe+LychtWcweQlRFAAAA\n",
       "MkGbcUnhClJlMFLDP/6eEAAFqzQeAK1S4WgFiL4u3I3d2wUfvlWdxyttWu0V4QbEIllAAAAAFQGf\n",
       "kGpH/wBxQnDJ4mfj3jUL29S2YAAAADNBm5VJ4Q6JlMCGf/6eEAAFqdWxw10OAK35LLJG1olARW9h\n",
       "RwdoomFaeVao2g2lsoBEsoEAAAAbQZ+zRRU8I/8AR2fMLFvvoV4HlkG2hFf1IE4gAAAADAGf0nRH\n",
       "/wAACOsRxwAAAA0Bn9RqR/8AAAjvyIWBAAAALUGb2UmoQWiZTAhn//6eEAAFsJFtsAR2nA/OmO2z\n",
       "VNzynztsmUv+ANhh9ALZ8AAAABlBn/dFESwj/wBHioA9tiWo4HuUAZlmpk8pAAAADAGeFnRH/wAA\n",
       "COsRxwAAAA4BnhhqR/8AAuigCn5xuwAAAFRBmh1JqEFsmUwIZ//+nhAAC1YvQAHQNxqbEXBPBOf8\n",
       "ysrWbDvc9IPLIBLrsJnT77K1QLdYMaOZFWarEY4GaQkWP/lx2QWj40/HtVvvZgdxCW+az4EAAAAk\n",
       "QZ47RRUsI/8AR4qAdOVU4uABIt0A1TLlY7VnE30Mw30YcktgAAAADQGeWnRH/wAACNLCCjkAAAAX\n",
       "AZ5cakf/AALrnGAA75rG3A28UJU3QA8AAACKQZpBSahBbJlMCGf//p4QAAtWL0AB0DeUYCqvp7kc\n",
       "wFVNOc8NRDwA5UjD15aRKqY48yUF2jDTXpgDS1wxfRbMq8B/aAvjLEWb1ohDORAaG0oz0zdvzYyu\n",
       "zpF6BufWfzojfHFkHQWvRfHOcO+hwgYrWZRizfy4LPI/oHJ6yt9DRJAKwhH8JwojiZmAAAAAI0Ge\n",
       "f0UVLCP/AEeKgHJoDVACaPeFpN5VEdWrnxnfQ+38dpXgAAAAFwGennRH/wAFr9LLpDgAm/tr3kt3\n",
       "Iri3AAAADgGegGpH/wAFrUAVR18cAAAAPkGahUmoQWyZTAhf//6MsAALJlOgAdALUNO7KZ8gZf57\n",
       "R2tI3I8SK0Iwz+OSnySqJ891zIm7Rh1YYutLz8pvAAAAI0Geo0UVLCP/AEeKgHJoDVADcv9xtKZH\n",
       "8BOU1OZofL2xEumAAAAADAGewnRH/wAAEeGkHwAAAA4BnsRqR/8ABa81iqMzjwAAADRBmshJqEFs\n",
       "mUwIZ//+nhAACwwPuFb5wBW/XENnXT0eub/zWUruW8uJSm2WB+jZRY6TXTknAAAAFkGe5kUVLCP/\n",
       "AEeKgBWUDvetPuGEK2cAAAANAZ8Hakf/AAAI78iFgAAAAFxBmwxJqEFsmUwIX//+jLAAFm6aAJNe\n",
       "66VWfwRwXc4MRS7muOvtmqjq5UKXJ5Gz/wEHKmFgWbzDkJHrVZ8wbmKDqu/PzGrYiZwxrzKskAPS\n",
       "mYHUjfD47a70CPvjegAAACNBnypFFSwj/wBHioDfTdSaZIvrAAXUXJcBbQPNvCCkfodxqQAAABUB\n",
       "n0l0R/8AC6C7XYmVOvQVfiEFxiAAAAAdAZ9Lakf/AAumYTAv2kACZYhxfui/nhqHfwh+xPYAAABl\n",
       "QZtQSahBbJlMCF///oywABbmGjBqwbAFaouEp9KdhltTS+nrjC7ppG1+WFxjvnStpacK4VUDHGvS\n",
       "dw15j/JEe2J8PSuogz0httH6vgiL06o789LZlwkdrsIvF6QJladef0lyLQkAAAAmQZ9uRRUsI/8A\n",
       "R4qA4RrFpB4GgBtE2YavvnVMnpLH2CCJc3h01kEAAAAcAZ+NdEf/AAusxwAX4Ng8iDY/ve/Q8S0k\n",
       "pgSggQAAABYBn49qR/8AC6zHAA4iDOD5hmG0oreQAAAAY0GblEmoQWyZTAhf//6MsAAqn+Qs7s33\n",
       "wAb5joAoQnUs+mBRa0qZc8ITRCj6pEaT7+Y4V14G9g3Zs4gF5a1Lhppt74WFqpS7cvcL51IVBVzT\n",
       "//HuiQ2/4XDoIEqzB8uL1aapgAAAACZBn7JFFSwj/wBHioDg4EDSopbgAqCkkeexnC0qWMad33St\n",
       "QdocgQAAABkBn9F0R/8AC6zHAAtce7z92sp3elT+gutGAAAAFgGf02pH/wALZbigBC1vURRWwbdi\n",
       "PjAAAAA8QZvVSahBbJlMCGf//p4QABavlIABt+uHV+MFX0pzGbsKc1/3OL5x9o0RLCS+KAM8ZDE2\n",
       "zyty8cDAatLPAAAAQ0Gb+UnhClJlMCF//oywABb0rE78ANvS3FKHdyQZlprApzBwTqQK4t4mf3x+\n",
       "mN2AH2kmKvw15Ykll/Wq5of9FiZo3oAAAAAiQZ4XRTRMI/8AR2fM5GxkEpWAAugJTx3cofo3DAaI\n",
       "m5UJXQAAABMBnjZ0R/8AC5wEAAFWdLUoW5WXAAAAFwGeOGpH/wALZ+8wASwkfSzYl5MdRYlGAAAA\n",
       "PkGaPUmoQWiZTAhf//6MsAAWTWkgAHLC2ZsnWebtMJsWJb6kicR2cGEHqchafEMMbj02ZZ7maxyw\n",
       "U+ZwUGMDAAAAIEGeW0URLCP/AEeKgN1+y4AbqoVJUs7IBm5G0mGTRLpgAAAADAGeenRH/wAAEeGk\n",
       "HwAAAAwBnnxqR/8AABHZH58AAABQQZpgSahBbJlMCF///oywACpYfZ8R9WeLrvo1mFlLBGvCg+n4\n",
       "6JVV6c55rWUBGfCZi2G4hvCovEXLiL1vqNNSx6BgR7WwZYpE5/Yk5UfzNCAAAAAhQZ6eRRUsI/8A\n",
       "R4qA2w3qhsALRdJyeRna+tBtKRsJOIR3AAAAFgGev2pH/wALRsAZ7ABbcwtQl46im6MAAABiQZqi\n",
       "SahBbJlMFEwv//6MsAAs2+Pgm7QAGZROU2ffK3YLMs1uhf7iWBgovyuvv0Q450gGuECE3g33J7Aw\n",
       "mUqh2mhypyNKdv+tDreD//hXxa3tGenKciKxSugHiRr6ukE6mfkAAAAlAZ7Bakf/AHF733Mb3gGp\n",
       "MDDqC+pOYZmd1pTzkUV6Ie6ItrCjQQAAAFZBmsZJ4QpSZTAhf/6MsAAsrC+WScgDMouEyNu9PJGt\n",
       "d7Qv0QxIkHuMnNuxsk1R4BksPchiIjeyM90Mvs2AqZ8jlSWWiMk3bTkQCgDT/01VJKdO5M0OOAAA\n",
       "ABtBnuRFNEwj/wBHZ83N3Hq6iD/fL5B0pWp1Cm0AAAARAZ8DdEf/ABaxWKmSmedobNUAAAAPAZ8F\n",
       "akf/ABXgfOSTBFVhAAAANEGbCkmoQWiZTAhf//6MsAArjDDWwGwAX2enBr56tHGQhR5Jq6pPULaA\n",
       "cqpLQJg33u3QccEAAAAmQZ8oRREsI/8AR4qBpJlewI0IAZeypeWF8mR7ZL2TKZI59R6l0tgAAAAT\n",
       "AZ9HdEf/ABYaY3GW88BVT8O9oAAAABIBn0lqR/8AFaIJye1dNcrbO8EAAAAwQZtLSahBbJlMCGf/\n",
       "/p4QACsZoPAJrozEA/a5o+bWikecJKo7HWDT4OgpF42RWYj4AAAAVEGbb0nhClJlMCF//oywACt5\n",
       "vDANX1JO/rlzh3zFZlm+qMxuB7GGA/qm/OXOqx/QETRi5XUK/sr2GSfPwIkdgO1QFIxcxMOD0u0z\n",
       "JjlN1rwsUzQ6YAAAACFBn41FNEwj/wBHZ83DBmYAJq6ikN1rWMSW/tgBq1OoSuEAAAASAZ+sdEf/\n",
       "ABYYOjwxxHtYtMAxAAAAHAGfrmpH/wAWJGScM2r39eABF51tyhhMIxVbS0EAAAA1QZuzSahBaJlM\n",
       "CF///oywACpa/uQA+cov9HPf9KyxEkoK5xsma2A6J7G0PwpS5vdfPqvDDKgAAAAhQZ/RRREsI/8A\n",
       "R4qBnv2XADRNGeJax3khk67VysMmiXTAAAAAGAGf8HRH/wAVr95gApyuJ4i4DgVgv0S1kwAAABUB\n",
       "n/JqR/8AFa/eYAI7Pt4QYL84j4wAAABNQZv3SahBbJlMCF///oywAFSy7tgCtUP37rNtgR3kmA6Y\n",
       "OPSbMRq/JVkr04Kv5b0AZqZ8ataqWxdTXWg4t0X8VQOEDPOmrQILskHYBjQAAAAbQZ4VRRUsI/8A\n",
       "R4qDKA1YDSGLrBnbWytsdMYhAAAADwGeNHRH/wArPoaUJc8DnQAAABcBnjZqR/8AKzrwUAE6vgmb\n",
       "xWsFPoyD2QAAAD5BmjlJqEFsmUwUTC///oywAFd3x8FXP3nSjHrGxhqW7sJ+r2z7T5jhYK67W6bX\n",
       "FMbBMmOZMbjrSEYkWPgRsQAAABUBnlhqR/8AcXving6OTVwT3Xp1VKAAAABEQZpdSeEKUmUwIX/+\n",
       "jLAAVuvpSJwFFMcKGGse3NMW7YFum0UL/UgFtLlDMJkYNHkIz5CuxctTg8TZH6C0UDf/kVgxQdMA\n",
       "AAAhQZ57RTRMI/8AR2fPlb0JhACumZYs/xaL/1QnzkGw52ugAAAAEQGemnRH/wAsRkxMtQqBOct7\n",
       "AAAAEQGenGpH/wArOaw8hmVUUS3tAAAANUGankmoQWiZTAhf//6MsABUsp0ADlioAelIcBV5Gk6I\n",
       "mJ/vL6QNksBwWDQS8Gn7K8RMIYMqAAAAWkGaoknhClJlMCF//oywAFSx22ASbGt+2kKUUzA50ZYx\n",
       "stPPSXTQ/m1nExSttptt9icL7wp//rnP/+al3/XnSPvwAgCJsol3NftjIMj2YvLxpKGiO3aOwYoO\n",
       "6AAAABlBnsBFNEwj/wBHZ89/uYvAKSr91mJ71CmxAAAAGAGe/3RH/wArU+qACVvcbikNn4IgjePS\n",
       "9gAAAA0BnuFqR/8AAAjvyIWBAAAAOUGa5EmoQWiZTBTwv/6MsABScp0AE6Lnc4vVfzvisba2NPkZ\n",
       "WgKy396SPdPXeM10MkurwwqtBDBnwAAAAB0BnwNqR/8AcXviPu7N0AC3L4cenxcJzZj1jc0LKQAA\n",
       "AEVBmwdJ4QpSZTAhf/6MsABSWZRmRUfwAoNq2Y3VtPo1t/RfCZzWqv/fxWRb1xnSq+zN4moqFNb5\n",
       "dPf7wQ5rdWHMPcfAlYEAAAAaQZ8lRTRMI/8AR2fPYGy5R7HscfAGckPAskEAAAARAZ9Gakf/ACl+\n",
       "dEt2DBZtv6kAAABDQZtLSahBaJlMCF///oywAFJZfV7VXYA5RpSczyjRg1V8RexyzliHrRfmnP9E\n",
       "5W0zKKdnUpOYh4MGUyCQt3qjujRhZwAAABtBn2lFESwj/wBHioMcNVpVYMvscgCGc8P7yIAAAAAR\n",
       "AZ+IdEf/ACoeH2edlCzAB3EAAAAXAZ+Kakf/ACobTMAB/N1tuiRN8YKD7sAAAABJQZuPSahBbJlM\n",
       "CF///oywAFJ1pIAByxOo3uzy0+PAhZWsTlx+uTtVwn8SWykvrwSKm3FN2F/mfNPtWZ1vJ1vTpo7E\n",
       "KC1BgZmEXAAAACNBn61FFSwj/wBHioMUJxGgAk6oCGLbqOi2lwPaPNnY/p96yQAAABUBn8x0R/8A\n",
       "VDzxmPnYQQ0tQ3rO2ZkAAAAYAZ/Oakf/AFQT/6xwASyiZ2NRZSAFocqBAAAARUGb0UmoQWyZTBRM\n",
       "L//+jLAAVL7Ggz9gDhp3DVInGS8KEq+2376pFk8ut5IpNzXJWFmjm3S9vskUzueESk8FXuQBBTtD\n",
       "GgAAACABn/BqR/8AcXviU0hwATZvehWrOk2j2N0xDmliG4wo0AAAAE1Bm/RJ4QpSZTAhf/6MsABQ\n",
       "IMaFKtPgA27WgsQEixno9eg1pT7MUwSdaOmfsJ0xR75jzNVua4WlpyJOKAQwxyiW71keBpQigHZn\n",
       "gLZhHwAAACZBnhJFNEwj/wBHZ89Mu2rQAON2tK4bSX7dRbSSCjjtn05Xl6hJ4AAAABgBnjNqR/8A\n",
       "UggcGxp+AAt1eE72Bw0qq2wAAAAjQZo2SahBaJlMFPDP/p4QAE+ZTVKOKAI7Euzd7Mq5trogZUEA\n",
       "AAAVAZ5Vakf/AHF73Dsi5vUDi7dc0tmAAAAASEGaWknhClJlMCGf/p4QAE9e40MNF5DgE0pU4zBC\n",
       "6zBJirNaHEzRMwf8hxZxG7Yuj1Alrkr7l8bnz1jDQJlwI/V3w0AqFEDKgQAAACVBnnhFNEwj/wBH\n",
       "Z89Lt+peoALoGwCqtlKeycFDKYv83zpeoS+BAAAAFwGel3RH/wBQ4g7hz2AC6Sq2KttVP8hIAAAA\n",
       "EAGemWpH/wBQ4g6uTl5bzkkAAAAfQZqeSahBaJlMCGf//p4QAE9yrXAHzpn/qeUfcWDpgAAAABhB\n",
       "nrxFESwj/wBHioMKDAvVDpDkq5IdMIkAAAAOAZ7bdEf/ACji5FQhDNcAAAANAZ7dakf/AAAI78iF\n",
       "gAAAAC1BmsJJqEFsmUwIX//+jLAAUBmOQM0uANqoIORTV5fpTPMkeZ30mwdOU1zugekAAAAXQZ7g\n",
       "RRUsI/8AR4qDBz2cXvNKMzbUwaEAAAAMAZ8fdEf/AAAI6xHHAAAADgGfAWpH/wAo+awjps1rAAAA\n",
       "REGbBkmoQWyZTAhf//6MsABSXI+WYpYAWCi4RwWyCxTUF8xheLEOymlUVzdeLEMEE/Ethg/aseWW\n",
       "+7ge9W2lZOTZHwJWAAAAGEGfJEUVLCP/AEeKgx8mYbZNmH3U5kQrgQAAAA4Bn0N0R/8AKOLkVCEM\n",
       "1wAAABABn0VqR/8AKXsdbhHIopbBAAAAJ0GbSkmoQWyZTAhf//6MsABSc9f0ARIaTRfybAZxBLR0\n",
       "WPC9lvQO6QAAABdBn2hFFSwj/wBHioMfKrB4F2LCjUpRIAAAAAwBn4d0R/8AAAjrEccAAAANAZ+J\n",
       "akf/AAAI78iFgQAAADZBm4tJqEFsmUwIZ//+nhAAUbVVOAEZG/1X4l8nyFf3cXE+PG7w3yGplD0T\n",
       "SQK/oIj6GvGFg44AAAA7QZuvSeEKUmUwIZ/+nhAAUbWf7gCtUuJ81sdqpWu/+bKz24rYTHDzm+EU\n",
       "JqbbXfoVLg/pXzKzXgaiBiwAAAAhQZ/NRTRMI/8AR2fPbfsuAE0wmYEtCIYsAeGNkbdaXR3RAAAA\n",
       "DQGf7HRH/wAACNLCCjkAAAAXAZ/uakf/ACoPc1gBCWBFWKBBT9sWfJ8AAAA6QZvzSahBaJlMCGf/\n",
       "/p4QAFG1n+4AhH4iBhY++z12ePct2MUoqfjiUY7RYFv/hA8yJw0JMQxUtCIGLAAAACJBnhFFESwj\n",
       "/wBHioMh+y4AS1UtBNSsVgcDwzcjaTDJol0wAAAADgGeMHRH/wBUPRioCPOPAAAADwGeMmpH/wBU\n",
       "SCIqAMj8gAAAAEVBmjdJqEFsmUwIZ//+nhAAU/OPcAOV2Sr9aRf2eGQYtmccZg/A77V0S+ISjL/t\n",
       "r3StkNBdfW7C7nCol0QzynUc9BnwRcAAAAAYQZ5VRRUsI/8AR4qDMyqwUBdiwowezphFAAAADgGe\n",
       "dHRH/wAqHoxUANG7AAAADwGedmpH/wArKYDDx8WEswAAACdBmntJqEFsmUwIZ//+nhAAUbWbgAEa\n",
       "u4Ok58NOc1iYM75Ug6sTgoMAAAAVQZ6ZRRUsI/8AR4qAFZQO960/nvFQAAAADwGeuHRH/wAqEa4R\n",
       "x0LdgQAAAA0BnrpqR/8AAAjvyIWAAAAAJEGav0moQWyZTAhn//6eEABRnWVNsYoAhNmufswMCXTT\n",
       "HjOCgwAAABlBnt1FFSwj/wBHioMTlYMpz1HQknDqAbLBAAAADgGe/HRH/wAqAuRUAQzWAAAADQGe\n",
       "/mpH/wAACO/IhYAAAAAXQZrjSahBbJlMCGf//p4QAKNxAmSwGLEAAAAVQZ8BRRUsI/8AR4qAFZQO\n",
       "960/nvFQAAAADAGfIHRH/wAACOsRxwAAAA0BnyJqR/8AAAjvyIWAAAAAHkGbJ0moQWyZTAhn//6e\n",
       "EABPcsaUAfDzHv/qBosHTQAAABVBn0VFFSwj/wBHioAVlA73rT+e8VEAAAAMAZ9kdEf/AAAI6xHH\n",
       "AAAADQGfZmpH/wAACO/IhYEAAAAuQZtrSahBbJlMCGf//p4QAFGx2lAEauzCOeOj9O+2GBIyzUEs\n",
       "QwDrKOT8atDGgAAAABdBn4lFFSwj/wBHioMeAw1snLD7t0yPaQAAAA8Bn6h0R/8AKgKTa4LLqGsA\n",
       "AAANAZ+qakf/AAAI78iFgAAAABNBm69JqEFsmUwIZ//+nhAAAAdMAAAAFUGfzUUVLCP/AEeKgBWU\n",
       "DvetP57xUQAAAAwBn+x0R/8AAAjrEccAAAANAZ/uakf/AAAI78iFgQAAACJBm/NJqEFsmUwIZ//+\n",
       "nhAAUZ1xPv4AGxMzYDi+eL9xYOOAAAAAF0GeEUUVLCP/AEeKgx8qsHgXYsKNSlEgAAAADAGeMHRH\n",
       "/wAACOsRxwAAAA0BnjJqR/8AAAjvyIWAAAAAM0GaN0moQWyZTAhn//6eEABRs49wAh3Ay8xVs5tA\n",
       "atZba0iidz18ZP7tCSRrnYFpxFg44AAAABdBnlVFFSwj/wBHioMfKrB4F2LCjUpRIQAAAAwBnnR0\n",
       "R/8AAAjrEccAAAANAZ52akf/AAAI78iFgQAAAC1BmntJqEFsmUwIX//+jLAAUnWkgAFc34in5OVC\n",
       "E5HbZNHJlRlWvLnvlTBgz4EAAAAaQZ6ZRRUsI/8AR4qLW1V4pwsjHhFVpLe6JQsAAAAQAZ64dEf/\n",
       "AFHF3GrZQmpoTwAAAA4BnrpqR/8AUfNYQ6bNawAAACtBmr5JqEFsmUwIZ//+nhAAn/u/g900oD7g\n",
       "ADgYcScMvNi4/ekQciNGwsHHAAAAF0Ge3EUVLCP/AEeKi2nX+7neNk09O1EhAAAAEAGe/WpH/wBR\n",
       "82mRG6HIPwsAAABCQZriSahBbJlMCGf//p4QAFG1k9wAsBuCMljDFD40osNdrmV3DA8L9yv6b+aa\n",
       "+He2YuUH7QAaAcUh+jT05H11GcFBAAAAGUGfAEUVLCP/AEeKi2nZSohpea0IFLp2d0EAAAAOAZ8/\n",
       "dEf/AFHFyKQhDNYAAAAOAZ8hakf/AFHzWEOmzWsAAAA6QZsmSahBbJlMCGf//p4QAFPw64AadiEh\n",
       "bVuqgJlfcCfZ8dVmCBpbOd+taCljFkpUuDkAz3e/PJgpIAAAABpBn0RFFSwj/wBHiotp2WUQiB+S\n",
       "QX/j5FyX/wAAABABn2N0R/8AUcXcatlCamhPAAAADgGfZWpH/wBR81hDps1rAAAAOkGbakmoQWyZ\n",
       "TAhf//6MsABUs83gAjI9C0ugLSDS/cb1ve8MGkVv+xjsEwMMQkm5T/fRJLA7T2YoO6EAAAAaQZ+I\n",
       "RRUsI/8AR4qLadlnOqXYAdVQ4uZ4ZMAAAAAOAZ+ndEf/AFHFyKQhDNYAAAASAZ+pakf/AFHzauxw\n",
       "P9lLU2KBAAAAOUGbrUmoQWyZTAhn//6eEABT849wAcWlxeRIGkv8YrhaJgHFRAqU/gA8M5UzBwDg\n",
       "Og8+elVnpq0MGAAAABlBn8tFFSwj/wBHiotp2Wc1xe70mL+Lme0NAAAAGQGf7GpH/wBR82rvUQAC\n",
       "du0IcAPnowdA5jUAAABXQZvxSahBbJlMCF///oywAFS0/4AR2s6Nuw/x1uv6lym4jE8jGOwFsCVZ\n",
       "xKHkG+XRvFI+vQbQXf94w350gsdZR//5WqtOm/csayOI7gIXUj8KRO1/yCphAAAAJEGeD0UVLCP/\n",
       "AEeKi2nZVZCGTmqGAAmMk0ttDNGy+3ticmjcgQAAABkBni50R/8AKpVHtBWkCACbOInIOI3NlryW\n",
       "AAAADQGeMGpH/wAACNLCCjgAAABNQZo1SahBbJlMCF///oywAFdMsSwJe+APPc9+2a4xraFNiv4w\n",
       "2bK+Kd4w5OkmebZ+A+Ii1cjzPbcfXryoDcK+MYfLlh1825MV0Ih8CNkAAAAkQZ5TRRUsI/8AR4qD\n",
       "RfEj0rCAFb7qXsip9TrQZQJx9fGhEwWAAAAAFAGecnRH/wAsKwRqb/THa/EF7EKoAAAADAGedGpH\n",
       "/wAAEdkfnwAAAChBmnlJqEFsmUwIX//+jLAAVLKdAArkAiJv6hvOX++kl3ozXU0IMGVAAAAAFkGe\n",
       "l0UVLCP/AEeKgBWUDvetPuGEK2cAAAAMAZ62dEf/AAAI6xHHAAAADQGeuGpH/wAACO/IhYAAAEDK\n",
       "ZYiCAA7//vdOvwKbRZdqA5JXCvbKpCZZuVJrAfKmAAADAAARsIY/zxd2GYDzCPX/lO91U0wtDhh1\n",
       "s4jiATQdypMqME8T8p27XjviDtSrog8Yb8wOrefaYqwq8SN02AAATgfI0ONRGo+nChUFwqjXwJMr\n",
       "LrLAYLo+VQkDglUteE0cxmEwYgreZt3xmUIIXcOWJ7B6yjOVO4q4ltnWbslrX7YOQS6CTFBjyw8I\n",
       "2IXl9/OxC51cWJMTGWBj3oNEWiAEZwb1AkWsOWg4mfi5QDh3UnoQE6ys+WCXc/7ou5UPi6wNAhyr\n",
       "6cZfLZ9iipCOGFQHz7lAA50AOIzJSHUK360qQvFLE8WhXc+t9x09vqnq20KPT+CpcYVPxj7VGLMO\n",
       "O9fGE17Pqr2TczVo/t0YM7vUgREDCsGHDK8ynVH2Tjgm5Kl9cL1eLaBfrhPIGRSMCr8/ws0nckUT\n",
       "5HP/pkNxFgZz6/EBiqwLt+1aw4JKrw2EmLM4IjElRIhJkddVYXTNVRVSlRlEfzGf+jf3areTNcIl\n",
       "NNB6J74N/r+Dbm283A9WoZhbWXAVSnD4kgQy2c2hPy/Wlz6AQLM1k1Lc2mQIaDyY0bosoEfh9h6I\n",
       "R0AHGp4CvDdL/nWstPzSvV8zrnwhMYv3YKvxa88tCdM14JXMsgSuowP1QjnfP8xrsBdmN2izyJxy\n",
       "Xvc0hcEDXiYCblBwFcBsmH/9DofELwpQQeSRTPLQ9KVN3MpX7AA+k8NdLnCYmtilqcvum7XMqW4P\n",
       "R8Ee4RGEm8BhcZ0Z1YhTWZ3OuOUwP7KjOgbO99Krk63Pd02Zc7mN3UPIHIoV/To1os01xywJGLHZ\n",
       "z+n37ox7HcmowOBKY60Cd3oJpKnrbRM307fsEHC34he7+4pGL96Nw3iHOa8wvdrSe0xFSEIS6fw4\n",
       "gskq1okcVbVJirva5eet22nmp93nPxH0RyQOuwa5ZyUVlMd8MdW9tYS2x4qpGxUuZE8WeoCoVOeB\n",
       "kwFeJ8ZST3ZsSENvwNG+a0KtmLUiQzVj5Bor6dULHZ3HT5mHwEXO8T78W6usC/cEMn7Nn0+ztcpT\n",
       "1xZ321OUz3dhUn+rOA9AlTsphttIh50o/t7WaN7G1j6hvMHMGke70rDcM/9wbHZmdg/QLvWR3aSh\n",
       "ZVqapOLQsdYDpJlKumJgbN9z+ZcI1xxiYFFEQcFI5lUG7xI91tjqli9Kf100UcS1OsJgp6Cygnhg\n",
       "8eoOIdIJap4n3zeqBnB8x2cJCpqh0IYHmaCshb8THbEolXap4opncBxxbqVAq2+uyHlk+qQtVEZ8\n",
       "//m4QN5W8NJbGUiTkNSbJDGqamiK0/Asg7u9XotEXdClOPYtg6LzzYAMmUwxTTmJviUCJpRh1PpW\n",
       "QAA/CHbgsf8Mm78C4jCBcbBHUev2yZgd4ICRIwJFhd4wqyNig13c22buYUMIDooxz9QdLqyu80Y5\n",
       "/K1aPpDC44OJorSYPbebC5A+qkZYj01ralMCCmLYI+HDewbbftOY8VhGUuCBW/JTwqDf+m6xFCb4\n",
       "I4m7NUttreBiZd0VaLhow74MHQIB7iVyNBbrqx//PaNWdLpivySDV7gs5pATwocpOOKL24qTqtX5\n",
       "0Tt8QaUUNe7P3VyHhFUXOF05dyMiNLbQn7PyLlRD52YqT8oQnLxlkNNe30xu2iNrSK/vXN384juY\n",
       "TF8NZ9hFcd2gnuvLA2wVwHpBBp/9hAZkrPoBZzpFO8/lcRv4ajjO86qDNUgmtMe0jGep0gJMptZK\n",
       "rI0PU3PORzyo9ofdKtCSri6Sl9vuTnx3SNPLK/5tZAlDH9GxEAev4/26aSoC5uFJQY/qF7IYgn8d\n",
       "EX3KvhqwaTvopsy7+PNsge01ilWMKWiFy3vq/xaXyCLFAWXO52yH/DK/moIc9ElQhQ1QjGahLj2F\n",
       "tm9nRFnwyfs3wF0ye3X2DNOlAG6ZzaA5YekjDpvgnMN8nmOSLfIn2DtmcMG5qUYjEjARA5TYWZvV\n",
       "W7lW+DhRf4DIYeKw4/zGXK9Txr3mU1AV8Vlm6EWlNh7507dBQA09iAGqyWD9MxBj2GXwDPA8B/Io\n",
       "HVb/ljd404skEcVhGHWsmdHI9N41JOeMDdepjZJZnQfOQsRA+gceNV45hlm+ETGLszFMkC5roSgu\n",
       "k569AI34uKMDasY/pOAWQhEnkC9jJoUhNZD/4q53E1GV3FrjaUNDoUh5TEZdCbhc7bYK8BQ1xKMG\n",
       "HYM9V3yEvS4kj0PVJcb6Z0yHzw4LjKGNop8813GedsuJD0p49hpe04d4Fz4hdkzUyBk4AbhLn0MA\n",
       "uiwOC0dGHV7HkIW5n++xV/98QIIy0LKVDguXypF6HN2fjcONqQBtFzzYdhZDqvwGejSeCzNgN05d\n",
       "YP3vnNuzoHZdoevGY1eZOrowNYMZwuYC1q30cVm0Zdo6hFoFoMNQ9UfLVnBjyeNOevQgThtfMzui\n",
       "02jBbPRmy5mH6g2pGwh/QrWypfjVqXHtgwLfhPfM6n2QwyaSC024lfXvjzMXAyQEx7VmZ1ZLc9wy\n",
       "pMFxSGC+VYhl1rwFlrFqUXseK55rdkwSs5zaeXzy3Mx6p5m6vfEtea71lO7rtSNVawpQ3Ffp22uV\n",
       "jcQw6Jlcf+sRxIqijdEtBFUVGFwYIipcdhTOkvMZm7gaYwOuNUHuGrqHhYVOfriihQw2qV33TCJX\n",
       "/gxEcK/tc9r9VlVjezLFG0J6nSOiTKwzL9FiNBm/FTusbZLol2NvjH+AoKhoLlCEWpC4M4Obd/Va\n",
       "zrjAuLFAGIWFYWsE8MBoZdMRI91q2ZdQwSY1FhKzsTXLc3XgXrW0tGjPwUynIMz1xsryDW3lQ7OK\n",
       "lhmzH2tad7QTFz5LwfFg7teJGIm2UVPZD4gokoZx00PDhQGWAbYvjVUi3nkgNO7MLzv6vyiUM8ax\n",
       "nAuo4MpM9NqB5ABLqH/zG1anDLoB42w3DPRaSH7kYuA5g0h3p7GisL7DllLiHQ1s4mLgoLyP7K2/\n",
       "GQRQaRivoapF2Xi/+BRrVXQF0qf4GLryf6wPR3pCYqr26Se/1p22lC8Rm7Z8FxmOHMmo8b05ljKR\n",
       "ZedadkzHQEG7aUZHqTfdMM3LnDVyl2f2sVSboNGQjx8O7avCCfTLrBLy60vMvbCNzeacqW7IZgGa\n",
       "8uKYMR83iYCEc9mstHsYm4kbogoqyHpmauCer9aKEO+H1QgBUiCgX1GstoCPqbF/JMp4SkMPxXUH\n",
       "ub8WH87RzrwPWuNjG4aYTuYCsA8ay55ZgrRl3Q2k174A8y1jHX6XZrLjzibvz2Zd5IlNiBbzvkoF\n",
       "XyZJ/JWjsfXZR89EImer/EC1SHe3y8yZVOwrwCwHJ27RNCPqwXj6gVd+VCxuXL8F/Dy5ddCem2XQ\n",
       "ocfWO2ti50G6naB0DNEYEpyftZHnsmzVhDIYiCN9JEolIogMJUF3NbHzfx7jlD4iT4WR8mpY0Ihl\n",
       "L+CmsaGIX3dNJQBSVH8eaUtV0XmECXxyczj7tN/JF+/XeBKvQuBIKi34GgvXXryGB++xpn538WoZ\n",
       "tCJ3Of4RY9Zjk8mUPtclmwQ818hLyMVfnkKTprP9OLdcV9n0p5Onc98U4K9sAd+TIcugVxsOvdjt\n",
       "0Zqsc/A5Z3zhVuGri3zkuEpB3tFQgF2X44RUCCZRFf7hkEw3KoWLK+VLuQVrCooSLI7zzwT0V/+u\n",
       "58qZtKXbCaLb8Z/dqPVX4G0h5ZhTredNANGHjbVl2WO2SPfvItQ3RvNdh2m/vEuY7NpbAqGE3bTx\n",
       "BTtapFKIglq8/hyVo6AbNfvauViWOO/j0RdnqJQROJrYPAD5y6fHM/Ujppp0R65TafiCuxiEcmfO\n",
       "aW5G+uf0XD1vhKMOBQNNgadF6Klx2ZOXIPiLXx7JTvrU5HYqHA3WE7mcF0y1nEjupc+6YyTBVimP\n",
       "+UFTWesZKrPQ35LAvAG0BVhtekjZ7smGUyFt3BBv7ATFeXdOFgBFh634FcsjymaWH9yjpYjBUW5R\n",
       "89uQXdMJP6RljWQOyy//xLHPQj+U+oDWJp5UDfQQTOTYPzvvHwbz9EGRZstxMjQL40NVeEns9B4Q\n",
       "Fi47X6Kmui9Fz0K7LkW3Fgq6c9cisAtD4miL67Gzl6cHdngTgVGX3UnSOWEl9fIv8W8dJC3Ehrmy\n",
       "nClqvDz0UdN6Ae+0/8iINd3fXQUt+zwAmVPpWzesEdtCK21rw580cJrDXySlsAib+jq8eh2qtAyU\n",
       "mddjlfokXb0Qm8SHjAuA5fWpRXjKW3MYCyf4/SzX43XcBbik6AMTOXLc4k+cgEzK+WLw/4hEzjMk\n",
       "vs2RsMwta8eUnqoCM5Hhu4DtIw22FK4/SE5TLzJHQEJSxjY742fDnABdDlnJcQAerWjrjFTlfHb2\n",
       "DUmaCy6FAHmWiL6Ti+i2nxXto9/yzlsPnDFneDSyVSc9UA6kI4DTFXCP6bW7dAKvsLpG+9OrzPmT\n",
       "zix09NTxSoQnNVmwZnmMugT5MbXU2MUTeWzsDa3ffs6E8hBEQ6BJ+ollhJur6vr5C2mmi47OO4nA\n",
       "GqPXkUJvEKwK9+lvtL5fI7PXIup9tdlHa8Qm4be73G7W4mTRUPp5lioro6htUzrHqSeYRU6yIueo\n",
       "DDXBswJzi17Iulb7sblHc2AoCqRGZsVHJDvu3pdAxITv33IN/swvh4Uz0k1A6ApWpe7MCGuPdTIk\n",
       "8VXQDlC8yqfpRKqMhs6fqIozlojaCIYOpbr4AQcxB4Gx15LV+5eS3KZN2k6OenPKFXnv/+7GN9ia\n",
       "dn7OO1GRiUrahxx69mU3hVSiG4PUQ46mtHqGQTf5tiAXam34W+fXc7Eo5WsH0mUcl0+PHZ+m8e6D\n",
       "U74BeiStTYVT1Iaq+hhgViFvay0Mva3u1YJkSwODXR8ywhNyxZ+A2jafMbVk5irDj8Lzvlp8g7dh\n",
       "lig39+ooUQVVC3m7nrGkQgEIk8X/2+Bzr8Rbs9wLQIgzwJ4Su9uU2pTnKTj/L/FiWQImPAmWq1se\n",
       "yo0aQHVEvC8j2Wf4IM6wbmpPThmddgzZwe/DUMTOiCAzH40AXL2KywsNjKEqlEg05uH3QszBIcuX\n",
       "BcAFzKZ9VbKi9qiNd7TMKrRwKiekWGv3BgDTCAB0tO3h8UNup0N5lbmkoJi/u+D/tWyjQCq9nXHM\n",
       "0JAxxo5ghNTb/PpKyDYLfAnZCCvkNZSnDUOYVlPnzGbDP32ogP9c2VnlzoXsdtEzSSvF7n3offjy\n",
       "0RwFiEnlkFBytkFmgy37yrqylHSw2zkQO9pv578yZVlXpaE0tdqjmgxlqOSMi6/N/XsyJ+fg9lPl\n",
       "ym95BJB0laI58AkIFKL4Vx9hpLSyK2bvO0IB0tn0bE57BDSaotMVakLwlQGOEp3GmMdVLScbX9t7\n",
       "fBqCibmKskoOhcvILdtBF53cCJr+BOmpoLDGP1ysb7DiOW4ILlE57gM2lgHKjDZhDEKwpUdIOSxD\n",
       "p10fy7UDZlx9MgRNslzbzf7cKS2wi00UUDI96CyJutPo4q6Qckh34DjF6MZa6J+LPat82tQneKmd\n",
       "4he0nRpWI6yTA6vDmpCpWBNs/WaSEAY1RT3kvpTLALwQjVxowpJ1I9wK5EowcfhndMxQGTgUHsoS\n",
       "ktaUrEGxq4wt7rSfOncj4G8wnW+uaMKE9iH6kdpPCwRo07OhWwW0RFV2LJZ7M8jRkM9Rwk8SUM/P\n",
       "kW+CRUm2jspf+xux/9tHDiyfwFWe+nMkh/duMI7eKAdznMWzLudJ20DQYpdhHuidexa0Ftq3Nrsu\n",
       "wa/7EYs2bYeliKjf4VHSjjMvsBueD0qxN0XZEfvQy/T7HZHyJyyyI2NxzhbXNx07Fjo88lOsBg3m\n",
       "gjKiolsMX+v6ZqUQP1T3yt3qUyDWThpqstYzo4iD+VKJR2mzjDyusStfOKAYYDNWoiGUnpQj/Lta\n",
       "cGkKnZ4DjonpPaAdTc1h7ETLGOwSWGxnICsf/hsUa5D3g/lmYbiyrGVuMa6jyxaN67GxGvEsrv9Z\n",
       "enRJPBpi5WjNa9bPaiMfj9XTE7kq+6kKLc5ZWt/Jjhf0EHV0XqX+7gw2iIUISv+JA/9Zs7lkrXMS\n",
       "f//ntia9+pFlMAyUw4yVisr5SrkpCYac5iQy7XiHn0at2k+xXCgxxy5ybMfo/AHONssXjaCDM5nv\n",
       "FWENPDvtUl8xcshS2vjm8d+oN7rA/MGv7jm/F3fplBRPkQGi0ycWP2jRo5k1S3zx9zZjPUiztYFM\n",
       "Yqfd4+lpKeCrkQgOP54X9y1/lyKbQg1XRiGIOHiaiXWdLSEsw3+hgVtTcgazvjgRAY6U5OIcYeFc\n",
       "5iIFS5Une5j5BQ15Dw9KxCZhS+NBhIsqYtOfugb+zPfCIJzLP7Yoxef/4zH7Yc7Rtqc1qVtnvjaY\n",
       "ajVqWpcqH8JmtoG8yFCoewcilu4n+v62u77Y+iTCNSPQM20lioPkpiT22oBhBQ41/tBcGg12nzfu\n",
       "0aQnAIyxBa8j7Nh9bAk6MWO0kTtNbl2Nh9rRfCaGH/lX2McHpN/xAw/b1Ib3Cl04xiR9my3ykWvN\n",
       "rRGemPj9uRb9Ka/qwPL+/EhpYM2gD2dAPs/KdbLH9LzFuMMDrNqQ5AhNieyhUIFGcsyyVd9D8tMc\n",
       "20391TL2W6A2Bpc5uGS6qcTP3aG5Rl1+VcCOW4s7ygQ1ptlkn2cWHMVjCHeIpon/v2h16ApUqfWo\n",
       "AxYJ0kXe4asUwD41pkTR610JRYi2gngcw7KUM9zwK5BaoIiWbIs0aPDqOGcEHvFqDLZDOev5o6Hv\n",
       "M0y2uevDc69I1teN8dOpKyw/ote/3byXXjCwTe4PL5Q/DUKSsaI1VdKpqNUPhVCwpfGqCDGxUPo/\n",
       "B4HiKF6u+vUGHFZynjLV0KFswMSBOlPHWesL8cy7KQLbxxhrtFIz+ggfSOZ9HqNv6t0a1Q7G4qIo\n",
       "sj0Q1W5uhl4F5V05S6CRxWJQmAofY4FFDVHvkT8CwhSCizF/TAtCLBRkB1tzx7TosZ0Y+PTsYBf0\n",
       "ZxIU//amKl+9/QHKJXQXEdJA3zU/oUJ7rQRR5p5TXvxcAtw5PJ7IilGh+H+Ic90FKg6FG2F3MZSg\n",
       "4zuwr93jzs7D8E8TUdA3trcu1FQm/wXkN+mk7unD7wiS9SmsqbNsGjQn/aDZa0R99VQnTMP9Od/+\n",
       "w52y6qljB4SVOLRlE7ykoGukXPLlhSlOhNpmsGvJ0AWesra3BhjbqDRUsvT3cy716hmYLbOpBhSF\n",
       "PhR1j/Q/qQcERZj4o2MQjR6WF+X75T33tgWZcpXpARVzWMPIBR2ZXvbGbd56LlF7V9+/qxIcBQh/\n",
       "QvFHMRffYmK+SC0yUb/SCiPgRBW6sHUrv/1L0d6lpJuZe7X8aOP60f7rckIEFQM5ARE6ZdhnBPPu\n",
       "1fTgIYp5zIoVgQsFClcI4l8LYd7htGf8CMZ4SG+36Ma63Vi36XAk3dU6Umq/YEX6Y/xKJXoRln6j\n",
       "HuzocBIh9VpteUYhzshkcR/W7FFDfaxblgkeLSKq2GcXq0O09nus5jdBeIiem4sHBMdEPQynIicb\n",
       "rnC1CEjH/cIHb4UYJTT70tpTKQHUxs97YvPixNiau5Y70rY0ugaaTHBrS1gKo+/MOm0JR5B7Z6sG\n",
       "WYYlGxOLXOpV+pruxp6xOLiNLtH6oLfHfkOESAOCABfCTA7+RdXRymiXLHi5Vsqe9xEWBIHB5L9g\n",
       "1J33jMNZsHjtBxJVXQZ93rfRDKwSIDVgzkdjFaUMxnsLg+8dAKiKE9kkIs9AiXi8OCoJrvXYxNNL\n",
       "GFwycyc2Flca3/5VYqz3RCJJNgG8UciGI9NCS1OblBoZkevMqcCxPj7zN9xMeNUDeEz0PNYDoGNA\n",
       "A4ImM9684KkzIO9NaHzvrvG0GT7Z9hGvJReGAzT/tItXltvcUOV7hjqf1aKiqywqaowrjaKXbK7V\n",
       "mpltzI1yHO6libd+ihq3IAc4UeQ7O9x/tni84kFa086Kde8xbXJhtVVYZirqMrx4LsZGUy3F4Qvh\n",
       "xgpAGJ8ES+oCJQv2bzW7Cf1tIxWHn0TMXGHp9qbDSXv85+jA4ux4SzocpyEW71E/fDHQvwxVWoIM\n",
       "PB9bZQwk1Ay+lB4/QuQuyZRbK+iXQq/OiYkJS0+TOSgBVDZI2N20TdJBIX43J1Jna4tp+/O6Y1l2\n",
       "lSj9GenwjqOrrWSTPXdM9qGVt7KmzE0uLHNBVlFCOa5tpyQfS/SuDVsGQmOWNk4192VWXu135t7v\n",
       "SWt1EcVWMqVYtbHt7jEmty5gl5gdfOQ/1rWckw1J0SL4266AyIbR38CcwXjxu1XdYO0edUsppE08\n",
       "1sXphb5Q/IO7zxaimJkNJ4358vBKSgI3LeqZ6GutNqsYhU0jXvAUrayZ6IM/Q7/moYXDSLHdnjRQ\n",
       "r62nvQTkjkFYOJNaaTKidQ1Cwucjlc9AFwiTHM+UFZmLZMJl/t1i7viAwzQY9wmyiGkYnvsDtWNa\n",
       "QZZSydhWW7uuUBR5HKhgXPH3SWLINVP2+P3CN9FB+5kyKnlvWiPk+TB6ydKImIvkjhJAa2YzIizN\n",
       "Ps4bQ9c3zsfPwn2bc2Nrn4/JBMEm+wOWjMUzcPIx3nf8AqQkfHXoaDX4rBvAaNOoFIXARSJz/p4+\n",
       "1Wv/CAR3jLH21ePgnscTMDtjyFb+oL2UlEXK/UmJCSMrqLCHHb98qlJuXx3Gct2breXJYRrnwdkK\n",
       "+rrXeG2LZz3Aa7x9lT1wLuZZ5821ch4uMO2X0beO9LKyYJsZdRKkSyh05KtHy4hB0owY74kKivyx\n",
       "hV5klIZHqoTaL4vgFnF5yqqJkOibIoP9CkxGwDmwdLyWBmBjn2nXcAYLiHX1QLwk/nfwjrkyXcBI\n",
       "0lEMGnSdC0M0b+khdtyVnylgjnxIqbe5/HL3/kkyzf+zZgQKndy7InjFKcTDhAfbiOLrT1gkl1GO\n",
       "A1wJoiVCMtKVRWWf0QVCzu1cG9iHhBC+RXpNpQt15383rkjo5uJpjfPJuU6a5QKjozj/bYWL67Fz\n",
       "MYYRasx102touXsFyaivqOap5uSOytXFt9dmT8L3LKdFs2p6X68n8CsV+q/ntvIhrBM7hgLH0tio\n",
       "XLPGaJwcaxz2mi30f/vt4oG6YN14WZrXDFNfBVTo5DZ1wzQVCrwhRS4t/J8h7Nb/FEMDl9jLd2vG\n",
       "olzoGJ6vZ+KjhoGnescL49TuXiUNFENthgy+3NKz0iTn3NILwlbeYWYDC7Cqr8wDIXXW0vnjC71m\n",
       "btscSL4prSUk7EKtpTlrmbYS58DxN+ApJ4cYJupumG+aagMqTOYQile310d9XBysz/zQdwW+ZeBo\n",
       "dnV+IL7r7VhYtsUS8h0dDqc5uTez8rvn5deWDssDj189G1FRJAZv6Y8IPJvOy/cAAnHW/sjUnurt\n",
       "VfRRreW4sgzbaVF4NCRdIxP2W5tOUMu3yps1Fix+AagWCyeVYFiMCyBQrcUa42paR2LCDzhUUbau\n",
       "8SUseDaC+27mIgDpwg3F2Uh5SRDmLNWPMf06+E26fDLi5r72eG0wb6NrME12MLauTnazIEn7Dkr0\n",
       "hVY/4wfCTWeRn6ZXsXtwVhhNAiXOl2yeLLFSROrr/kw1WQDGz/TNYKpzoPKiLFOszhI9w650CTiN\n",
       "KRzig6fBQAwg4504BDLrD6htqPDJDP4LGH5HL4l2Aho10Lgl8vgi+2Wx0MXlM83u5DrBGvKkZvx8\n",
       "o+UnSVn35udBm3kHl0nm/gST3+DTmunAx07kJjo4JmCHkPTZ0ck37w7jKFqVTdKz12XlwPQXOdaw\n",
       "lrxn3CPaqGIQGJ+cJKkq0NX62tUU+6aB5Gz+tsjpR7zxRlEawSHqQCBU44I1fZvKwV3bYoxRb2AA\n",
       "GFcjbQek2X8d1JWtfdN3QIMBv2ktC3TZkwiPX3Mlh7pHlp5VfFywwWh8t/ezqlU13CHid/BFNsEP\n",
       "Oowp3iBcXPdUwqWSE7sQcBq4JRbwXijLk67jGvQ79DSwfCJZcL/OMGb+uQO+rq2nWaTY1bZmfoxq\n",
       "d5pWML9cOMcKZZ2QYjqhSgXR8n8NWSIYEjJ/xtneG6qnd1sEflgC8oWWRMRCUbet1sCRcnpYdqMA\n",
       "1cs7yp/lM5CD6pZXo1zsW1SlhWXeYA+r3Hl4tA9yALKd+W8hgd2cdEnpLYpZvQZ0yDog3xFhI2eD\n",
       "zHXp9GIg597M4Z0414BovLMCJud0P9TOxO1S5EEXrfxF1kicrDY+57Otm37X7Bu250lmdrBBQzoX\n",
       "pJ6IQ7qmJ1A2NImH+loABUSA110WRGXwXPRDYRGb7+F0ROMlHqbc/QuFvJIMYu/v+GM7KR+1qZbk\n",
       "lBbpdkXhCTW9j8ASFMfdKynlTDQVmB37LdW8sJPjNGJZXVrCoRpqP2A7RubGw+iBdhaxklc8WaMA\n",
       "BUzEGdBDtY/xrn2+ormv1XTH+XKZ3AeezqgWP2IUH6ah0iGT8d96YcAY27Sjru9hkSjbTpyqvm5F\n",
       "MEkDwg59+fnnP5rl2CQQ7VbGT3OATh2M4VmlkbF1BFjkx0fgnhK144FToOwjmeCNyV78TCgza/HN\n",
       "091JdDsOTnggG0PLrfK+tj6zOFTHnubGpAqN64FHlgtm+1EZ4cmQcSWMwyGsd4bViKywDzsSNfld\n",
       "TN5EoOU+GRSUGTOZsINPB6SePFS4KHYzgvYVsifoDpweWc+bRbrJz4c8DrEtWuYf0YAlnFg5aqts\n",
       "BLRWPakmHuekdx7hnodBn0uLXYytMftLcaaG/c90HYNixP8XyidxpzLd6yAjWUzzwZYVP7OuKiWW\n",
       "PmhIJkFjbRuh2K0KoY2fuhzAKYHnqohE0wjghJJ4nqQ+1iiNuPKNvb0Mz6pObvHH5VCXmErFwu5R\n",
       "2ZvB0mq5dpeW1V0GptSJ9GpAAc4b3lX4qQTLtF2tAa1pMBltflINTSJfjlfNsq0IqH2OrZJOV0xK\n",
       "wj7Lv921Sq6S9TyfHa7MF2Tgh8ZkJ2bFpj2oPgzsO1FMezFMOLpw8+MNAabshmvwaCwnEmEOq1Um\n",
       "MJ0qw9jBFYNNPQRgbQEZrG3x1XlHXh5crqgdOBG7UhcG0cuUMA3jcrQj2fCvaCVT0YyI0SrRsljB\n",
       "JVgVzOkLy6JkQGBf4eIkhES41eHwg6IQx95acDGFTmaasIimi1xVHXjAebSnw9bvjpNs2vKKo6Ca\n",
       "gqwlDkXzcHlNQqSh7o/9zC9Tzny90P9YwVe5dR9hq9TYkhqMYs1N6fdXXqQoziq7NSDrFiAnjaLh\n",
       "L1slk54jQ7m9CYt048RsaK5qUIM3AODnT9YWwtdt8W+B7FWDkWuD0Db3d7LKfFhGFAoE5983P1UB\n",
       "3qzhbcjjSjkUHT0LVl91Pm79LTlXnQPweCl6tEjwFYwnfk0urPJSz1hLy8Fk+CQeQgb8PikCKpta\n",
       "FLN1NNocFbr7wylYTeCzNWblXnbVZq0CzTkYjhcwNhV0ikUcRs/xfwKCFPmq3nFQJYMSpN0GGQN+\n",
       "dWP5X8UBbBb6rj+fripQG1Y/SKGPp59fMuOfgD+wjU8w61+Fi6AjBvzen/MPrbG4lhxDO0twfptX\n",
       "S+sxTn8jmQXApR65GRHMv8ryU+WjI/qCF29sKan+rU+/JIBQ9I3FV0jn0Ghi4+DtcGvdAFpMQuAk\n",
       "eJzgmWYVXrjEWC4LiaeWNCGD2CSL7HSTXM5ztMK/ToJxEpewlANiCZRIaVBB3Xlmt1YCVk6DCPvk\n",
       "/Thq9V/16MaJQ/o8RPialr9MvN/8IgA7kwoP3xSmNGGeFfm51oXZLaaJmpgK8OazlwhUKLG646Xc\n",
       "NmYWbr6Q/BALMxIwp5cojWDtXdiDO/8YbT5USeO0yOFQj9Fnu82y7N+TXd3ctyx4KHlVOtn8ozdD\n",
       "LJdu6rtYp1t4baHvR/FQ4s+bXbU4hXOGdf1VNu7K833LQBM6E6cpMthZa1qIgisg9tTi3J8n5Ots\n",
       "Y73R1ueZLKtB0+TyZsx+GbtkaR+hcJULwCyeYVrLt+wfRMhAb9jrED+3UsdXzj7o/4vMNUoWpfmD\n",
       "DaTf2qfvXnUfnH937MaAqm7J3tpO+wwsbMAClu3070t7W1Sakq7apb7DEJP7Txqbs1L5nvBmnc4p\n",
       "XVZfktxNmy0+Wr0560T+XEnCSodrr7X7eU1Gwd0x2WN7Fxc9faMCmJ0f90YVRLPhd1EEJepf54Co\n",
       "xBU1qk8HR6QeCkLPCrH1KUuQWeJLRYuGw691nzvYqgwRuKj8C7kYvjwTADRWJ1r/QV1xy9jb9Hhe\n",
       "4/dBb9bN63IRqOGADmSlj2e23cImZ/blvbMi9WKZnXoClUfi3qRuEn3UJShaidui08v/+Bpub2An\n",
       "16DPzI76Fx4H90xMMt2QjwyUfx3kc+HYaCpsHuQPy+EyDUIxl35ABwgrIJ7061/TjbP14Cwz1/KN\n",
       "8fS+EEFHfqxn8VZ/cWh3nVnv13g7dBhj9v2YNi/Js9gahhveaSPEZIXEFHEvoVll5Tp3UUSN9lcJ\n",
       "6dfxJhM3s8hqm//28WAsfbqBPrvZEVQpP+I2p8CGZ/qqGqpSEzVLgrzf6knTfn1hpBsQ9FrFVrU+\n",
       "1t5EBJwWpjUyLFuR1IgzFF8issJigyXrstCIxIJiev3nP1T0eQ0uFzD+EExCJUQGr0R7aIHigz7/\n",
       "TnW5K9+0xP7tM0kBycI4t3XrlZXF7TqWQgeaeWhRYCb01oNkAxCzaozcv4wUTZLgRJi3Hx/P7hlN\n",
       "1x5B53AjiFKt1DLxDwMz383ygCFUGAg5K0r2Xnv1k3F/Scnt9bgVxOTiiKrZZZjV7q5UI72zB8JG\n",
       "/iQgMwZprY/NLH5nz00m0B+bYiXozZwyx2jaKO9XBE5NnHSVxsMcOJZunXlrTiHpkJR83h+FvGW/\n",
       "x8+OJG1/qFcboD0N2Ivi1hA7yRSF5vCqMO6K+YiIZ/3IQc8xMMvFcMsD7BQtpNRr0JgSfsxsjj33\n",
       "qLRRwUZrq6jteL/jW4dAdB2ZUFzUlT84ByMehOhmYmolqKLsSg3z1vtkBHMHmHcxjn2xvAjAGLaw\n",
       "TOaLGAugcWrxEk/ML/zezQuae3pEOuaheQ3rIai4s6ntbanf+G0fD3r/LyKs5fGncjcQJwuMyFtm\n",
       "CfsTyob+i8PtjyRYaYJVte0zI7REJy+S87jv52UF0RmIfoUZukZ5OoJz33BxYNst3F+jB4jHs6em\n",
       "g51M9jOfvt4kfLtUASJkdHchIVeQ7uYq4IyjQtwLaQWI7L38KjCLdl39Og5dShWDC3yhpEOirtqc\n",
       "5bfPnF8VDkJdg0DsvZCY7PNw7MSP740/FixbIKJLPQ8EC0H/RL9Nl4AemjOk3iF0LOxDVXhAEDGI\n",
       "EGmord898q+DLxKDz+1kF7RkgrndGyCyxepi2bFfPyjNI/pSREP+okjzD6J53mrSMiPJuD/5gex4\n",
       "1g3LagMM5SCFaRkqu90dPrbmLEauvhAHTo3jXsqlSGk1a9OZ8EiCOaeaskKJeSJ23c6DHySdyNXF\n",
       "n7VhVmobEj8pL9FKjOsWsiBb8x4NMw/acO3CGBy42POS0Wh4D+oBRqSJVrozG7WrKJGuKUuC0kA+\n",
       "7zp3a4owITX3V3cUcQKLVjW3eF+oXgf0rYyHwr2gSb/bVZPMhuFNoNpYlHsfb+naDnOyu/aiOjjN\n",
       "hvBcB/pS2Pg//oUnhL4EbCgBat+TjRlOoORmWf48oVinQmdJILviL2Pln3TTM8Vr9w5gSB5xaohy\n",
       "Z1x8naFpme71W2IQb1o9QRzfl/Je0sNKbl1gg4ZnFTllZEtYIygDvfrmGxMiQjx/WPKjvvxYgSnM\n",
       "o6qSTR/aMEezaggpn4TP1zSZ+xNk+NuxihO3+Txi6GUnUmiePG4SNQoGuqHt4EFPccQ7fnwLpyBu\n",
       "yrxEqfiRLVdzanSD/ZcbskgKOU/c7uHIsZySVuJNP03a0hp7jLEZaM3HHXHlfFyE21LWIJyJ7T1b\n",
       "n3YAe9szuAnJdEfqicfAoI5Q+U0HYEXO/kVvrINpfxpYQdb1aWLGWaNUm6GlfoEnCAcvGucWyI4A\n",
       "4gmFr663OualIngos/h2aLkvl9A7wlRO8rtytGJ+y0KwOZgAEdHCGKznHvTCA73gweaGr/IZvsBe\n",
       "Q2o66wTtkZoNtj/CoScgtqYL2xgOTq/LJjrR9dSnTpJEJ3aO4PFkcFz8/2pEDN3hwTKjOdn8tVy/\n",
       "Fq04M6MBzzFaaJKedMHwPziCKkBTgGItuXMBAvRFAmI7rYzNmBn0t67AnNPCldKHWO236y5t2jSs\n",
       "XOT5sG3ILVRL15ofSLWkzzxUB1bPDmtv8TLWhK833puiZIDE3gedB18k7aL17PIf/i8GrJzrPAXU\n",
       "ce9qr/xm0bnek4bMJxPaeYHcHSEe58LEaxUGIZGDo8c5Bi6zrUNNWVm00eZ64v5IwbIy3B9BDR79\n",
       "PcvjvceC34cU4E/UGdJfmZ92iZsmICGRHsBfWBfOuv2uwJyWTwGpDhPwO5sHfHBoBtdoHQ0ysADb\n",
       "pbSs17QAs1YHTjC+MOkNZxKZDh9SJMMxdocC5wMHmei98/gTU2iPP4yXmfGpP18VV+vdgKkwPJaC\n",
       "zPUQeNwY1a9A8QzshaYANpLc2XXlWRaiRxcG7X8lI5iwudBm6ZUqP12ax1tUGj4isNTQrRkou6JK\n",
       "8d5IfafaqiUkJYpzED5Gig7ZgN0uIEYFn5Ln2/4Do67bN6U32uwD24E3RaWwgTDnx8w1DiephwSc\n",
       "IzA/bHLaV9o9nWxEHmEJZEQHMOSucEe+l/nPSWX6gQbHT/MAkxSNGIy+Qluczf/bX373bLwoNsHn\n",
       "Kb61r05ovXjh1GWkYFqhfx0mmg0BwsalEQE/W65uoYbQe/xc1LcPAvFjdm4M8MdYpqX7kP9n5xzC\n",
       "OKZbDYnsKLQXTz43wEdRgbM6eeT5daysk3EfdZps2KOszkDbDZyiEUIrEwWlk80y10Yd+Iw32evj\n",
       "wwW0rpe01rl5Xg21uW5T6ytZoyNrLWCx5kGbhj/eUNYBgI7GOlw1X3eoCXC6Uw5dOam1+QHtp3dj\n",
       "l4WJONo3MC0vbZnpKqor1aWPeoP+2SKKLkpiGtp7hvUR9fQYJm6ftlJ382sYfM9zQuAuotk7EJNr\n",
       "XnARTZKk/qKcCHnO3/CwB/+p1TZqX7owhOQlpP9eLiZ0iKXhamMj6QTYU4M4WOAYEgPRAvM1NcNb\n",
       "K9Mo4fN2yHj9g7iXzonZ+l/KSWZuWOIvr17+yZUFA664j+AJ/1p3SBCyjXtcKdJxm/DMwNKb7MDP\n",
       "65lvfEyYi3LQIeeir841a8+4enUh1udDbMjuv4FUaGL6EWK9XJLPxLyL9hN2YOXc14ypdWZh2YI5\n",
       "TkTzbfuT0tZ15II6TypAlBKGL4vPdJNStPq8EecdFpdfcC0za46poviDMPPPRpqBBYLk5hsHFay+\n",
       "F2zvTXJ4mlDGW1gI7mqsAtRZTl7HYdF8gJMHQ6WYIFae6Rtutd+iiSQ4+fXG9AqlRGZRL8bYpr77\n",
       "CC/72jdRVn7XEIU9lxbTJMH9yXYEbEBLzGbHQ3esG/hJqb4JNguFWEHV8UD0OU8FtY3f4UKnGzXU\n",
       "YGQBFvXQ22RZnpWhMdVtlLkGPeTHkw1Qky1W0uOo1XR8mO4YZcoF5af3T0z/MMtDCMVNTQEEyH3S\n",
       "0nXFI1VlXMLVLCHC2B1znxMS+pf8SqVFCZrCxCz4fd/gKkaX3GyUqb2ShZak4V0b63I5zsBLbs4o\n",
       "+dH0o8ZCQfFHPhACj7gczLlbMrwAm68siXlcUNNrh6hXLNMBf7e0JZv2YNW08cYKWLtvXZ6vDn7s\n",
       "fEb6LeVxyorAEKWqS94y2qbj7DLOO4iTadjZ1YHoV+VcCixBchmYX2MsDM/2GeqXxOfqBGWmwbaS\n",
       "1NCzFWvmxokBOj1Lqhg9ZgRg5yJ21DRaO9ZoewZHKpFk36/Tbphp/ydPAtGtbG06jPGSUjHPDtTS\n",
       "iqSR+y7/8t4OC6HLyfUg8Qxl5azuGc1MvYbgzhUy2NX1cBZh7vhu+4Vuh01BQqBOBjRP0eyf2dqb\n",
       "kIIU6YxRyNmTkSvhjVmfzux6Ma4ls1P8hiHOXMYgUvWuhNNUrCSS6Nh6yLriwIOy6MkbFVxRlh1r\n",
       "wq66V7VFK4AOhrqowbZ7Rl76IDfm5bNh9xT/zHeZuBdkxKKbL3iRvR59shO0sbnZAO/xdqc94dmd\n",
       "8J9sen8+EUc/es1jDlN6iJs/eE4/4qgSTtBWqKbirxTD/7xzXlsqOaHWHX3d5SKnZS6FVUfeEt70\n",
       "on/2USjpmKcZ0p4Gks6KIplnvljwuNHcK9Ft2iEDNP44Us4oqhiOToZbfU3W9I4dFJDGZk2lGj12\n",
       "Qw9yEtsaHH0HIxeZxvWC2kcR1Lk8fyIO82397+maCujx3ipuziD7DTMuyzZEsWOBPYgKO9E9rHps\n",
       "R3K3u1Uz5qexcGdhroEfifVdDYiucI0npv/7NH7gXTEbbSQZ7wqazHnoAKg9Jgs2t3iVd3DItOBK\n",
       "lUDx5SQUeBafGqhbdaI0M3gFwWN4LZ4cTlOA7j8K2f09c5LuZINcKaGa4PVtDXv2i7J+Oz7q4AUC\n",
       "4PjETQq1cigMO947GNGJjjiYhR3v4Px7ENYnnUy8PkgKhcgHR84Ec87Z6IlwPfywiANQ3S6fTteT\n",
       "eKrsIFjmN1bQRiO5gtJ8XpWWG0Hkl/ehmOLv8+q6jXax/k3UxtUlRKK6bflx4b1YKIExehTjWIJ9\n",
       "KEx/0xZPVW/OE0IhkF1C0WmJalrK+C8zKOrC5NUQWYg2j70+wpkpTBy3WMsNeFAPGQjyDqD8tdoM\n",
       "1iyyr0oBvmd8NDv2fyx/E435yEb6d1sjIClPHddCzwtvUHHoI7SQGfxngMuQdZFtrjCIgzmzQI+4\n",
       "QBmUfucfwqbFN8FhjqSVfj4pl6UZUtTyQH/RDdwW6D7uvbDbRcdQ0frhxX/Zf13rteaQoNyXfJ9m\n",
       "z95TGl1ylT1HZJfLdny3QCw3WY+LRNjG1pfyO2pvyJqVa7mB1iaBH1Gi72mHq98UK7ClY7ZZIECt\n",
       "wkaeEIcADadJe9HgSCnrYiJPVFxr5GF2Waij69g+G2xXr2I3F63yg0JiTKXiMMg7DJzMgk8i1rXW\n",
       "NFLORDR1tJBBGFE1zUFX5WPV+wxbuCVw/kQTyWVlURPrgoBw0ZJMHE6Qr09d1c1wroDzTMl0AK+L\n",
       "Wks/uun0zCVo5gbGBU6+f+nfqwTaZSHE262C58J48ES9/qxL4r/40kq2INH92qD1EhnpxTWN9hI+\n",
       "wRtRwcE1x1tFb4AcYtLL+HXY+cj90ijByZNLbTcZalHaitjxMuKm165Zfyhx35NDcm0p+BZzT46k\n",
       "teq7sCi8q+nCk5mueqACu0YV6G2oWP4ZDX/+idPB8MwNr5XdSgeeFixzzPz5yALku/AqpzenSMhN\n",
       "P+9/fwrUh267fl5weo+dbyLYW9+YBtw6Jlas33bixKvlgsrU1CIy2uGqSr82YXU3JnTNauJddKdS\n",
       "ZmCiQpnFD2IRXwQjRexNWq1CKStgH6l0dCGCDuf3mJkkbXwtw/QKE9VKH7ztvFayvx38IK6fn9jK\n",
       "d6OFMSNC6DIqJzMGJeu5IWIqBPcd22MtXvnGypJ/P+2mTuRGElG9xAfaJoddcV21SBKP7GIp8cdW\n",
       "Pn05xFbe1/5OpYhVla6SDOmGCvi+/qsMY5S2F157izpLPPUb7L65wZ+hkpF66+rXmslcvQbg+Lqy\n",
       "t8zYFfIp54PujbeXJ9f7gcyVtnbRla+Bml9HC4RPC+aqniXjYV6FmAS0v+1PT9dnSK36xP++3XFL\n",
       "lO8LC3m/jdglfEi0HxvsscbxFhX1RsPXmRHxk/mnh63awUkm2uryhdM3MWXWDxfKwJGhFVnAKGyL\n",
       "8q8S/RJrj0bRRzIt8dOvC8tAcJ+IGLXdeUcFSrf6I3OwqNZW4wvrV99ISOKbFnHLZeClsqEFKTFR\n",
       "xb84vKMHFN6DDePp6jgVuKpqtmxs9hEewLbKlrK53RR2pmgCa/cqIol1PY7bPS4uQnNyhEHR1SlF\n",
       "39HpDjUlTQ58USPlUjWcI+bufRS714zMdl76cU4ItG7ZurzsCM82gS2aaw6HJ2PQaI7KLp4MNlOa\n",
       "+/TkHAVTJShe7SaVZf+2eerZS5nhr1Te7WTTtmtQ5qwN4wDgQjSIS/LmLns46h8Xc1B6dydwIP6U\n",
       "gFZT8xybJqXMIVRCgxDZVZVBQU9bIJ6XIXT9ZmoEHKL1RHN3irEzjZq7/x8bgskTRiBHTrXDfo81\n",
       "OMe8kOSskJOkYzh2juaGu3ebvtb+5Uou3y73NjkmE5AKQ3a0eQligiHHlO9/A3xdZTMjssUKBSp+\n",
       "yoUnTqF4O20QZqWN+TGbayzgPQ3d/pdnbVfzEZJnX1URQQ3iqf85qvvEwTkpORvQkV01UaDFSzyU\n",
       "DoyN+wCa4auEqriw1LY5HlXKwxD2pwpjL46eSUIwChR3bpLt8XgwaoPjt7LaRkq/NoGED6OLmp4u\n",
       "FpGzM/tOls5a5kv7T8J9Q4Qe8QrgHEif+MaQmQHdPnZc8jLlH8qJrSqTFVe8hxoJYzizH+cKEAkH\n",
       "do0JGkSu4Y3EgeYClgbbXmVpnWGGPpKy/mtkDxTRUJnJsJ5UgqEoI8NOZUlFtrnzQrC2ELn9j+bC\n",
       "KzVcsQClF4P3wvqvGT5XQ8z0cwp628DnFPIuOy5Nj8+Foyq/lMsDF9pU2EUDDIsiOTgsu0tBYFNw\n",
       "TQCp4k+k4/2cJ+tx45Pjm819ItzUHWcrT8EOqTqDFlokfXe91S2fcoYmxmUjIf1NAVYsN6URaZik\n",
       "OAnu8lei7iwrJrxTv/s6zMkqjOX/DQ5Ztu5cAYaR0NA7/B4xINtwsxcOzW1mhCmp7Zpuh9tK/B1d\n",
       "bwInQp6DzYCY/6DrCtoyIr8C0KsslT0FuMhE7YaI3hgopvY3Q5jhMVqBC3mamtZ/aE/Uj4rCKid7\n",
       "6pnmLCT46LG5ezyFDM28wxvN0FFDZnhO8d3ukoAdKVuyBdDhdBN6cxhmsi/D4c8RokEKOAOIYGQT\n",
       "c+gP+17v0vv5lT8SEpw8ToCFKTBPhOqsaW4mh5Izut2Mv7xvnVWbGB14PKfikSIEDnKKWz2PfRy8\n",
       "NmEGWuLp2pyqe4VMukrw3X3yJW5puvgQMf/zsJFCEu+o+FnbXGDzIoudB/Gew+GVKF1dxQUfM2cv\n",
       "wHShs8/lpOVPzV9lAr04neqjEPkmdw48xEWsLECdsmv5pbt7/XovfzfDZ+rwrG+kkXXSgcQjA3as\n",
       "9FkmhP8SlzYc11Lzc3g+9fWdphm/YZDBYkOL2pCYnDBDhqIgva4XRb5HNQRTl6wa97jchyW37S7y\n",
       "W1L7ApS4sEgZMspSGWdEBtpFB493/gf5aYYveyVQLdZpvOOSnKijNb4MNJZtB2y2odc4gNgOeBK+\n",
       "RE7r5GGMqEzTqjYfYu6HFsRbxjxBqqr+6tjq3tUg8sVgMZessK7eHi0FDMFgy13nM6xbgIudTeBE\n",
       "CZb4/3jLjPBsQ/fTLGG7j98JtdTfgdX+0C44msQ5J8z8b4I/5v+qWpY8FatEjAUKb3hHJZU8rSgq\n",
       "4kQ5dKjriOaCpVq5P8N/Hw7jMLaopR+m1fe/Zb/5gEmcSt9HoyfcUNhJSLSmMcTbSs9AO+YwdCn4\n",
       "wiPi4cEqXNllgjrXhTOqTKGPy3XluhdlYbO8VBqQqiAcao7Qj97s1tRaebCG/OYAkqyPFuYj1buF\n",
       "//7PEaF0XTtahQSXSYHe5x7ce5niGCKR4n9n3pRWCMPgocfAYIqgyn/N6F4Q8UiQPhAQTBl/xoWK\n",
       "KYPGJ6hH9Rgw/k43TkYQzFviAAyAKQN+beIwOMe3UfEDi1npMKBdZIrfqX59VQGgB/QaoVA7Fe2O\n",
       "DLtOV/eFqkxYNDJTXWFGazuqMXA1+693TERQywJPmN7GTfJDRLelx722AYpR7Ftomh1rnU1g4MLG\n",
       "1R9QFMpq+ix4yanqeUs1Z9A0lRI7ojzHJqkao1zoSdkEMjg4EtSpOAJzzzHhsVNn7aK4zgyVxQHB\n",
       "0dmzyX9IkqZZH6dTab2hkIFiGaH49rOi6iaz78C/25r1ITD964mSSPf3zZPcvnUE2ciu+sHPro+o\n",
       "NZALSwN33g9b3TXMYc7nDBZ0PpkxBOLxXIb0zud3dR+oNyGcFZTKDnJO5BB73F47xZgSx+6hVCQ/\n",
       "QR0Zx7QjhPe8pR29zDyDXIqNPep0hYn2TgrJ9Cc7q2AhgnZzQcan79NskvQXuiuzJN8LPwzqg0/b\n",
       "P8ikf8uS7ipWA/C3IUjtG6sBofqM0xVapIyNb6yiJvyxNBQTZZlhYXMt9YCzyVUaZcVWJG79iPis\n",
       "GyK9NPG9v3FCtZ3+AbetRn7esVYc+nMD+S/enN9SVRiAOq0bUkQ/T5kYyGQSi4v4AkrUMpHz901K\n",
       "8fHsvJbphcZpRKZUHR5zczL5YIjqF3bEkQem3J/ldPnhgkTMXfViP//UmgJEJjkOxHoEKoSce6Ri\n",
       "pdNtO+/qinS1UHRVkQePapFFLpQa6mZk0vVn4BC8YSXID/jJnC8YRAoSgCtVKGsQYhpXpw6WtPzs\n",
       "X+M64uPOVAxcpiZhUldC3F9qRKWuxZslQ6eElaKvK1gkgj17ySDhvqbEcmLBSwsleRWlJjVLB2Pf\n",
       "2YdJXY5ibCjKqMj9WMKLyVjmP1PTN56nagd2rpreo23GNxdmiFVYg3eChAXgk7w7W6ceervDLyO/\n",
       "YWExlzfvMl9PKJ1/5Gdps/Df9Q388Yh8EUhecP4PDo3eAOPP99MqlZFZJXoMyDXJMgToUfrQ+W/S\n",
       "rGm2FmarfJwTRfx03cChttcwCFK6E3/oflm77srBzmLfyxOGObSwcYcQr+D7kDCHRrV+X7OBVuU5\n",
       "3/0hHopO5E0opSk+LtC93D6b5C7E345l9n9KPrkpo9iL6VRr6n6aMQVKrWRI/x/6axc5IeLwRhng\n",
       "0Kk5Rdyw8GzLYuGs341Wuy4r/pETKHaSzUHnr33vDa1OlnnbqjqDWgykxTt1DujavHXGz0DGFxg9\n",
       "Zh0CDQZV+q7tzao4b0SM2ZbYLnlbN4HdS8WSF7Q9XyUlr4xXlqKZtXZ23brEIVzLTU9/9r7nTfDM\n",
       "zi5iCC4+b5aQnXm8p2mZ4ht0UNnwFidQ6OxsaDTU4uRfdjGODkHcaE3ZzYgR3oomUOqI0TR+QEIq\n",
       "DhQm1qH71QKaJ4UVjH5vbYrCzTXrPruDz/5lp+4kldhh5qfU3fKgdHKlC24+CCFgBQvgWi12Q/4k\n",
       "HJF7d4vdt8q21cOUKUYIophhA9lDQ317/3Q40i9fWq8nEtGoIZ1730vHtRK8y9JsNYYwAIWpbzJ5\n",
       "Kgjjbx0p85vXOqbQoWGS9VB+Wdr/wbrED0cnPYKny/+5a/c9MhY38BGjXWC5xdmPeZRDJxRpQGDr\n",
       "AqFTdXoffVoPnBo15S3OQm5AoQBpBGh0FXnYz+21b5K6rtCIGtwR1hY97cw7ttzBjKB2KYuPU8A5\n",
       "0L31nxa5puStB9pSvmMnjzz3Z/qFT+nO2jlcufweR9H02aVei4bKEBy/p8b7SsRZ9CoBwNfMfvlm\n",
       "m3m0kvjvRDnMW46hr/sbdo6/bbgtdk6GA1D/OazLo1BonybXs3owXJo1+W/n7JFW/iz7w/m7WGNk\n",
       "xOUQ5RouxVwwqt77t69oHaZ8m/aFWxhX+Sd1efO3B6DZnsMVZBlXzQ1nqNOtOfWF/UEpJ1zkekFg\n",
       "DWjwFf1VYdTMjxYljlCXhL6NYz+VPiyQFUmpT/ezOUkBKbozTzVH1Jwh31l2DCBIhjHuXV8Ck5in\n",
       "5+Ze2QI3F+hHgGspC7DatRdDkV2m21XS5nxe97aGDirFXEigjJgTCwq/91FCQibV14HRKdH4P0hz\n",
       "eWRF0hVKpfWDBcu1i/f6PktX9kHUdI9icSY3JR2TTfODADms40Khhdj5pBAxgqRUtLmjCSge9I6s\n",
       "YOkMHBQnu7/qrwAuTNp5ymNCBXEtFVsTyH4sMPpzbKxhV2N35pDLe4Q4MA67f3fWy13RBg4W05NJ\n",
       "QBeSXHBvnQYMQN+/g58XYbko8yOsSj6CNj2N0sc7NztE9mkd39Idf0rpjh+/EZYVwK3b84DLTE3Z\n",
       "AQbp7LvGXJatWPfcDJgBPmINkm3RE7UzeDWMVXDiITj4HJE85ei/VZ6Xao6k8P1qpkgvNG3y5crt\n",
       "5ZHkKJ+rZ/3Lra8Pg+Px7/HdXktLyOHGBQzkd8tmNLUP5brdr9kYJ+viPX5mO87QiSu8RYUYljDL\n",
       "YPQ9BWDqfheOV9Ps70T/22CF0wA1gLV+KcGWsu4sS8AOhHxj90ANS3h8MevY+PmafPbJBYK30KVH\n",
       "LuyCk7JoYdx6zXzhcuBE12Agl0BBkAYfvHGT5gPjfG8c2aUnH9mLEAAViM02doBMBTlLCKGeAYEA\n",
       "AAIHQZoibEL//oywB8q6jgFkBKIkCzZWNaNHfHky/iraSptJjjNZz/FhS0IeJERlJWcZinh7nPhA\n",
       "k2r/zsbxAek9LWwuA094EXziG3Gq72ZtMFBmqslPIdx547CWO8zGJ0kBtcj6Z/rknwFnHMZ0SbkC\n",
       "xbQdCr/aykGDqQwGedu+M1WfU+3x5k6tqFPvx+xBHK2W9uvFQ1fn8IQmhen3O1FLxqUtyKrHlwM9\n",
       "qtLLCsISGiA9NZ1ZU9WVR0nPt0lWUD0z6rx7V8ejLzNFg0zEu0ZcZeqUMeLd2I0CNrOoIvrTbOOv\n",
       "RvExyvwEl948AkHpAlsRZdGTl7o1Q3UBQViyBltOieDzt12JRN7Q4kbTlMxb/yUvDZDPMYcJcWCc\n",
       "E3lkwZ7TM+Z9wTTNutDcP1n6iDFrz6i7hkD+3Xpeegqydf3p+TS4YSP9wbYpMAHmV9U18H1tThNB\n",
       "DsAcbbxPKP01IjVnMH4x0ze/glYJT+FREAfNxleLbbPbGc7+H0qdButBmiwgHlc6hnvTfvpkCP6G\n",
       "5rlSYfeRt5g0Xz975K6/Z8pLsuBlaAevHvFXvk8RnSbeYZplx5m2tjzdJzBglLDsGL3ZcMMkgFdB\n",
       "QOI1jzs72RmRWfAm4b9GegPA6bAyG5opAhrnUaZscIzg9LLQrFHtbcF81RPBvmCdUkk5p//jSxpr\n",
       "RAK9MGoxB9KwAAAAKwGeQXkf/wQ0cg53dAeuoPJI8EsdWDodl9GkiBVpqMnkQt76Az3D0QkvjbUA\n",
       "AABGQZpDPCGTKYQz//6eEAHG9jUsYtAG1zobyRU9mdML6gNTeNjH8HLT4UeL6usPp1MeJVxrQiZG\n",
       "WQeKl77oQ5k6PpqQUzbLwQAAAEZBmmdJ4Q8mUwIZ//6eEANz7HhUNhOlAFh9dhCXuzRvFiGQhhpq\n",
       "5+GSCYANVdrg56FBlPFUdp/eKy8a3h9WuPfJbw3HO4LaAAAAGEGehUURPCP/AR2BjT8TPtXOr1Hh\n",
       "0Uha8AAAABABnqR0R/8BxIppovh6+tFzAAAADgGepmpH/wAVlQAm9nG7AAAAOEGaq0moQWiZTAhn\n",
       "//6eEABT8r44ArfrwU+FIWvMT/XITVXcBL2vQea4oVht0sujfYSZL4m52aG9AAAAE0GeyUURLCP/\n",
       "AA2BTsa9ijluXuwAAAAPAZ7odEf/ACs+hpQlzwOdAAAADgGe6mpH/wArKgBG9nG7AAAAXEGa70mo\n",
       "QWyZTAhn//6eEABT8XoACvOPA6pLu+JSOg1zqdwtjqjtTyfV9fT2eEk3pebgHT82NDQkNvwGK2AX\n",
       "KWe0QQ/yzj4fV7ausVysx2cUIVdj0hMu29nucIuBAAAAIUGfDUUVLCP/ABsCnSYAAEztPu3Vddfc\n",
       "CB5BJyu1gnwbiQAAABABnyx0R/8AFZ8vwMKyQS/kAAAAEAGfLmpH/wAVlN/cPPX0OW4AAAA1QZsz\n",
       "SahBbJlMCGf//p4QACn4nqAIicN5p/iZLCQT+SlcYq4Y+TAJxyofWnnSEzHKfX0kvjEAAAAaQZ9R\n",
       "RRUsI/8ADT/lwALBJm26IK6poblrnioAAAAUAZ9wdEf/ABUf3mADhj9+FzvEYMAAAAAMAZ9yakf/\n",
       "ABUM1hGDAAAAOkGbd0moQWyZTAhn//6eEAAp+ce4AcDJjejUHtAQ/bdxvbb7foHCTRO60TNyHBbU\n",
       "WCjNNnD0kRn4ccEAAAAbQZ+VRRUsI/8ADY24oAbrnyLvyF5obb7QSFFBAAAADQGftHRH/wAVkUm1\n",
       "wSMAAAALAZ+2akf/AAADA7oAAAAqQZu7SahBbJlMCGf//p4QACjaz/cAbbzrd5Anfu39Qh7sS891\n",
       "qEb0BEGLAAAAEkGf2UUVLCP/AA0tSdIN0Thr4AAAAAwBn/h0R/8AFQ9GKbUAAAAMAZ/6akf/ABUF\n",
       "ACMHAAAAM0Gb/0moQWyZTAhn//6eEAAp+cykAOKNak3IScgCbFTXfGXUUYZFJfdW8oKWj296DefC\n",
       "LgAAABhBnh1FFSwj/wANjbigBsZLqI1SGna54qEAAAAMAZ48dEf/ABWRcimrAAAACwGePmpH/wAA\n",
       "AwO6AAAAVkGaI0moQWyZTAhn//6eEABT8XoACw+vBZ2mcdvl14eI4fTdQ9zT5RSv6sSma8KbTCPm\n",
       "ZWLDCEp9sVYQu26F1m79SGj/VbfE8BsPlvyHTN2QBi1wakZdAAAAFEGeQUUVLCP/ABsJg849pB5V\n",
       "+kxAAAAACwGeYHRH/wAAAwO7AAAADQGeYmpH/wAqCfirEysAAABEQZpnSahBbJlMCGf//p4QAFPx\n",
       "uOAK364e2N3IhdIaxdogOIPCxWKwbgidHjVfbe0CsB6L0K4Vn72LeEexSftKWx7c4RcAAAATQZ6F\n",
       "RRUsI/8AGwmPXeQ9lZd0aAAAAAwBnqR0R/8AFQ9GKbUAAAAMAZ6makf/ACs5rCF5AAAAQEGaq0mo\n",
       "QWyZTAhn//6eEABT8bjgCtSrSuSHVkMLMuxLBlPBJ2KgLXH65ONMY6/xntVjeeufuRnE/a4hivRA\n",
       "wIEAAAAbQZ7JRRUsI/8AGxd8gAcWFe7CvdR1g3W5/oqAAAAACwGe6HRH/wAAAwO7AAAADAGe6mpH\n",
       "/wArOawheQAAAC5Bmu9JqEFsmUwIZ//+nhAAU/K+OAK36Yw9UblVv55A2PDAFI/HUae7sgz36FBB\n",
       "AAAAGEGfDUUVLCP/ABsZdwAF0cl0yymo5O6KgQAAAAwBnyx0R/8AKyLkUasAAAANAZ8uakf/ABWi\n",
       "CIpqwAAAADlBmzNJqEFsmUwIZ//+nhAAU972MANrABXzTu2PnBpiUgIMUzFbEUxUYOKpqbz4fNe+\n",
       "1vHPbDJehQUAAAARQZ9RRRUsI/8AGwmQAqCf1FAAAAALAZ9wdEf/AAADA7oAAAAMAZ9yakf/ACs5\n",
       "rCF5AAAAKEGbd0moQWyZTAhn//6eEABT8saUARyhSwBBlG6iswpDUuBNJu/QoIEAAAAPQZ+VRRUs\n",
       "I/8AADt7kChhAAAACwGftHRH/wAAAwO6AAAACwGftmpH/wAAAwO6AAAAOUGbu0moQWyZTAhn//6e\n",
       "EABT8bjgCtUfUhZjImllvecrLf+mT63Zi/ATP9bqPwUzOcKnBwpHdJob0QAAABFBn9lFFSwj/wAb\n",
       "CZACoJ/UUAAAAAsBn/h0R/8AAAMDugAAAAwBn/pqR/8AKzmsIXkAAABFQZv/SahBbJlMCGf//p4Q\n",
       "AFPxuOAK1KghAPkqk36G7N2Rb761NoAjZG7w9E4Ubzwo+AMwUsoUHXToWN/+/Uv2zEs55MFJAAAA\n",
       "EUGeHUUVLCP/ABppkALon9RRAAAACwGePHRH/wAAAwO7AAAADQGePmpH/wArKafLgSMAAAA/QZoj\n",
       "SahBbJlMCGf//p4QAFGyvjgCtUfBBxenWnEznl0DKDpkqnmyXjrUH74n1TXoOSuTIIJVq6zf9fz3\n",
       "6FJBAAAAGEGeQUUVLCP/ABpqBXAAcWVc0j3dLTla7wAAAAwBnmB0R/8AKgLkUbUAAAALAZ5iakf/\n",
       "AAADA7sAAAA2QZpnSahBbJlMCGf//p4QAFGydGAK35F/OMMtwnAB5r8BY5aZOFIRHMTXKqb/bVFZ\n",
       "uoPGkgRcAAAAE0GehUUVLCP/ABpimNmVDNOxXJgAAAAQAZ6kdEf/ACoC0hskYngrYQAAAAsBnqZq\n",
       "R/8AAAMDugAAAEFBmqtJqEFsmUwIZ//+nhAAUbG44ArVJuRRVMgQtohhWmnistvtukQoMEerkdaE\n",
       "qbtu96JUgQ0te/FSg4khp00CLwAAABNBnslFFSwj/wAaaY5VJffxL3vAAAAAFQGe6HRH/wAUvOxX\n",
       "NYAWrzT+zeCm1QAAAAsBnupqR/8AAAMDuwAAADJBmu9JqEFsmUwIZ//+nhAAUbG44ArVJxuQNLhg\n",
       "JzxXsg/eyrEpsYHUecmCHpwgdmhxwQAAABFBnw1FFSwj/wAaYp1vbqhr4QAAAAsBnyx0R/8AAAMD\n",
       "ugAAAAsBny5qR/8AAAMDugAAADZBmzNJqEFsmUwIZ//+nhAAKNrP9wBD4sIXpXqecPZh0u1iAN8P\n",
       "7BZhPXKF5UGdKxsuHPVBYccAAAAaQZ9RRRUsI/8ADTKFJgBbxbyj2CtuDdE4kVAAAAALAZ9wdEf/\n",
       "AAADA7oAAAAMAZ9yakf/ABUFACMHAAAAMEGbd0moQWyZTAhn//6eEAAo2s/3AFM9zrsRKBIiomT/\n",
       "EfuSqk9oifTlDWq9fxEGLQAAABFBn5VFFSwj/wANMU7Hbqhr4QAAAAsBn7R0R/8AAAMDugAAAAsB\n",
       "n7ZqR/8AAAMDugAAABNBm7tJqEFsmUwIZ//+nhAAAAdNAAAAD0Gf2UUVLCP/AAA7e5AoYAAAAAsB\n",
       "n/h0R/8AAAMDugAAAAsBn/pqR/8AAAMDuwAAAB9Bm/9JqEFsmUwIZ//+nhAAKNrNwABtbxLKt+09\n",
       "JwoIAAAAEUGeHUUVLCP/AA0xTsduqGvhAAAACwGePHRH/wAAAwO7AAAACwGePmpH/wAAAwO6AAAA\n",
       "MkGaI0moQWyZTAhn//6eEAAo2s/3AFM1kNEZ47d9YEXDiU02oORaP6sMkUSA31iwWHHBAAAAD0Ge\n",
       "QUUVLCP/AAA7e5AoYAAAAAsBnmB0R/8AAAMDuwAAAAwBnmJqR/8AFQUAIwcAAAATQZpnSahBbJlM\n",
       "CGf//p4QAAAHTAAAAA9BnoVFFSwj/wAAO3uQKGAAAAALAZ6kdEf/AAADA7sAAAALAZ6makf/AAAD\n",
       "A7oAAAATQZqrSahBbJlMCF///oywAAAHVQAAAA9BnslFFSwj/wAAO3uQKGAAAAALAZ7odEf/AAAD\n",
       "A7sAAAALAZ7qakf/AAADA7sAAAATQZrvSahBbJlMCF///oywAAAHVQAAAA9Bnw1FFSwj/wAAO3uQ\n",
       "KGEAAAALAZ8sdEf/AAADA7oAAAALAZ8uakf/AAADA7oAAAATQZszSahBbJlMCF///oywAAAHVQAA\n",
       "AA9Bn1FFFSwj/wAAO3uQKGAAAAALAZ9wdEf/AAADA7oAAAALAZ9yakf/AAADA7sAAAAsQZt0SahB\n",
       "bJlMCGf//p4QACja0QKAHGM2rZtaN8Jfdxyv9LyabhcecZCw44EAAAA0QZuYSeEKUmUwIZ/+nhAA\n",
       "KM623WeJ2JwA3WmDJCp6+2ENqcdX7dwbW5kG5GG9t0xEHiDFgQAAABtBn7ZFNEwj/wANKxlrUuAA\n",
       "lX6glQwyO2NQRUAAAAATAZ/VdEf/ABUbcUAEzkiOnuCm1AAAAAsBn9dqR/8AAAMDuwAAADBBm9xJ\n",
       "qEFomUwIZ//+nhAAKNrJ7gBGR9VcDVRh4zAKL50REJLuseZNDvjmkkiw44AAAAARQZ/6RREsI/8A\n",
       "DTTIBuif1FAAAAALAZ4ZdEf/AAADA7sAAAALAZ4bakf/AAADA7oAAAAjQZoASahBbJlMCGf//p4Q\n",
       "ACjax1IAbmvHlJYmc2BnTMogxYEAAAAPQZ4+RRUsI/8AADt7kChhAAAACwGeXXRH/wAAAwO6AAAA\n",
       "CwGeX2pH/wAAAwO7AAAAJUGaREmoQWyZTAhf//6MsAApOwCLABxaG29YCfKddGWB0VuZiLgAAAAR\n",
       "QZ5iRRUsI/8ADTFOx26oa+EAAAALAZ6BdEf/AAADA7sAAAALAZ6Dakf/AAADA7oAAAAiQZqISahB\n",
       "bJlMCF///oywACk5e0YANvJrkwS9dgbfX2ZiLgAAABFBnqZFFSwj/wANNMgG6J/UUQAAAAsBnsV0\n",
       "R/8AAAMDugAAAAsBnsdqR/8AAAMDuwAAAEFBmsxJqEFsmUwIX//+jLAAKljtsANtaZpe2uWxrayv\n",
       "p4FZscCMw4NvkqC+ARjJPG5vfecPY0LFa62a565wmHwSMAAAABRBnupFFSwj/wANhMevEDToeIvW\n",
       "8QAAAAsBnwl0R/8AAAMDuwAAABABnwtqR/8AFYlKuCgGELaBAAAAKkGbEEmoQWyZTAhX//44QACk\n",
       "OWLx6AEcvIuS7Qj77mmt+jYmOrUjHpcm/QAAABNBny5FFSwj/wANgU43qAyIUzm8AAAADQGfTXRH\n",
       "/wAKyKTa4SMAAAAOAZ9Pakf/AArOYTAwkYEAAAAlQZtTSahBbJlMCE///fEAAZFUVwAJUj6/CFQz\n",
       "Lz7pgYJaXuCNgAAAABtBn3FFFSwj/wANi3vACZUfQ6TIZTMBohO5GIAAAAALAZ+Sakf/AAADA7sA\n",
       "AAAeQZuVSahBbJlMFEx//IQACadoqACdugipcbfVfIIfAAAADwGftGpH/wAVlQBqUhKigQAAFZpt\n",
       "b292AAAAbG12aGQAAAAAAAAAAAAAAAAAAAPoAAAfQAABAAABAAAAAAAAAAAAAAAAAQAAAAAAAAAA\n",
       "AAAAAAAAAAEAAAAAAAAAAAAAAAAAAEAAAAAAAAAAAAAAAAAAAAAAAAAAAAAAAAAAAAAAAAACAAAU\n",
       "xHRyYWsAAABcdGtoZAAAAAMAAAAAAAAAAAAAAAEAAAAAAAAfQAAAAAAAAAAAAAAAAAAAAAAAAQAA\n",
       "AAAAAAAAAAAAAAAAAAEAAAAAAAAAAAAAAAAAAEAAAAABsAAAASAAAAAAACRlZHRzAAAAHGVsc3QA\n",
       "AAAAAAAAAQAAH0AAAAIAAAEAAAAAFDxtZGlhAAAAIG1kaGQAAAAAAAAAAAAAAAAAADIAAAGQAFXE\n",
       "AAAAAAAtaGRscgAAAAAAAAAAdmlkZQAAAAAAAAAAAAAAAFZpZGVvSGFuZGxlcgAAABPnbWluZgAA\n",
       "ABR2bWhkAAAAAQAAAAAAAAAAAAAAJGRpbmYAAAAcZHJlZgAAAAAAAAABAAAADHVybCAAAAABAAAT\n",
       "p3N0YmwAAACzc3RzZAAAAAAAAAABAAAAo2F2YzEAAAAAAAAAAQAAAAAAAAAAAAAAAAAAAAABsAEg\n",
       "AEgAAABIAAAAAAAAAAEAAAAAAAAAAAAAAAAAAAAAAAAAAAAAAAAAAAAAAAAAAAAY//8AAAAxYXZj\n",
       "QwFkAB7/4QAYZ2QAHqzZQbCWhAAAAwAEAAADAZA8WLZYAQAGaOvjyyLAAAAAHHV1aWRraEDyXyRP\n",
       "xbo5pRvPAyPzAAAAAAAAABhzdHRzAAAAAAAAAAEAAAGQAAABAAAAABhzdHNzAAAAAAAAAAIAAAAB\n",
       "AAAA+wAADDhjdHRzAAAAAAAAAYUAAAABAAACAAAAAAEAAAQAAAAAAgAAAQAAAAABAAAEAAAAAAIA\n",
       "AAEAAAAAAQAAAgAAAAABAAAFAAAAAAEAAAIAAAAAAQAAAAAAAAABAAABAAAAAAEAAAMAAAAAAQAA\n",
       "AQAAAAABAAAEAAAAAAIAAAEAAAAAAQAABAAAAAACAAABAAAAAAEAAAMAAAAAAQAAAQAAAAABAAAF\n",
       "AAAAAAEAAAIAAAAAAQAAAAAAAAABAAABAAAAAAEAAAUAAAAAAQAAAgAAAAABAAAAAAAAAAEAAAEA\n",
       "AAAAAQAAAwAAAAABAAABAAAAAAEAAAMAAAAAAQAAAQAAAAABAAAFAAAAAAEAAAIAAAAAAQAAAAAA\n",
       "AAABAAABAAAAAAEAAAUAAAAAAQAAAgAAAAABAAAAAAAAAAEAAAEAAAAAAQAABQAAAAABAAACAAAA\n",
       "AAEAAAAAAAAAAQAAAQAAAAABAAADAAAAAAEAAAEAAAAAAQAAAwAAAAABAAABAAAAAAEAAAUAAAAA\n",
       "AQAAAgAAAAABAAAAAAAAAAEAAAEAAAAAAQAABQAAAAABAAACAAAAAAEAAAAAAAAAAQAAAQAAAAAB\n",
       "AAAFAAAAAAEAAAIAAAAAAQAAAAAAAAABAAABAAAAAAEAAAUAAAAAAQAAAgAAAAABAAAAAAAAAAEA\n",
       "AAEAAAAAAQAABQAAAAABAAACAAAAAAEAAAAAAAAAAQAAAQAAAAABAAAEAAAAAAIAAAEAAAAAAQAA\n",
       "BQAAAAABAAACAAAAAAEAAAAAAAAAAQAAAQAAAAABAAAFAAAAAAEAAAIAAAAAAQAAAAAAAAABAAAB\n",
       "AAAAAAEAAAUAAAAAAQAAAgAAAAABAAAAAAAAAAEAAAEAAAAAAQAAAgAAAAABAAAFAAAAAAEAAAIA\n",
       "AAAAAQAAAAAAAAABAAABAAAAAAEAAAUAAAAAAQAAAgAAAAABAAAAAAAAAAEAAAEAAAAAAQAABAAA\n",
       "AAACAAABAAAAAAEAAAMAAAAAAQAAAQAAAAABAAAFAAAAAAEAAAIAAAAAAQAAAAAAAAABAAABAAAA\n",
       "AAEAAAUAAAAAAQAAAgAAAAABAAAAAAAAAAEAAAEAAAAAAQAAAgAAAAABAAAFAAAAAAEAAAIAAAAA\n",
       "AQAAAAAAAAABAAABAAAAAAEAAAUAAAAAAQAAAgAAAAABAAAAAAAAAAEAAAEAAAAAAQAABQAAAAAB\n",
       "AAACAAAAAAEAAAAAAAAAAQAAAQAAAAABAAADAAAAAAEAAAEAAAAAAQAABQAAAAABAAACAAAAAAEA\n",
       "AAAAAAAAAQAAAQAAAAABAAACAAAAAAEAAAUAAAAAAQAAAgAAAAABAAAAAAAAAAEAAAEAAAAAAQAA\n",
       "AwAAAAABAAABAAAAAAEAAAQAAAAAAgAAAQAAAAABAAAFAAAAAAEAAAIAAAAAAQAAAAAAAAABAAAB\n",
       "AAAAAAEAAAUAAAAAAQAAAgAAAAABAAAAAAAAAAEAAAEAAAAAAQAAAwAAAAABAAABAAAAAAEAAAQA\n",
       "AAAAAgAAAQAAAAABAAADAAAAAAEAAAEAAAAAAQAABQAAAAABAAACAAAAAAEAAAAAAAAAAQAAAQAA\n",
       "AAABAAAFAAAAAAEAAAIAAAAAAQAAAAAAAAABAAABAAAAAAEAAAUAAAAAAQAAAgAAAAABAAAAAAAA\n",
       "AAEAAAEAAAAAAQAABQAAAAABAAACAAAAAAEAAAAAAAAAAQAAAQAAAAABAAAFAAAAAAEAAAIAAAAA\n",
       "AQAAAAAAAAABAAABAAAAAAEAAAIAAAAAAQAABQAAAAABAAACAAAAAAEAAAAAAAAAAQAAAQAAAAAB\n",
       "AAAFAAAAAAEAAAIAAAAAAQAAAAAAAAABAAABAAAAAAEAAAUAAAAAAQAAAgAAAAABAAAAAAAAAAEA\n",
       "AAEAAAAAAQAABQAAAAABAAACAAAAAAEAAAAAAAAAAQAAAQAAAAABAAAFAAAAAAEAAAIAAAAAAQAA\n",
       "AAAAAAABAAABAAAAAAEAAAUAAAAAAQAAAgAAAAABAAAAAAAAAAEAAAEAAAAAAQAABQAAAAABAAAC\n",
       "AAAAAAEAAAAAAAAAAQAAAQAAAAABAAAFAAAAAAEAAAIAAAAAAQAAAAAAAAABAAABAAAAAAEAAAUA\n",
       "AAAAAQAAAgAAAAABAAAAAAAAAAEAAAEAAAAAAQAABQAAAAABAAACAAAAAAEAAAAAAAAAAQAAAQAA\n",
       "AAABAAAFAAAAAAEAAAIAAAAAAQAAAAAAAAABAAABAAAAAAEAAAUAAAAAAQAAAgAAAAABAAAAAAAA\n",
       "AAEAAAEAAAAAAQAABAAAAAACAAABAAAAAAEAAAUAAAAAAQAAAgAAAAABAAAAAAAAAAEAAAEAAAAA\n",
       "AQAABQAAAAABAAACAAAAAAEAAAAAAAAAAQAAAQAAAAABAAAFAAAAAAEAAAIAAAAAAQAAAAAAAAAB\n",
       "AAABAAAAAAEAAAQAAAAAAgAAAQAAAAABAAAFAAAAAAEAAAIAAAAAAQAAAAAAAAABAAABAAAAAAEA\n",
       "AAUAAAAAAQAAAgAAAAABAAAAAAAAAAEAAAEAAAAAAQAABQAAAAABAAACAAAAAAEAAAAAAAAAAQAA\n",
       "AQAAAAABAAACAAAAAAEAAAMAAAAAAQAAAQAAAAABAAACAAAAAAEAAAUAAAAAAQAAAgAAAAABAAAA\n",
       "AAAAAAEAAAEAAAAAAQAABQAAAAABAAACAAAAAAEAAAAAAAAAAQAAAQAAAAABAAAFAAAAAAEAAAIA\n",
       "AAAAAQAAAAAAAAABAAABAAAAAAEAAAUAAAAAAQAAAgAAAAABAAAAAAAAAAEAAAEAAAAAAQAABQAA\n",
       "AAABAAACAAAAAAEAAAAAAAAAAQAAAQAAAAABAAAFAAAAAAEAAAIAAAAAAQAAAAAAAAABAAABAAAA\n",
       "AAEAAAUAAAAAAQAAAgAAAAABAAAAAAAAAAEAAAEAAAAAAQAABQAAAAABAAACAAAAAAEAAAAAAAAA\n",
       "AQAAAQAAAAABAAAFAAAAAAEAAAIAAAAAAQAAAAAAAAABAAABAAAAAAEAAAUAAAAAAQAAAgAAAAAB\n",
       "AAAAAAAAAAEAAAEAAAAAAQAABQAAAAABAAACAAAAAAEAAAAAAAAAAQAAAQAAAAABAAAFAAAAAAEA\n",
       "AAIAAAAAAQAAAAAAAAABAAABAAAAAAEAAAUAAAAAAQAAAgAAAAABAAAAAAAAAAEAAAEAAAAAAQAA\n",
       "BQAAAAABAAACAAAAAAEAAAAAAAAAAQAAAQAAAAABAAAFAAAAAAEAAAIAAAAAAQAAAAAAAAABAAAB\n",
       "AAAAAAEAAAUAAAAAAQAAAgAAAAABAAAAAAAAAAEAAAEAAAAAAQAABQAAAAABAAACAAAAAAEAAAAA\n",
       "AAAAAQAAAQAAAAABAAAFAAAAAAEAAAIAAAAAAQAAAAAAAAABAAABAAAAAAEAAAUAAAAAAQAAAgAA\n",
       "AAABAAAAAAAAAAEAAAEAAAAAAQAABQAAAAABAAACAAAAAAEAAAAAAAAAAQAAAQAAAAABAAAFAAAA\n",
       "AAEAAAIAAAAAAQAAAAAAAAABAAABAAAAAAEAAAUAAAAAAQAAAgAAAAABAAAAAAAAAAEAAAEAAAAA\n",
       "AQAABQAAAAABAAACAAAAAAEAAAAAAAAAAQAAAQAAAAABAAAFAAAAAAEAAAIAAAAAAQAAAAAAAAAB\n",
       "AAABAAAAAAEAAAUAAAAAAQAAAgAAAAABAAAAAAAAAAEAAAEAAAAAAQAABQAAAAABAAACAAAAAAEA\n",
       "AAAAAAAAAQAAAQAAAAABAAAFAAAAAAEAAAIAAAAAAQAAAAAAAAABAAABAAAAAAEAAAUAAAAAAQAA\n",
       "AgAAAAABAAAAAAAAAAEAAAEAAAAAAQAAAgAAAAABAAAFAAAAAAEAAAIAAAAAAQAAAAAAAAABAAAB\n",
       "AAAAAAEAAAUAAAAAAQAAAgAAAAABAAAAAAAAAAEAAAEAAAAAAQAABQAAAAABAAACAAAAAAEAAAAA\n",
       "AAAAAQAAAQAAAAABAAAFAAAAAAEAAAIAAAAAAQAAAAAAAAABAAABAAAAAAEAAAUAAAAAAQAAAgAA\n",
       "AAABAAAAAAAAAAEAAAEAAAAAAQAABQAAAAABAAACAAAAAAEAAAAAAAAAAQAAAQAAAAABAAAFAAAA\n",
       "AAEAAAIAAAAAAQAAAAAAAAABAAABAAAAAAEAAAQAAAAAAgAAAQAAAAABAAADAAAAAAEAAAEAAAAA\n",
       "HHN0c2MAAAAAAAAAAQAAAAEAAAGQAAAAAQAABlRzdHN6AAAAAAAAAAAAAAGQAAA0+gAAAucAAABn\n",
       "AAAANgAAALcAAABDAAAAKQAAAEAAAACNAAAAJwAAACYAAAAmAAAASAAAACkAAABjAAAALQAAACgA\n",
       "AABuAAAALgAAACUAAABRAAAALQAAAHUAAAAwAAAAIQAAACAAAABhAAAALQAAABsAAAAkAAAAPAAA\n",
       "ACMAAAA5AAAAFgAAAGQAAAAnAAAAGgAAABwAAACOAAAAHwAAACQAAAASAAAALgAAACIAAAARAAAA\n",
       "EQAAAEcAAAAkAAAANgAAABkAAAA3AAAAHwAAABAAAAARAAAAMQAAAB0AAAAQAAAAEgAAAFgAAAAo\n",
       "AAAAEQAAABsAAACOAAAAJwAAABsAAAASAAAAQgAAACcAAAAQAAAAEgAAADgAAAAaAAAAEQAAAGAA\n",
       "AAAnAAAAGQAAACEAAABpAAAAKgAAACAAAAAaAAAAZwAAACoAAAAdAAAAGgAAAEAAAABHAAAAJgAA\n",
       "ABcAAAAbAAAAQgAAACQAAAAQAAAAEAAAAFQAAAAlAAAAGgAAAGYAAAApAAAAWgAAAB8AAAAVAAAA\n",
       "EwAAADgAAAAqAAAAFwAAABYAAAA0AAAAWAAAACUAAAAWAAAAIAAAADkAAAAlAAAAHAAAABkAAABR\n",
       "AAAAHwAAABMAAAAbAAAAQgAAABkAAABIAAAAJQAAABUAAAAVAAAAOQAAAF4AAAAdAAAAHAAAABEA\n",
       "AAA9AAAAIQAAAEkAAAAeAAAAFQAAAEcAAAAfAAAAFQAAABsAAABNAAAAJwAAABkAAAAcAAAASQAA\n",
       "ACQAAABRAAAAKgAAABwAAAAnAAAAGQAAAEwAAAApAAAAGwAAABQAAAAjAAAAHAAAABIAAAARAAAA\n",
       "MQAAABsAAAAQAAAAEgAAAEgAAAAcAAAAEgAAABQAAAArAAAAGwAAABAAAAARAAAAOgAAAD8AAAAl\n",
       "AAAAEQAAABsAAAA+AAAAJgAAABIAAAATAAAASQAAABwAAAASAAAAEwAAACsAAAAZAAAAEwAAABEA\n",
       "AAAoAAAAHQAAABIAAAARAAAAGwAAABkAAAAQAAAAEQAAACIAAAAZAAAAEAAAABEAAAAyAAAAGwAA\n",
       "ABMAAAARAAAAFwAAABkAAAAQAAAAEQAAACYAAAAbAAAAEAAAABEAAAA3AAAAGwAAABAAAAARAAAA\n",
       "MQAAAB4AAAAUAAAAEgAAAC8AAAAbAAAAFAAAAEYAAAAdAAAAEgAAABIAAAA+AAAAHgAAABQAAAAS\n",
       "AAAAPgAAAB4AAAASAAAAFgAAAD0AAAAdAAAAHQAAAFsAAAAoAAAAHQAAABEAAABRAAAAKAAAABgA\n",
       "AAAQAAAALAAAABoAAAAQAAAAEQAAQM4AAAILAAAALwAAAEoAAABKAAAAHAAAABQAAAASAAAAPAAA\n",
       "ABcAAAATAAAAEgAAAGAAAAAlAAAAFAAAABQAAAA5AAAAHgAAABgAAAAQAAAAPgAAAB8AAAARAAAA\n",
       "DwAAAC4AAAAWAAAAEAAAABAAAAA3AAAAHAAAABAAAAAPAAAAWgAAABgAAAAPAAAAEQAAAEgAAAAX\n",
       "AAAAEAAAABAAAABEAAAAHwAAAA8AAAAQAAAAMgAAABwAAAAQAAAAEQAAAD0AAAAVAAAADwAAABAA\n",
       "AAAsAAAAEwAAAA8AAAAPAAAAPQAAABUAAAAPAAAAEAAAAEkAAAAVAAAADwAAABEAAABDAAAAHAAA\n",
       "ABAAAAAPAAAAOgAAABcAAAAUAAAADwAAAEUAAAAXAAAAGQAAAA8AAAA2AAAAFQAAAA8AAAAPAAAA\n",
       "OgAAAB4AAAAPAAAAEAAAADQAAAAVAAAADwAAAA8AAAAXAAAAEwAAAA8AAAAPAAAAIwAAABUAAAAP\n",
       "AAAADwAAADYAAAATAAAADwAAABAAAAAXAAAAEwAAAA8AAAAPAAAAFwAAABMAAAAPAAAADwAAABcA\n",
       "AAATAAAADwAAAA8AAAAXAAAAEwAAAA8AAAAPAAAAMAAAADgAAAAfAAAAFwAAAA8AAAA0AAAAFQAA\n",
       "AA8AAAAPAAAAJwAAABMAAAAPAAAADwAAACkAAAAVAAAADwAAAA8AAAAmAAAAFQAAAA8AAAAPAAAA\n",
       "RQAAABgAAAAPAAAAFAAAAC4AAAAXAAAAEQAAABIAAAApAAAAHwAAAA8AAAAiAAAAEwAAABRzdGNv\n",
       "AAAAAAAAAAEAAAAsAAAAYnVkdGEAAABabWV0YQAAAAAAAAAhaGRscgAAAAAAAAAAbWRpcmFwcGwA\n",
       "AAAAAAAAAAAAAAAtaWxzdAAAACWpdG9vAAAAHWRhdGEAAAABAAAAAExhdmY1Ny43MS4xMDA=\n",
       "\">\n",
       "  Your browser does not support the video tag.\n",
       "</video>"
      ],
      "text/plain": [
       "<IPython.core.display.HTML object>"
      ]
     },
     "execution_count": 30,
     "metadata": {},
     "output_type": "execute_result"
    }
   ],
   "source": [
    "HTML(anim.to_html5_video())"
   ]
  },
  {
   "cell_type": "code",
   "execution_count": 29,
   "metadata": {},
   "outputs": [],
   "source": [
    "try:\n",
    "    HTML(anim.to_html5_video())\n",
    "# In case the build-in renderers are unaviable, fall back to\n",
    "# a custom one, that doesn't require external libraries\n",
    "except RuntimeError:\n",
    "    anim.save(None, writer=matplotlib_utils.SimpleMovieWriter(0.001))"
   ]
  },
  {
   "cell_type": "markdown",
   "metadata": {},
   "source": [
    "# Logistic regression\n",
    "Your assignment is to implement the logistic regression\n",
    "\n",
    "Plan:\n",
    "* Use a shared variable for weights\n",
    "* Use a matrix placeholder for `X`\n",
    " \n",
    "We shall train on a two-class MNIST dataset\n",
    "* please note that target `y` are `{0,1}` and not `{-1,1}` as in some formulae"
   ]
  },
  {
   "cell_type": "code",
   "execution_count": 31,
   "metadata": {},
   "outputs": [
    {
     "name": "stdout",
     "output_type": "stream",
     "text": [
      "y [shape - (360,)]: [0 1 0 1 0 1 0 0 1 1]\n",
      "X [shape - (360, 64)]:\n"
     ]
    }
   ],
   "source": [
    "from sklearn.datasets import load_digits\n",
    "mnist = load_digits(2)\n",
    "\n",
    "X, y = mnist.data, mnist.target\n",
    "\n",
    "print(\"y [shape - %s]:\" % (str(y.shape)), y[:10])\n",
    "print(\"X [shape - %s]:\" % (str(X.shape)))"
   ]
  },
  {
   "cell_type": "code",
   "execution_count": 32,
   "metadata": {},
   "outputs": [
    {
     "name": "stdout",
     "output_type": "stream",
     "text": [
      "X:\n",
      " [[  0.   0.   5.  13.   9.   1.   0.   0.   0.   0.]\n",
      " [  0.   0.   0.  12.  13.   5.   0.   0.   0.   0.]\n",
      " [  0.   0.   1.   9.  15.  11.   0.   0.   0.   0.]]\n",
      "y:\n",
      " [0 1 0 1 0 1 0 0 1 1]\n"
     ]
    },
    {
     "data": {
      "image/png": "[encoded data removed]",
      "text/plain": [
       "<matplotlib.figure.Figure at 0x7f784146e748>"
      ]
     },
     "metadata": {},
     "output_type": "display_data"
    }
   ],
   "source": [
    "print('X:\\n',X[:3,:10])\n",
    "print('y:\\n',y[:10])\n",
    "plt.imshow(X[0].reshape([8,8]));"
   ]
  },
  {
   "cell_type": "markdown",
   "metadata": {},
   "source": [
    "It's your turn now!\n",
    "Just a small reminder of the relevant math:\n",
    "\n",
    "$$\n",
    "P(y=1|X) = \\sigma(X \\cdot W + b)\n",
    "$$\n",
    "$$\n",
    "\\text{loss} = -\\log\\left(P\\left(y_\\text{predicted} = 1\\right)\\right)\\cdot y_\\text{true} - \\log\\left(1 - P\\left(y_\\text{predicted} = 1\\right)\\right)\\cdot\\left(1 - y_\\text{true}\\right)\n",
    "$$\n",
    "\n",
    "$\\sigma(x)$ is available via `tf.nn.sigmoid` and matrix multiplication via `tf.matmul`"
   ]
  },
  {
   "cell_type": "code",
   "execution_count": 122,
   "metadata": {},
   "outputs": [],
   "source": [
    "from sklearn.model_selection import train_test_split\n",
    "X_train, X_test, y_train, y_test = train_test_split(\n",
    "    X, y, random_state=42)"
   ]
  },
  {
   "cell_type": "markdown",
   "metadata": {},
   "source": [
    "__Your code goes here.__ For the training and testing scaffolding to work, please stick to the names in comments."
   ]
  },
  {
   "cell_type": "code",
   "execution_count": 100,
   "metadata": {},
   "outputs": [],
   "source": [
    "# Model parameters - weights and bias\n",
    "weights = tf.Variable(initial_value=np.zeros((X.shape[1],1)),dtype=\"float32\")\n",
    "b = tf.Variable(initial_value=0.)"
   ]
  },
  {
   "cell_type": "code",
   "execution_count": 103,
   "metadata": {},
   "outputs": [],
   "source": [
    "# Placeholders for the input data\n",
    "input_X = tf.placeholder(\"float32\")\n",
    "input_y = tf.placeholder(\"float32\")"
   ]
  },
  {
   "cell_type": "code",
   "execution_count": 118,
   "metadata": {},
   "outputs": [],
   "source": [
    "# The model code\n",
    "\n",
    "# Compute a vector of predictions, resulting shape should be [input_X.shape[0],]\n",
    "# This is 1D, if you have extra dimensions, you can  get rid of them with tf.squeeze .\n",
    "# Don't forget the sigmoid.\n",
    "predicted_y = tf.squeeze(tf.nn.sigmoid(tf.matmul(input_X,weights)+b))\n",
    "\n",
    "# Loss. Should be a scalar number - average loss over all the objects\n",
    "# tf.reduce_mean is your friend here\n",
    "loss = tf.reduce_mean(-tf.log(predicted_y)*input_y-tf.log(1-predicted_y)*(1-input_y))\n",
    "\n",
    "# See above for an example. tf.train.*Optimizer\n",
    "optimizer = tf.train.MomentumOptimizer(0.01, 0.5).minimize(\n",
    "    loss, var_list=weights)\n",
    "s.run(tf.global_variables_initializer())"
   ]
  },
  {
   "cell_type": "code",
   "execution_count": 119,
   "metadata": {},
   "outputs": [
    {
     "data": {
      "text/plain": [
       "0.72868866"
      ]
     },
     "execution_count": 119,
     "metadata": {},
     "output_type": "execute_result"
    }
   ],
   "source": [
    "s.run(\n",
    "        loss, {\n",
    "            input_X: X[:100],\n",
    "            input_y: y[-100:],\n",
    "            weights: validation_weights+1.21e-3,\n",
    "            b: -1e-1})"
   ]
  },
  {
   "cell_type": "markdown",
   "metadata": {},
   "source": [
    "A test to help with the debugging"
   ]
  },
  {
   "cell_type": "code",
   "execution_count": 120,
   "metadata": {},
   "outputs": [],
   "source": [
    "validation_weights = 1e-3 * np.fromiter(map(lambda x:\n",
    "        s.run(weird_psychotic_function, {my_scalar:x, my_vector:[1, 0.1, 2]}),\n",
    "                                   0.15 * np.arange(1, X.shape[1] + 1)),\n",
    "                                   count=X.shape[1], dtype=np.float32)[:, np.newaxis]\n",
    "# Compute predictions for given weights and bias\n",
    "prediction_validation = s.run(\n",
    "    predicted_y, {\n",
    "    input_X: X,\n",
    "    weights: validation_weights,\n",
    "    b: 1e-1})\n",
    "\n",
    "# Load the reference values for the predictions\n",
    "validation_true_values = np.loadtxt(\"validation_predictons.txt\")\n",
    "\n",
    "assert prediction_validation.shape == (X.shape[0],),\\\n",
    "       \"Predictions must be a 1D array with length equal to the number \" \\\n",
    "       \"of examples in input_X\"\n",
    "assert np.allclose(validation_true_values, prediction_validation)\n",
    "loss_validation = s.run(\n",
    "        loss, {\n",
    "            input_X: X[:100],\n",
    "            input_y: y[-100:],\n",
    "            weights: validation_weights+1.21e-3,\n",
    "            b: -1e-1})\n",
    "assert np.allclose(loss_validation, 0.728689)"
   ]
  },
  {
   "cell_type": "code",
   "execution_count": 123,
   "metadata": {},
   "outputs": [
    {
     "name": "stdout",
     "output_type": "stream",
     "text": [
      "loss at iter 0:0.1252\n",
      "train auc: 0.999945103206\n",
      "test auc: 1.0\n",
      "loss at iter 1:0.0450\n",
      "train auc: 1.0\n",
      "test auc: 1.0\n",
      "loss at iter 2:0.0269\n",
      "train auc: 1.0\n",
      "test auc: 1.0\n",
      "loss at iter 3:0.0200\n",
      "train auc: 1.0\n",
      "test auc: 1.0\n",
      "loss at iter 4:0.0169\n",
      "train auc: 1.0\n",
      "test auc: 1.0\n"
     ]
    }
   ],
   "source": [
    "from sklearn.metrics import roc_auc_score\n",
    "s.run(tf.global_variables_initializer())\n",
    "for i in range(5):\n",
    "    s.run(optimizer, {input_X: X_train, input_y: y_train})\n",
    "    loss_i = s.run(loss, {input_X: X_train, input_y: y_train})\n",
    "    print(\"loss at iter %i:%.4f\" % (i, loss_i))\n",
    "    print(\"train auc:\", roc_auc_score(y_train, s.run(predicted_y, {input_X:X_train})))\n",
    "    print(\"test auc:\", roc_auc_score(y_test, s.run(predicted_y, {input_X:X_test})))"
   ]
  },
  {
   "cell_type": "markdown",
   "metadata": {},
   "source": [
    "### Coursera submission"
   ]
  },
  {
   "cell_type": "code",
   "execution_count": 124,
   "metadata": {},
   "outputs": [],
   "source": [
    "grade_submitter = grading.Grader(\"BJCiiY8sEeeCnhKCj4fcOA\")"
   ]
  },
  {
   "cell_type": "code",
   "execution_count": 125,
   "metadata": {},
   "outputs": [],
   "source": [
    "test_weights = 1e-3 * np.fromiter(map(lambda x:\n",
    "    s.run(weird_psychotic_function, {my_scalar:x, my_vector:[1, 2, 3]}),\n",
    "                               0.1 * np.arange(1, X.shape[1] + 1)),\n",
    "                               count=X.shape[1], dtype=np.float32)[:, np.newaxis]"
   ]
  },
  {
   "cell_type": "markdown",
   "metadata": {},
   "source": [
    "First, test prediction and loss computation. This part doesn't require a fitted model."
   ]
  },
  {
   "cell_type": "code",
   "execution_count": 126,
   "metadata": {},
   "outputs": [],
   "source": [
    "prediction_test = s.run(\n",
    "    predicted_y, {\n",
    "    input_X: X,\n",
    "    weights: test_weights,\n",
    "    b: 1e-1})"
   ]
  },
  {
   "cell_type": "code",
   "execution_count": 127,
   "metadata": {},
   "outputs": [],
   "source": [
    "assert prediction_test.shape == (X.shape[0],),\\\n",
    "       \"Predictions must be a 1D array with length equal to the number \" \\\n",
    "       \"of examples in X_test\""
   ]
  },
  {
   "cell_type": "code",
   "execution_count": 128,
   "metadata": {},
   "outputs": [],
   "source": [
    "grade_submitter.set_answer(\"0ENlN\", prediction_test)"
   ]
  },
  {
   "cell_type": "code",
   "execution_count": 129,
   "metadata": {},
   "outputs": [],
   "source": [
    "loss_test = s.run(\n",
    "    loss, {\n",
    "        input_X: X[:100],\n",
    "        input_y: y[-100:],\n",
    "        weights: test_weights+1.21e-3,\n",
    "        b: -1e-1})\n",
    "# Yes, the X/y indices mistmach is intentional"
   ]
  },
  {
   "cell_type": "code",
   "execution_count": 130,
   "metadata": {},
   "outputs": [],
   "source": [
    "grade_submitter.set_answer(\"mMVpM\", loss_test)"
   ]
  },
  {
   "cell_type": "code",
   "execution_count": 131,
   "metadata": {},
   "outputs": [],
   "source": [
    "grade_submitter.set_answer(\"D16Rc\", roc_auc_score(y_test, s.run(predicted_y, {input_X:X_test})))"
   ]
  },
  {
   "cell_type": "markdown",
   "metadata": {},
   "source": [
    "Please use the credentials obtained from the Coursera assignment page."
   ]
  },
  {
   "cell_type": "code",
   "execution_count": 133,
   "metadata": {},
   "outputs": [
    {
     "name": "stdout",
     "output_type": "stream",
     "text": [
      "Submitted to Coursera platform. See results on assignment page!\n"
     ]
    }
   ],
   "source": [
    "grade_submitter.submit(\"artirj@gmail.com\",\"JY0KvChW9itxwfvL\")"
   ]
  }
 ],
 "metadata": {
  "kernelspec": {
   "display_name": "Python 3",
   "language": "python",
   "name": "python3"
  },
  "language_info": {
   "codemirror_mode": {
    "name": "ipython",
    "version": 3
   },
   "file_extension": ".py",
   "mimetype": "text/x-python",
   "name": "python",
   "nbconvert_exporter": "python",
   "pygments_lexer": "ipython3",
   "version": "3.6.3"
  }
 },
 "nbformat": 4,
 "nbformat_minor": 1
}
