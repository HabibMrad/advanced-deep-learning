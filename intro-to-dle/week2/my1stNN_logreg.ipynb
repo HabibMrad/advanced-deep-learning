{
 "cells": [
  {
   "cell_type": "code",
   "execution_count": 53,
   "metadata": {
    "scrolled": true
   },
   "outputs": [
    {
     "name": "stdout",
     "output_type": "stream",
     "text": [
      "(50000, 28, 28) (50000,)\n"
     ]
    },
    {
     "data": {
      "image/png": "[encoded data removed]",
      "text/plain": [
       "<matplotlib.figure.Figure at 0x7f92b8590f28>"
      ]
     },
     "metadata": {},
     "output_type": "display_data"
    }
   ],
   "source": [
    "from preprocessed_mnist import load_dataset\n",
    "X_train, y_train, X_val, y_val, X_test, y_test = load_dataset()\n",
    "print(X_train.shape, y_train.shape)\n",
    "import matplotlib.pyplot as plt\n",
    "%matplotlib inline\n",
    "plt.imshow(X_train[2], cmap=\"Greys\");"
   ]
  },
  {
   "cell_type": "code",
   "execution_count": 57,
   "metadata": {},
   "outputs": [],
   "source": [
    "X_train, y_train, X_val, y_val, X_test, y_test = load_dataset(flatten=True)"
   ]
  },
  {
   "cell_type": "code",
   "execution_count": 173,
   "metadata": {},
   "outputs": [],
   "source": [
    "import tensorflow as tf\n",
    "import numpy as np\n",
    "from tqdm import trange\n",
    "\n",
    "N_NUMBERS = int(np.unique(y_train).shape[0])\n",
    "N_VARS    = X_train.shape[1]\n",
    "BATCH_SIZE = 256\n",
    "\n",
    "s = tf.InteractiveSession()\n",
    "\n",
    "# Model parameters - weights and bias\n",
    "W = tf.Variable(initial_value=tf.random_normal((N_VARS,N_NUMBERS)),dtype=\"float32\")\n",
    "b = tf.Variable(initial_value=tf.random_normal((1,N_NUMBERS)),dtype=\"float32\")\n",
    "\n",
    "# Placeholders for the input data\n",
    "input_X = tf.placeholder(\"float32\",shape=[None,784])\n",
    "input_y = tf.placeholder(\"int32\")\n",
    "y_ = tf.one_hot(input_y,depth=N_NUMBERS)# The model code\n",
    "\n",
    "# Compute a vector of predictions, resulting shape should be [input_X.shape[0],]\n",
    "# This is 1D, if you have extra dimensions, you can  get rid of them with tf.squeeze .\n",
    "predicted_y = tf.nn.softmax(tf.matmul(input_X,W)+b)\n",
    "\n",
    "# Loss. Should be a scalar number - average loss over all the objects\n",
    "#loss = tf.reduce_mean(-tf.log(predicted_y)*input_y2-tf.log(1-predicted_y)*(1-input_y2))\n",
    "loss =  tf.reduce_mean(-tf.reduce_sum(y_ * tf.log(predicted_y), axis=1))\n",
    "\n",
    "optimizer = tf.train.AdamOptimizer(learning_rate=1e-2).minimize(\n",
    "        loss, var_list=W)\n",
    "predicted = tf.cast(tf.argmax(predicted_y,axis=1),\"int32\")\n",
    "accuracy = tf.reduce_mean(tf.cast(tf.equal(input_y,predicted),\"float32\"))\n",
    "\n",
    "s.run(tf.global_variables_initializer())\n",
    "s.run(tf.local_variables_initializer())\n"
   ]
  },
  {
   "cell_type": "code",
   "execution_count": 101,
   "metadata": {},
   "outputs": [
    {
     "data": {
      "text/plain": [
       "array([5, 0, 4, ..., 8, 4, 8], dtype=int32)"
      ]
     },
     "execution_count": 101,
     "metadata": {},
     "output_type": "execute_result"
    }
   ],
   "source": [
    "s.run(input_y, {input_X: X_train, input_y: y_train})"
   ]
  },
  {
   "cell_type": "code",
   "execution_count": 98,
   "metadata": {},
   "outputs": [
    {
     "data": {
      "text/plain": [
       "0.092880003"
      ]
     },
     "execution_count": 98,
     "metadata": {},
     "output_type": "execute_result"
    }
   ],
   "source": [
    "s.run(tf.reduce_mean(accuracy), {input_X: X_train, input_y: y_train})"
   ]
  },
  {
   "cell_type": "code",
   "execution_count": null,
   "metadata": {},
   "outputs": [],
   "source": [
    "NRUNS = 1500\n",
    "losses=np.zeros((NRUNS,))\n",
    "test_accuracy=np.zeros((NRUNS,))\n",
    "train_accuracy=np.zeros((NRUNS,))"
   ]
  },
  {
   "cell_type": "code",
   "execution_count": 174,
   "metadata": {},
   "outputs": [
    {
     "name": "stderr",
     "output_type": "stream",
     "text": [
      "100%|██████████| 1500/1500 [00:09<00:00, 153.43it/s]\n"
     ]
    }
   ],
   "source": [
    "\n",
    "for i in trange(1500):    \n",
    "    \n",
    "    batch_idx = np.random.choice(np.arange(0,X_test.shape[0]),size=BATCH_SIZE)\n",
    "    \n",
    "    X_test_mini = X_test[batch_idx,:]\n",
    "    y_test_mini = y_test[batch_idx]  \n",
    "    \n",
    "    X_train_mini = X_train[batch_idx,:]\n",
    "    y_train_mini = y_train[batch_idx] \n",
    "    \n",
    "    s.run(optimizer, {input_X: X_train_mini, input_y: y_train_mini})\n",
    "    loss_i[i] = s.run(loss, {input_X: X_train_mini, input_y: y_train_mini})\n",
    "    \n",
    "    train_accuracy_i = s.run(accuracy, {input_X: X_train_mini, input_y: y_train_mini})\n",
    "    test_accuracy_i  = s.run(accuracy,{input_X: X_test_mini, input_y: y_test_mini})\n",
    "    \n",
    "    \n",
    "    train_accuracy.append(train_accuracy_i)\n",
    "    test_accuracy.append(test_accuracy_i)\n",
    "    losses.append(loss_i)\n",
    "    \n",
    "   # if i % 100 == 0:\n",
    "       # print(\"loss at iter %i:%.4f\" % (i, loss_i))\n"
   ]
  },
  {
   "cell_type": "code",
   "execution_count": 175,
   "metadata": {},
   "outputs": [
    {
     "name": "stdout",
     "output_type": "stream",
     "text": [
      "Final accuracy:0.8913999795913696\n"
     ]
    },
    {
     "data": {
      "image/png": "[encoded data removed]",
      "text/plain": [
       "<matplotlib.figure.Figure at 0x7f91c404aac8>"
      ]
     },
     "metadata": {},
     "output_type": "display_data"
    }
   ],
   "source": [
    "plt.figure(figsize=(12,6))\n",
    "plt.subplot(1,2,1)\n",
    "plt.plot(losses)\n",
    "plt.subplot(1,2,2)\n",
    "plt.plot(train_accuracy)\n",
    "plt.plot(test_accuracy,marker=\"*\")\n",
    "print(\"Final accuracy:{}\".format(s.run(accuracy, {input_X: X_test, input_y: y_test})))"
   ]
  },
  {
   "cell_type": "code",
   "execution_count": null,
   "metadata": {},
   "outputs": [],
   "source": [
    "#https://www.tensorflow.org/get_started/mnist/beginners"
   ]
  }
 ],
 "metadata": {
  "kernelspec": {
   "display_name": "Python 3",
   "language": "python",
   "name": "python3"
  },
  "language_info": {
   "codemirror_mode": {
    "name": "ipython",
    "version": 3
   },
   "file_extension": ".py",
   "mimetype": "text/x-python",
   "name": "python",
   "nbconvert_exporter": "python",
   "pygments_lexer": "ipython3",
   "version": "3.6.3"
  }
 },
 "nbformat": 4,
 "nbformat_minor": 2
}
